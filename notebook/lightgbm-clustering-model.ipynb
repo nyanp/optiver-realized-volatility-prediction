{
 "cells": [
  {
   "cell_type": "code",
   "execution_count": 1,
   "id": "94f7d51f",
   "metadata": {
    "execution": {
     "iopub.execute_input": "2021-09-23T00:31:39.453209Z",
     "iopub.status.busy": "2021-09-23T00:31:39.448531Z",
     "iopub.status.idle": "2021-09-23T00:31:43.172662Z",
     "shell.execute_reply": "2021-09-23T00:31:43.171596Z",
     "shell.execute_reply.started": "2021-09-22T12:58:06.940993Z"
    },
    "papermill": {
     "duration": 3.76395,
     "end_time": "2021-09-23T00:31:43.172857",
     "exception": false,
     "start_time": "2021-09-23T00:31:39.408907",
     "status": "completed"
    },
    "tags": []
   },
   "outputs": [
    {
     "data": {
      "text/html": [
       "<style type='text/css'>\n",
       ".datatable table.frame { margin-bottom: 0; }\n",
       ".datatable table.frame thead { border-bottom: none; }\n",
       ".datatable table.frame tr.coltypes td {  color: #FFFFFF;  line-height: 6px;  padding: 0 0.5em;}\n",
       ".datatable .bool    { background: #DDDD99; }\n",
       ".datatable .object  { background: #565656; }\n",
       ".datatable .int     { background: #5D9E5D; }\n",
       ".datatable .float   { background: #4040CC; }\n",
       ".datatable .str     { background: #CC4040; }\n",
       ".datatable .time    { background: #40CC40; }\n",
       ".datatable .row_index {  background: var(--jp-border-color3);  border-right: 1px solid var(--jp-border-color0);  color: var(--jp-ui-font-color3);  font-size: 9px;}\n",
       ".datatable .frame tbody td { text-align: left; }\n",
       ".datatable .frame tr.coltypes .row_index {  background: var(--jp-border-color0);}\n",
       ".datatable th:nth-child(2) { padding-left: 12px; }\n",
       ".datatable .hellipsis {  color: var(--jp-cell-editor-border-color);}\n",
       ".datatable .vellipsis {  background: var(--jp-layout-color0);  color: var(--jp-cell-editor-border-color);}\n",
       ".datatable .na {  color: var(--jp-cell-editor-border-color);  font-size: 80%;}\n",
       ".datatable .sp {  opacity: 0.25;}\n",
       ".datatable .footer { font-size: 9px; }\n",
       ".datatable .frame_dimensions {  background: var(--jp-border-color3);  border-top: 1px solid var(--jp-border-color0);  color: var(--jp-ui-font-color3);  display: inline-block;  opacity: 0.6;  padding: 1px 10px 1px 5px;}\n",
       "</style>\n"
      ],
      "text/plain": [
       "<IPython.core.display.HTML object>"
      ]
     },
     "metadata": {},
     "output_type": "display_data"
    }
   ],
   "source": [
    "import os\n",
    "import sys\n",
    "import time\n",
    "from typing import List, Optional\n",
    "\n",
    "import seaborn as sns\n",
    "import pandas as pd\n",
    "import numpy as np\n",
    "import matplotlib.pyplot as plt\n",
    "import lightgbm as lgb\n",
    "\n",
    "from sklearn.model_selection import GroupKFold\n",
    "from contextlib import contextmanager\n",
    "from enum import Enum\n",
    "from joblib import Parallel, delayed\n",
    "from tqdm import tqdm_notebook as tqdm\n",
    "from numba import jit\n",
    "\n",
    "%matplotlib inline\n",
    "\n",
    "DATA_DIR = '../input'\n",
    "\n",
    "USE_PRECOMPUTE_FEATURES = True\n",
    "TRAIN_FULL = True\n",
    "PREDICT_CNN = True\n",
    "PREDICT_MLP = True\n",
    "PREDICT_GBDT = True\n",
    "IS_1ST_STAGE = False\n",
    "NN_VALID_TH = 0.19\n",
    "\n",
    "ENSEMBLE_METHOD = 'mean'\n",
    "NN_NUM_MODELS = 3\n",
    "SHORTCUT_NN_IN_1ST_STAGE = False\n",
    "GBDT_NUM_MODELS = 3\n",
    "GBDT_LR = 0.02  # 0.1\n",
    "\n",
    "@contextmanager\n",
    "def timer(name: str):\n",
    "    s = time.time()\n",
    "    yield\n",
    "    elapsed = time.time() - s\n",
    "    print(f'[{name}] {elapsed: .3f}sec')\n",
    "\n",
    "\n",
    "class DataBlock(Enum):\n",
    "    TRAIN = 1\n",
    "    TEST = 2\n",
    "    BOTH = 3\n",
    "\n",
    "    \n",
    "def load_stock_data(stock_id, directory):\n",
    "    return pd.read_parquet(os.path.join(DATA_DIR, 'optiver-realized-volatility-prediction', directory, f'stock_id={stock_id}'))\n",
    "    \n",
    "def load_data(stock_id, stem, block):\n",
    "    if block == DataBlock.TRAIN:\n",
    "        return load_stock_data(stock_id, f'{stem}_train.parquet')\n",
    "    elif block == DataBlock.TEST:\n",
    "        return load_stock_data(stock_id, f'{stem}_test.parquet')\n",
    "    else:\n",
    "        return pd.concat([\n",
    "            load_data(stock_id, stem, DataBlock.TRAIN),\n",
    "            load_data(stock_id, stem, DataBlock.TEST)\n",
    "        ]).reset_index(drop=True)\n",
    "\n",
    "def load_book(stock_id, block=DataBlock.TRAIN):\n",
    "    return load_data(stock_id, 'book', block)\n",
    "\n",
    "def load_trade(stock_id, block=DataBlock.TRAIN):\n",
    "    return load_data(stock_id, 'trade', block)\n"
   ]
  },
  {
   "cell_type": "code",
   "execution_count": 2,
   "id": "e95d20c8",
   "metadata": {
    "execution": {
     "iopub.execute_input": "2021-09-23T00:31:43.218168Z",
     "iopub.status.busy": "2021-09-23T00:31:43.217378Z",
     "iopub.status.idle": "2021-09-23T00:31:43.220119Z",
     "shell.execute_reply": "2021-09-23T00:31:43.219687Z",
     "shell.execute_reply.started": "2021-09-22T12:58:10.034709Z"
    },
    "papermill": {
     "duration": 0.026494,
     "end_time": "2021-09-23T00:31:43.220232",
     "exception": false,
     "start_time": "2021-09-23T00:31:43.193738",
     "status": "completed"
    },
    "tags": []
   },
   "outputs": [],
   "source": [
    "def in_colab() -> bool:\n",
    "    return 'google.colab' in sys.modules\n",
    "\n",
    "def in_kaggle() -> bool:\n",
    "    return 'kaggle_web_client' in sys.modules\n",
    "\n",
    "if in_colab():\n",
    "    from google.colab import drive\n",
    "    drive.mount('/content/drive')"
   ]
  },
  {
   "cell_type": "code",
   "execution_count": 3,
   "id": "07affe06",
   "metadata": {
    "execution": {
     "iopub.execute_input": "2021-09-23T00:31:43.263557Z",
     "iopub.status.busy": "2021-09-23T00:31:43.262929Z",
     "iopub.status.idle": "2021-09-23T00:31:43.627167Z",
     "shell.execute_reply": "2021-09-23T00:31:43.628205Z",
     "shell.execute_reply.started": "2021-09-22T12:58:10.042967Z"
    },
    "papermill": {
     "duration": 0.388541,
     "end_time": "2021-09-23T00:31:43.628413",
     "exception": false,
     "start_time": "2021-09-23T00:31:43.239872",
     "status": "completed"
    },
    "tags": []
   },
   "outputs": [],
   "source": [
    "train = pd.read_csv(os.path.join(DATA_DIR, 'optiver-realized-volatility-prediction', 'train.csv'))\n",
    "stock_ids = set(train['stock_id'])"
   ]
  },
  {
   "cell_type": "markdown",
   "id": "b1213ac2",
   "metadata": {
    "papermill": {
     "duration": 0.031792,
     "end_time": "2021-09-23T00:31:43.693320",
     "exception": false,
     "start_time": "2021-09-23T00:31:43.661528",
     "status": "completed"
    },
    "tags": []
   },
   "source": [
    "## Feature Engineering\n",
    "\n",
    "### Base Features"
   ]
  },
  {
   "cell_type": "code",
   "execution_count": 4,
   "id": "0eb0df35",
   "metadata": {
    "_kg_hide-input": true,
    "execution": {
     "iopub.execute_input": "2021-09-23T00:31:43.767698Z",
     "iopub.status.busy": "2021-09-23T00:31:43.766691Z",
     "iopub.status.idle": "2021-09-23T00:31:53.559231Z",
     "shell.execute_reply": "2021-09-23T00:31:53.558666Z",
     "shell.execute_reply.started": "2021-09-22T12:58:10.333189Z"
    },
    "papermill": {
     "duration": 9.833851,
     "end_time": "2021-09-23T00:31:53.559395",
     "exception": false,
     "start_time": "2021-09-23T00:31:43.725544",
     "status": "completed"
    },
    "tags": []
   },
   "outputs": [
    {
     "name": "stdout",
     "output_type": "stream",
     "text": [
      "[load feather]  5.974sec\n",
      "[books]  1.197sec\n",
      "[trades]  0.348sec\n",
      "[extra features]  0.034sec\n",
      "[books(v2)]  0.021sec\n",
      "(428932, 216)\n",
      "(3, 216)\n"
     ]
    }
   ],
   "source": [
    "# Function to calculate first WAP\n",
    "def calc_wap1(df):\n",
    "    wap = (df['bid_price1'] * df['ask_size1'] + df['ask_price1'] * df['bid_size1']) / (df['bid_size1'] + df['ask_size1'])\n",
    "    return wap\n",
    "\n",
    "# Function to calculate second WAP\n",
    "def calc_wap2(df):\n",
    "    wap = (df['bid_price2'] * df['ask_size2'] + df['ask_price2'] * df['bid_size2']) / (df['bid_size2'] + df['ask_size2'])\n",
    "    return wap\n",
    "\n",
    "# Calculate the realized volatility\n",
    "def realized_volatility(series):\n",
    "    return np.sqrt(np.sum(series**2))\n",
    "\n",
    "# Function to calculate the log of the return\n",
    "# Remember that logb(x / y) = logb(x) - logb(y)\n",
    "def log_return(series: np.ndarray):\n",
    "    return np.log(series).diff()\n",
    "\n",
    "def log_return_df2(series: np.ndarray):\n",
    "    return np.log(series).diff(2)\n",
    "\n",
    "def flatten_name(prefix, src_names):\n",
    "    ret = []\n",
    "    for c in src_names:\n",
    "        if c[0] in ['time_id', 'stock_id']:\n",
    "            ret.append(c[0])\n",
    "        else:\n",
    "            ret.append('.'.join([prefix] + list(c)))\n",
    "    return ret\n",
    "\n",
    "\n",
    "def make_book_feature(stock_id, block = DataBlock.TRAIN):\n",
    "    book = load_book(stock_id, block)\n",
    "\n",
    "    book['wap1'] = calc_wap1(book)\n",
    "    book['wap2'] = calc_wap2(book)\n",
    "    book['log_return1'] = book.groupby(['time_id'])['wap1'].apply(log_return)\n",
    "    book['log_return2'] = book.groupby(['time_id'])['wap2'].apply(log_return)\n",
    "    book['log_return_ask1'] = book.groupby(['time_id'])['ask_price1'].apply(log_return)\n",
    "    book['log_return_ask2'] = book.groupby(['time_id'])['ask_price2'].apply(log_return)\n",
    "    book['log_return_bid1'] = book.groupby(['time_id'])['bid_price1'].apply(log_return)\n",
    "    book['log_return_bid2'] = book.groupby(['time_id'])['bid_price2'].apply(log_return)\n",
    "\n",
    "    # Calculate wap balance\n",
    "    book['wap_balance'] = abs(book['wap1'] - book['wap2'])\n",
    "    # Calculate spread\n",
    "    book['price_spread'] = (book['ask_price1'] - book['bid_price1']) / ((book['ask_price1'] + book['bid_price1']) / 2)\n",
    "    book['bid_spread'] = book['bid_price1'] - book['bid_price2']\n",
    "    book['ask_spread'] = book['ask_price1'] - book['ask_price2']\n",
    "    book['total_volume'] = (book['ask_size1'] + book['ask_size2']) + (book['bid_size1'] + book['bid_size2'])\n",
    "    book['volume_imbalance'] = abs((book['ask_size1'] + book['ask_size2']) - (book['bid_size1'] + book['bid_size2']))\n",
    "    \n",
    "    features = {\n",
    "        'seconds_in_bucket': ['count'],\n",
    "        'wap1': [np.sum, np.mean, np.std],\n",
    "        'wap2': [np.sum, np.mean, np.std],\n",
    "        'log_return1': [np.sum, realized_volatility, np.mean, np.std],\n",
    "        'log_return2': [np.sum, realized_volatility, np.mean, np.std],\n",
    "        'log_return_ask1': [np.sum, realized_volatility, np.mean, np.std],\n",
    "        'log_return_ask2': [np.sum, realized_volatility, np.mean, np.std],\n",
    "        'log_return_bid1': [np.sum, realized_volatility, np.mean, np.std],\n",
    "        'log_return_bid2': [np.sum, realized_volatility, np.mean, np.std],\n",
    "        'wap_balance': [np.sum, np.mean, np.std],\n",
    "        'price_spread':[np.sum, np.mean, np.std],\n",
    "        'bid_spread':[np.sum, np.mean, np.std],\n",
    "        'ask_spread':[np.sum, np.mean, np.std],\n",
    "        'total_volume':[np.sum, np.mean, np.std],\n",
    "        'volume_imbalance':[np.sum, np.mean, np.std]\n",
    "    }\n",
    "    \n",
    "    agg = book.groupby('time_id').agg(features).reset_index(drop=False)\n",
    "    agg.columns = flatten_name('book', agg.columns)\n",
    "    agg['stock_id'] = stock_id\n",
    "    \n",
    "    for time in [450, 300, 150]:\n",
    "        d = book[book['seconds_in_bucket'] >= time].groupby('time_id').agg(features).reset_index(drop=False)\n",
    "        d.columns = flatten_name(f'book_{time}', d.columns)\n",
    "        agg = pd.merge(agg, d, on='time_id', how='left')\n",
    "    return agg\n",
    "\n",
    "\n",
    "def make_trade_feature(stock_id, block = DataBlock.TRAIN):\n",
    "    trade = load_trade(stock_id, block)\n",
    "    trade['log_return'] = trade.groupby('time_id')['price'].apply(log_return)\n",
    "\n",
    "    # Dict for aggregations\n",
    "    features = {\n",
    "        'log_return':[realized_volatility],\n",
    "        'seconds_in_bucket':['count'],\n",
    "        'size':[np.sum],\n",
    "        'order_count':[np.mean],\n",
    "    }\n",
    "\n",
    "    agg = trade.groupby('time_id').agg(features).reset_index()\n",
    "    agg.columns = flatten_name('trade', agg.columns)\n",
    "    agg['stock_id'] = stock_id\n",
    "        \n",
    "    for time in [450, 300, 150]:\n",
    "        d = trade[trade['seconds_in_bucket'] >= time].groupby('time_id').agg(features).reset_index(drop=False)\n",
    "        d.columns = flatten_name(f'trade_{time}', d.columns)\n",
    "        agg = pd.merge(agg, d, on='time_id', how='left')\n",
    "    return agg\n",
    "\n",
    "\n",
    "def make_book_feature_v2(stock_id, block = DataBlock.TRAIN):\n",
    "    book = load_book(stock_id, block)\n",
    "\n",
    "    prices = book.set_index('time_id')[['bid_price1', 'ask_price1', 'bid_price2', 'ask_price2']]\n",
    "    time_ids = list(set(prices.index))\n",
    "\n",
    "    ticks = {}\n",
    "    for tid in time_ids:\n",
    "        price_list = prices.loc[tid].values.flatten()\n",
    "        price_diff = sorted(np.diff(sorted(set(price_list))))\n",
    "        ticks[tid] = price_diff[0]\n",
    "        \n",
    "    dst = pd.DataFrame()\n",
    "    dst['time_id'] = np.unique(book['time_id'])\n",
    "    dst['stock_id'] = stock_id\n",
    "    dst['tick_size'] = dst['time_id'].map(ticks)\n",
    "\n",
    "    #book['tick_size'] = book['time_id'].map(ticks)\n",
    "    \n",
    "    # https://www.kaggle.com/lucasmorin/volatility-maximum-likelihood-estimation/comments#1495387\n",
    "    #book['log_wap'] = np.log(calc_wap1(book))\n",
    "    #book['log_return'] = book.groupby('time_id')['log_wap'].diff()\n",
    "    #book['dt'] = book.groupby('time_id')['seconds_in_bucket'].diff()\n",
    "    #book['inv_dt'] = 1 / book['dt']\n",
    "    #book['estimated_volatility'] = np.power(book['log_return'] / np.sqrt(book['dt']), 2)\n",
    "    #agg = book.groupby('time_id')['estimated_volatility'].sum()\n",
    "    #dst['book.estimated_volatility'] = dst['time_id'].map(agg)\n",
    "    #dst['book.estimated_volatility'] = np.sqrt(dst['book.estimated_volatility'])\n",
    "\n",
    "    #book['log_return_df2'] = book.groupby(['time_id'])['wap1'].apply(log_return_df2)\n",
    "    #book['price_spread_tick'] = (book['ask_price1'] - book['bid_price1']) / book['tick_size']\n",
    "    #agg = book.groupby('time_id')['inv_dt'].mean()\n",
    "    #dst['book.inv_dt.mean'] = dst['time_id'].map(agg)\n",
    "\n",
    "    return dst\n",
    "\n",
    "\n",
    "def make_trade_feature_v2(stock_id, block = DataBlock.TRAIN):\n",
    "    trade = load_trade(stock_id, block)\n",
    "    trade['log_return'] = trade.groupby('time_id')['price'].apply(log_return)\n",
    "\n",
    "    # Dict for aggregations\n",
    "    features = {\n",
    "        'size':[np.mean],\n",
    "        'order_count':[np.sum],\n",
    "    }\n",
    "\n",
    "    agg = trade.groupby('time_id').agg(features).reset_index()\n",
    "    agg.columns = flatten_name('trade', agg.columns)\n",
    "    agg['stock_id'] = stock_id\n",
    "        \n",
    "    for time in [450, 300, 150]:\n",
    "        d = trade[trade['seconds_in_bucket'] >= time].groupby('time_id').agg(features).reset_index(drop=False)\n",
    "        d.columns = flatten_name(f'trade_{time}', d.columns)\n",
    "        agg = pd.merge(agg, d, on='time_id', how='left')\n",
    "    return agg\n",
    "\n",
    "def make_features(base, block):\n",
    "    stock_ids = set(base['stock_id'])\n",
    "    with timer('books'):\n",
    "        books = Parallel(n_jobs=-1)(delayed(make_book_feature)(i, block) for i in stock_ids)\n",
    "        book = pd.concat(books)\n",
    "\n",
    "    with timer('trades'):\n",
    "        trades = Parallel(n_jobs=-1)(delayed(make_trade_feature)(i, block) for i in stock_ids)\n",
    "        trade = pd.concat(trades)\n",
    "\n",
    "    with timer('extra features'):\n",
    "        df = pd.merge(base, book, on=['stock_id', 'time_id'], how='left')\n",
    "        df = pd.merge(df, trade, on=['stock_id', 'time_id'], how='left')\n",
    "        #df = make_extra_features(df)\n",
    "        \n",
    "    return df\n",
    "\n",
    "def make_features_v2(base, block):\n",
    "    stock_ids = set(base['stock_id'])\n",
    "    with timer('books(v2)'):\n",
    "        books = Parallel(n_jobs=-1)(delayed(make_book_feature_v2)(i, block) for i in stock_ids)\n",
    "        book_v2 = pd.concat(books)\n",
    "    #with timer('trades(v2)'):\n",
    "    #    trades = Parallel(n_jobs=-1)(delayed(make_trade_feature_v2)(i, block) for i in stock_ids)\n",
    "    #    trade_v2 = pd.concat(trades)\n",
    "\n",
    "    d = pd.merge(base, book_v2, on=['stock_id', 'time_id'], how='left')\n",
    "    return d\n",
    "    #return pd.merge(d, trade_v2, on=['stock_id', 'time_id'], how='left')\n",
    "    \n",
    "if USE_PRECOMPUTE_FEATURES:\n",
    "    with timer('load feather'):\n",
    "        df = pd.read_feather(os.path.join(DATA_DIR, 'optiver-df2', 'features_v2.f'))\n",
    "else:\n",
    "    df = make_features(train, DataBlock.TRAIN)\n",
    "    # v2\n",
    "    df = make_features_v2(df, DataBlock.TRAIN)\n",
    "\n",
    "df.to_feather('features_v2.f')\n",
    "\n",
    "test = pd.read_csv(os.path.join(DATA_DIR, 'optiver-realized-volatility-prediction', 'test.csv'))\n",
    "if len(test) == 3:\n",
    "    IS_1ST_STAGE = True\n",
    "\n",
    "test_df = make_features(test, DataBlock.TEST)\n",
    "test_df = make_features_v2(test_df, DataBlock.TEST)\n",
    "\n",
    "print(df.shape)\n",
    "print(test_df.shape)\n",
    "df = pd.concat([df, test_df.drop('row_id', axis=1)]).reset_index(drop=True)\n",
    "\n",
    "df['trade.tau'] = np.sqrt(1 / df['trade.seconds_in_bucket.count'])\n",
    "df['trade_150.tau'] = np.sqrt(1 / df['trade_150.seconds_in_bucket.count'])\n",
    "df['book.tau'] = np.sqrt(1 / df['book.seconds_in_bucket.count'])\n",
    "#df['book.log_return1.realized_volatility.sq'] = np.power(df['book.log_return1.realized_volatility'], 2)"
   ]
  },
  {
   "cell_type": "markdown",
   "id": "615693c8",
   "metadata": {
    "papermill": {
     "duration": 0.020766,
     "end_time": "2021-09-23T00:31:53.604450",
     "exception": false,
     "start_time": "2021-09-23T00:31:53.583684",
     "status": "completed"
    },
    "tags": []
   },
   "source": [
    "### Nearest-Neighbor Features"
   ]
  },
  {
   "cell_type": "code",
   "execution_count": 5,
   "id": "1cee3a84",
   "metadata": {
    "execution": {
     "iopub.execute_input": "2021-09-23T00:31:53.661518Z",
     "iopub.status.busy": "2021-09-23T00:31:53.660282Z",
     "iopub.status.idle": "2021-09-23T00:38:44.251801Z",
     "shell.execute_reply": "2021-09-23T00:38:44.252206Z",
     "shell.execute_reply.started": "2021-09-22T12:58:26.234732Z"
    },
    "papermill": {
     "duration": 410.626053,
     "end_time": "2021-09-23T00:38:44.252355",
     "exception": false,
     "start_time": "2021-09-23T00:31:53.626302",
     "status": "completed"
    },
    "tags": []
   },
   "outputs": [
    {
     "name": "stdout",
     "output_type": "stream",
     "text": [
      "[knn fit]  410.567sec\n"
     ]
    }
   ],
   "source": [
    "from sklearn.neighbors import NearestNeighbors\n",
    "from sklearn.preprocessing import minmax_scale\n",
    "\n",
    "N_NEIGHBORS_MAX = 80\n",
    "\n",
    "class Neighbors:\n",
    "    def __init__(self, pivot, p, metric='minkowski', metric_params=None):\n",
    "        nn = NearestNeighbors(n_neighbors=N_NEIGHBORS_MAX, p=p, metric=metric, metric_params=metric_params)\n",
    "        nn.fit(pivot)\n",
    "        self.distances, self.neighbors = nn.kneighbors(pivot, return_distance=True)\n",
    "\n",
    "with timer('knn fit'):\n",
    "    df_pv = df[['stock_id', 'time_id']].copy()\n",
    "    df_pv['price'] = 0.01 / df['tick_size']\n",
    "    df_pv['vol'] = df['book.log_return1.realized_volatility']\n",
    "    df_pv['trade.tau'] = df['trade.tau']\n",
    "    df_pv['trade.size.sum'] = df['book.total_volume.sum']\n",
    "\n",
    "    pivot = df_pv.pivot('time_id', 'stock_id', 'price')\n",
    "    pivot = pivot.fillna(pivot.mean())\n",
    "    pivot = pd.DataFrame(minmax_scale(pivot))\n",
    "    \n",
    "    k_neighbors_p2 = Neighbors(pivot, 2, metric='canberra')\n",
    "    k_neighbors_p1 = Neighbors(pivot, 2, metric='mahalanobis', metric_params={'V':np.cov(pivot.values.T)})\n",
    "    k_neighbors_stock = Neighbors(minmax_scale(pivot.transpose()), 1)\n",
    "\n",
    "    pivot = df_pv.pivot('time_id', 'stock_id', 'vol')\n",
    "\n",
    "    #pivot = pd.concat([df_pv.pivot('time_id', 'stock_id', 'vol'), df_pv.pivot('time_id', 'stock_id', 'trade.tau')], axis=1).copy()\n",
    "    pivot = pivot.fillna(pivot.mean())\n",
    "    pivot = pd.DataFrame(minmax_scale(pivot))\n",
    "    \n",
    "    k_neighbors_vol = Neighbors(pivot, 1)\n",
    "    k_neighbors_stock_vol = Neighbors(minmax_scale(pivot.transpose()), 1)\n",
    "    \n",
    "    pivot = df_pv.pivot('time_id', 'stock_id', 'trade.size.sum')\n",
    "    pivot = pivot.fillna(pivot.mean())\n",
    "    pivot = pd.DataFrame(minmax_scale(pivot))\n",
    "    k_neighbors_size = Neighbors(pivot, 2, metric='mahalanobis', metric_params={'V':np.cov(pivot.values.T)})\n",
    "    k_neighbors_size_p2 = Neighbors(pivot, 2, metric='canberra')\n",
    "    k_neighbors_stock_size = Neighbors(minmax_scale(pivot.transpose()), 1)\n"
   ]
  },
  {
   "cell_type": "code",
   "execution_count": 6,
   "id": "5837dc4f",
   "metadata": {
    "execution": {
     "iopub.execute_input": "2021-09-23T00:38:44.305299Z",
     "iopub.status.busy": "2021-09-23T00:38:44.304666Z",
     "iopub.status.idle": "2021-09-23T00:38:44.308030Z",
     "shell.execute_reply": "2021-09-23T00:38:44.307591Z",
     "shell.execute_reply.started": "2021-09-22T13:06:17.150192Z"
    },
    "papermill": {
     "duration": 0.034269,
     "end_time": "2021-09-23T00:38:44.308132",
     "exception": false,
     "start_time": "2021-09-23T00:38:44.273863",
     "status": "completed"
    },
    "tags": []
   },
   "outputs": [],
   "source": [
    "def make_neighbors(df, k_neighbors, feature_col, n=5):\n",
    "    feature_pivot = df.pivot('time_id', 'stock_id', feature_col)\n",
    "    feature_pivot = feature_pivot.fillna(feature_pivot.mean())\n",
    "    feature_pivot.head()\n",
    "    \n",
    "    neighbors = np.zeros((n, *feature_pivot.shape))\n",
    "\n",
    "    for i in range(n):\n",
    "        neighbors[i, :, :] += feature_pivot.values[k_neighbors[:, i], :]\n",
    "        \n",
    "    return feature_pivot, neighbors\n",
    "\n",
    "def make_neighbors_stock(df, k_neighbors, feature_col, n=5):\n",
    "    feature_pivot = df.pivot('time_id', 'stock_id', feature_col)\n",
    "    feature_pivot = feature_pivot.fillna(feature_pivot.mean())\n",
    "    feature_pivot.head()\n",
    "    \n",
    "    neighbors = np.zeros((n, *feature_pivot.shape))\n",
    "\n",
    "    for i in range(n):\n",
    "        neighbors[i, :, :] += feature_pivot.values[:, k_neighbors[:, i]]\n",
    "        \n",
    "    return feature_pivot, neighbors\n",
    "\n",
    "def make_nn_feature(df, neighbors, columns, index, n=5, agg=np.mean, postfix='', exclude_self=False, exact=False):\n",
    "    start = 1 if exclude_self else 0\n",
    "    \n",
    "    if exact:\n",
    "        pivot_aggs = pd.DataFrame(neighbors[n-1,:,:], columns=columns, index=index)\n",
    "    else:\n",
    "        pivot_aggs = pd.DataFrame(agg(neighbors[start:n,:,:], axis=0), columns=columns, index=index)\n",
    "    dst = pivot_aggs.unstack().reset_index()\n",
    "    dst.columns = ['stock_id', 'time_id', f'{feature_col}_cluster{n}{postfix}_{agg.__name__}']\n",
    "    return dst\n"
   ]
  },
  {
   "cell_type": "code",
   "execution_count": 7,
   "id": "af2208f5",
   "metadata": {
    "execution": {
     "iopub.execute_input": "2021-09-23T00:38:44.534498Z",
     "iopub.status.busy": "2021-09-23T00:38:44.369069Z",
     "iopub.status.idle": "2021-09-23T00:40:03.407878Z",
     "shell.execute_reply": "2021-09-23T00:40:03.408610Z",
     "shell.execute_reply.started": "2021-09-22T13:06:17.162298Z"
    },
    "papermill": {
     "duration": 79.079514,
     "end_time": "2021-09-23T00:40:03.408885",
     "exception": false,
     "start_time": "2021-09-23T00:38:44.329371",
     "status": "completed"
    },
    "tags": []
   },
   "outputs": [
    {
     "name": "stdout",
     "output_type": "stream",
     "text": [
      "(428935, 219)\n",
      "(428935, 581)\n"
     ]
    }
   ],
   "source": [
    "import gc\n",
    "from scipy.stats import rankdata\n",
    "\n",
    "def rank_data(a, axis=None):\n",
    "    return a[0] - np.min(a, axis=axis)\n",
    "\n",
    "gc.collect()\n",
    "\n",
    "df2 = df.copy()\n",
    "print(df2.shape)\n",
    "\n",
    "df2['real_price'] = 0.01 / df2['tick_size']\n",
    "del df2['tick_size']\n",
    "\n",
    "# relative rank\n",
    "df2['trade.order_count.mean'] = df2.groupby('time_id')['trade.order_count.mean'].rank()\n",
    "df2['book.total_volume.sum'] = df2.groupby('time_id')['book.total_volume.sum'].rank()\n",
    "df2['book.total_volume.mean'] = df2.groupby('time_id')['book.total_volume.mean'].rank()\n",
    "df2['book.total_volume.std'] = df2.groupby('time_id')['book.total_volume.std'].rank()\n",
    "\n",
    "df2['trade.tau'] = df2.groupby('time_id')['trade.tau'].rank()\n",
    "\n",
    "#df2['trade_300.tau'] = df2.groupby('time_id')['trade_300.tau'].rank()\n",
    "#df2['book.total_volume.std'] = df2.groupby('time_id')['book.total_volume.std'].rank()\n",
    "#df2['trade.size.sum'] = df2.groupby('time_id')['trade.size.sum'].rank()\n",
    "\n",
    "for dt in [150, 300, 450]:\n",
    "    df2[f'book_{dt}.total_volume.sum'] = df2.groupby('time_id')[f'book_{dt}.total_volume.sum'].rank()\n",
    "    df2[f'book_{dt}.total_volume.mean'] = df2.groupby('time_id')[f'book_{dt}.total_volume.mean'].rank()\n",
    "    df2[f'book_{dt}.total_volume.std'] = df2.groupby('time_id')[f'book_{dt}.total_volume.std'].rank()\n",
    "    df2[f'trade_{dt}.order_count.mean'] = df2.groupby('time_id')[f'trade_{dt}.order_count.mean'].rank()\n",
    "\n",
    "#df2.groupby('time_id')['book.volume_imbalance.sum'].rank()\n",
    "#df2['tick_size'] = df2.groupby('time_id')['tick_size'].rank()\n",
    "\n",
    "feature_cols_stock = {\n",
    "    'book.log_return1.realized_volatility': [np.mean, np.min, np.max, np.std],\n",
    "\n",
    "    'trade.seconds_in_bucket.count': [np.mean],\n",
    "    'trade.tau': [np.mean],\n",
    "    'trade_150.tau': [np.mean],\n",
    "    'book.tau': [np.mean],\n",
    "    'trade.size.sum': [np.mean],\n",
    "    'book.seconds_in_bucket.count': [np.mean],\n",
    "    \n",
    "    #'trade.order_count.mean': [np.mean],\n",
    "    #'avg_time_vol': [np.mean],\n",
    "    #'trade_150.tau': [np.mean],\n",
    "    #'trade_450.tau': [np.mean],\n",
    "    #'book.total_volume.sum': [np.mean],\n",
    "    #'book.volume_imbalance.mean': [np.mean],\n",
    "}\n",
    "    \n",
    "feature_cols = {\n",
    "    'book.log_return1.realized_volatility': [np.mean, np.min, np.max, np.std],\n",
    "    #'book_150.log_return1.realized_volatility': [np.mean, np.min],\n",
    "    #'book_300.log_return1.realized_volatility': [np.mean, np.min],\n",
    "    #'book_450.log_return1.realized_volatility': [np.mean, np.min],\n",
    "    \n",
    "    'real_price': [np.max, np.mean, np.min],\n",
    "\n",
    "    'trade.seconds_in_bucket.count': [np.mean],\n",
    "    'trade.tau': [np.mean],\n",
    "    'trade.size.sum': [np.mean],\n",
    "    'book.seconds_in_bucket.count': [np.mean],\n",
    "    \n",
    "    'trade_150.tau_cluster20_sv_mean': [np.mean],  # \"volatilityの傾向が似ている20銘柄での直前300secの平均tau\" の、近い時刻での平均\n",
    "    'trade.size.sum_cluster20_sv_mean': [np.mean],\n",
    "    #'book.log_return1.realized_volatility.sq': [np.sum],\n",
    "    #'book.estimated_volatility': [np.mean],\n",
    "    #'trade.order_count.mean': [np.mean],\n",
    "    #'book.total_volume.sum': [np.mean],\n",
    "    #'book.volume_imbalance.mean': [np.mean],\n",
    "    #'avg_time_vol': [np.mean],\n",
    "    #'book.ask_spread.mean': [np.mean],\n",
    "    #'book.bid_spread.mean': [np.mean],\n",
    "}\n",
    "\n",
    "time_id_neigbor_sizes = [3, 5, 10, 20, 40]\n",
    "time_id_neigbor_sizes_vol = [2, 3, 5, 10, 20, 40]\n",
    "stock_id_neighbor_sizes = [10, 20, 40]\n",
    "\n",
    "ndf = None\n",
    "\n",
    "cols = []\n",
    "\n",
    "def _add_ndf(ndf, dst):\n",
    "    if ndf is None:\n",
    "        return dst\n",
    "    else:\n",
    "        ndf[dst.columns[-1]] = dst[dst.columns[-1]].astype(np.float32)\n",
    "        return ndf\n",
    "\n",
    "# neighbor stock_id\n",
    "for feature_col in feature_cols_stock.keys():\n",
    "    feature_pivot, neighbors_stock = make_neighbors_stock(df2, k_neighbors_stock.neighbors, feature_col, n=N_NEIGHBORS_MAX)\n",
    "    _, neighbors_stock_vol = make_neighbors_stock(df2, k_neighbors_stock_vol.neighbors, feature_col, n=N_NEIGHBORS_MAX)\n",
    "    _, neighbors_stock_size = make_neighbors_stock(df2, k_neighbors_stock_size.neighbors, feature_col, n=N_NEIGHBORS_MAX)\n",
    "\n",
    "    columns = feature_pivot.columns\n",
    "    index = feature_pivot.index\n",
    "\n",
    "    for agg in feature_cols_stock[feature_col]:\n",
    "        for n in stock_id_neighbor_sizes:\n",
    "            exclude_self = True\n",
    "            exact = False\n",
    "            dst = make_nn_feature(df2, neighbors_stock, columns, index, n=n, agg=agg, postfix='_s',\n",
    "                                 exclude_self=exclude_self, exact=exact)\n",
    "            ndf = _add_ndf(ndf, dst)\n",
    "            dst = make_nn_feature(df2, neighbors_stock_vol, columns, index, n=n, agg=agg, postfix='_sv',\n",
    "                                 exclude_self=exclude_self, exact=exact)\n",
    "            ndf = _add_ndf(ndf, dst)\n",
    "            #dst = make_nn_feature(df2, neighbors_stock_size, columns, index, n=n, agg=agg, postfix='_ssize',\n",
    "            #                     exclude_self=exclude_self)\n",
    "            #ndf = _add_ndf(ndf, dst)\n",
    "    del feature_pivot, neighbors_stock, neighbors_stock_vol\n",
    "\n",
    "df2 = pd.merge(df2, ndf, on=['time_id', 'stock_id'], how='left')\n",
    "ndf = None\n",
    "\n",
    "# neighbor time_id\n",
    "for feature_col in feature_cols.keys():\n",
    "    feature_pivot, neighbors = make_neighbors(df2, k_neighbors_p2.neighbors, feature_col, n=N_NEIGHBORS_MAX)\n",
    "    _, neighbors_p1 = make_neighbors(df2, k_neighbors_p1.neighbors, feature_col, n=N_NEIGHBORS_MAX)\n",
    "    _, neighbors_vol = make_neighbors(df2, k_neighbors_vol.neighbors, feature_col, n=N_NEIGHBORS_MAX)\n",
    "    _, neighbors_size = make_neighbors(df2, k_neighbors_size.neighbors, feature_col, n=N_NEIGHBORS_MAX)\n",
    "    _, neighbors_size_p2 = make_neighbors(df2, k_neighbors_size_p2.neighbors, feature_col, n=N_NEIGHBORS_MAX)\n",
    "    \n",
    "    columns = feature_pivot.columns\n",
    "    index = feature_pivot.index\n",
    "    \n",
    "    if 'volatility' in feature_col:\n",
    "        time_id_ns = time_id_neigbor_sizes_vol\n",
    "    else:\n",
    "        time_id_ns = time_id_neigbor_sizes\n",
    " \n",
    "    for agg in feature_cols[feature_col]:\n",
    "        for n in time_id_ns:\n",
    "            exclude_self = True #n >= 10\n",
    "            exclude_self2 = False\n",
    "            exact = False\n",
    "            \n",
    "            #if n <= 40:\n",
    "            dst = make_nn_feature(df2, neighbors, columns, index, n=n, agg=agg, postfix='_p2',\n",
    "                                  exclude_self=exclude_self, exact=exact)\n",
    "            ndf = _add_ndf(ndf, dst)\n",
    "            dst = make_nn_feature(df2, neighbors_p1, columns, index, n=n, agg=agg, postfix='_p1',\n",
    "                                 exclude_self=exclude_self2, exact=exact)\n",
    "            ndf = _add_ndf(ndf, dst)\n",
    "\n",
    "            dst = make_nn_feature(df2, neighbors_vol, columns, index, n=n, agg=agg, postfix='_v',\n",
    "                                 exclude_self=exclude_self2, exact=exact)\n",
    "            ndf = _add_ndf(ndf, dst)\n",
    "            dst = make_nn_feature(df2, neighbors_size, columns, index, n=n, agg=agg, postfix='_size',\n",
    "                                 exclude_self=exclude_self2, exact=exact)\n",
    "            ndf = _add_ndf(ndf, dst)\n",
    "            dst = make_nn_feature(df2, neighbors_size_p2, columns, index, n=n, agg=agg, postfix='_size_p2',\n",
    "                                 exclude_self=exclude_self2, exact=exact)\n",
    "            ndf = _add_ndf(ndf, dst)\n",
    "            cols.append(dst.columns[-1])\n",
    "            \n",
    "    del feature_pivot, neighbors, neighbors_p1, neighbors_vol, neighbors_size, neighbors_size_p2\n",
    "\n",
    "df2 = pd.merge(df2, ndf, on=['time_id', 'stock_id'], how='left')\n",
    "\n",
    "# 株価そのものは特徴量に使わず、近傍のtime_idに対する相対評価のみ用いる\n",
    "\n",
    "for sz in time_id_neigbor_sizes:\n",
    "    df2[f'real_price_rankmin_{sz}'] = df2['real_price'] / df2[f\"real_price_cluster{sz}_p2_amin\"]\n",
    "    df2[f'real_price_rankmax_{sz}'] = df2['real_price'] / df2[f\"real_price_cluster{sz}_p2_amax\"]\n",
    "    df2[f'real_price_rankmean_{sz}'] = df2['real_price'] / df2[f\"real_price_cluster{sz}_p2_mean\"]\n",
    "\n",
    "for sz in time_id_neigbor_sizes_vol:\n",
    "    df2[f'vol_rankmin_{sz}'] = df2['book.log_return1.realized_volatility'] / df2[f\"book.log_return1.realized_volatility_cluster{sz}_p2_amin\"]\n",
    "    df2[f'vol_rankmax_{sz}'] = df2['book.log_return1.realized_volatility'] / df2[f\"book.log_return1.realized_volatility_cluster{sz}_p2_amax\"]\n",
    "\n",
    "price_cols = [c for c in df2.columns if 'real_price' in c and 'rank' not in c]\n",
    "for c in price_cols:\n",
    "    del df2[c]\n",
    "\n",
    "#df2['book.log_return1.realized_volatility_rank'] = df2.groupby('time_id')['book.log_return1.realized_volatility'].rank()\n",
    "#df2['book.log_return1.realized_volatility_cluster3_size_mean_rank'] = df2.groupby('time_id')['book.log_return1.realized_volatility_cluster3_size_mean'].rank()\n",
    "\n",
    "for sz in time_id_neigbor_sizes_vol:\n",
    "    tgt = f'book.log_return1.realized_volatility_cluster{sz}_p1_mean'\n",
    "    df2[f'{tgt}_rank'] = df2.groupby('time_id')[tgt].rank()\n",
    "    \n",
    "    \n",
    "# skew correction for NN\n",
    "cols_to_log = [\n",
    "    'trade.size.sum',\n",
    "    'trade_150.size.sum',\n",
    "    'trade_300.size.sum',\n",
    "    'trade_450.size.sum',\n",
    "    'volume_imbalance'\n",
    "]\n",
    "for c in df2.columns:\n",
    "    for check in cols_to_log:\n",
    "        if check in c:\n",
    "            df2[c] = np.log(df2[c]+1)\n",
    "            break\n",
    "\n",
    "print(df2.shape)\n",
    "df2.reset_index(drop=True).to_feather('optiver_df2.f')\n",
    "\n",
    "del ndf"
   ]
  },
  {
   "cell_type": "code",
   "execution_count": 8,
   "id": "66db77b4",
   "metadata": {
    "execution": {
     "iopub.execute_input": "2021-09-23T00:40:03.461619Z",
     "iopub.status.busy": "2021-09-23T00:40:03.460820Z",
     "iopub.status.idle": "2021-09-23T00:40:04.825129Z",
     "shell.execute_reply": "2021-09-23T00:40:04.824659Z",
     "shell.execute_reply.started": "2021-09-22T13:08:05.329653Z"
    },
    "papermill": {
     "duration": 1.392507,
     "end_time": "2021-09-23T00:40:04.825260",
     "exception": false,
     "start_time": "2021-09-23T00:40:03.432753",
     "status": "completed"
    },
    "tags": []
   },
   "outputs": [],
   "source": [
    "# 同じ銘柄で近い取引量の時のRVを平均する\n",
    "df2.sort_values(by=['stock_id', 'book.total_volume.sum'], inplace=True)\n",
    "df2.reset_index(drop=True, inplace=True)\n",
    "df2['realized_volatility_roll3_by_book.total_volume.mean'] = df2.groupby('stock_id')['book.log_return1.realized_volatility'].rolling(3, center=True, min_periods=1).mean().reset_index().sort_values(by=['level_1'])['book.log_return1.realized_volatility'].values\n",
    "df2['realized_volatility_roll10_by_book.total_volume.mean'] = df2.groupby('stock_id')['book.log_return1.realized_volatility'].rolling(10, center=True, min_periods=1).mean().reset_index().sort_values(by=['level_1'])['book.log_return1.realized_volatility'].values\n"
   ]
  },
  {
   "cell_type": "markdown",
   "id": "fa5d694f",
   "metadata": {
    "papermill": {
     "duration": 0.359085,
     "end_time": "2021-09-23T00:40:05.207909",
     "exception": false,
     "start_time": "2021-09-23T00:40:04.848824",
     "status": "completed"
    },
    "tags": []
   },
   "source": [
    "### Stock-id Embedding"
   ]
  },
  {
   "cell_type": "code",
   "execution_count": 9,
   "id": "1a00cb85",
   "metadata": {
    "execution": {
     "iopub.execute_input": "2021-09-23T00:40:05.286425Z",
     "iopub.status.busy": "2021-09-23T00:40:05.285658Z",
     "iopub.status.idle": "2021-09-23T00:40:08.668426Z",
     "shell.execute_reply": "2021-09-23T00:40:08.669026Z",
     "shell.execute_reply.started": "2021-09-22T13:08:06.921169Z"
    },
    "papermill": {
     "duration": 3.438669,
     "end_time": "2021-09-23T00:40:08.669190",
     "exception": false,
     "start_time": "2021-09-23T00:40:05.230521",
     "status": "completed"
    },
    "tags": []
   },
   "outputs": [],
   "source": [
    "from sklearn.decomposition import LatentDirichletAllocation\n",
    "\n",
    "lda_n = 3\n",
    "lda = LatentDirichletAllocation(n_components=lda_n, random_state=0)\n",
    "stock_id_emb = pd.DataFrame(lda.fit_transform(pivot.transpose()), index=df_pv.pivot('time_id', 'stock_id', 'vol').columns)\n",
    "\n",
    "for i in range(lda_n):\n",
    "    df2[f'stock_id_emb{i}'] = df2['stock_id'].map(stock_id_emb[i])"
   ]
  },
  {
   "cell_type": "code",
   "execution_count": 10,
   "id": "a74a856f",
   "metadata": {
    "execution": {
     "iopub.execute_input": "2021-09-23T00:40:08.720348Z",
     "iopub.status.busy": "2021-09-23T00:40:08.719288Z",
     "iopub.status.idle": "2021-09-23T00:40:11.039487Z",
     "shell.execute_reply": "2021-09-23T00:40:11.039987Z",
     "shell.execute_reply.started": "2021-09-22T13:08:09.962398Z"
    },
    "papermill": {
     "duration": 2.347495,
     "end_time": "2021-09-23T00:40:11.040158",
     "exception": false,
     "start_time": "2021-09-23T00:40:08.692663",
     "status": "completed"
    },
    "tags": []
   },
   "outputs": [
    {
     "data": {
      "text/plain": [
       "108"
      ]
     },
     "execution_count": 10,
     "metadata": {},
     "output_type": "execute_result"
    }
   ],
   "source": [
    "df_train = df2[~df2.target.isnull()].copy()\n",
    "df_test = df2[df2.target.isnull()].copy()\n",
    "del df2\n",
    "gc.collect()"
   ]
  },
  {
   "cell_type": "markdown",
   "id": "e1a4b01e",
   "metadata": {
    "papermill": {
     "duration": 2.841074,
     "end_time": "2021-09-23T00:40:13.903592",
     "exception": false,
     "start_time": "2021-09-23T00:40:11.062518",
     "status": "completed"
    },
    "tags": []
   },
   "source": [
    "## Make CV Split"
   ]
  },
  {
   "cell_type": "code",
   "execution_count": 11,
   "id": "a64c680c",
   "metadata": {
    "execution": {
     "iopub.execute_input": "2021-09-23T00:40:13.976208Z",
     "iopub.status.busy": "2021-09-23T00:40:13.975542Z",
     "iopub.status.idle": "2021-09-23T00:40:14.035967Z",
     "shell.execute_reply": "2021-09-23T00:40:14.035409Z",
     "shell.execute_reply.started": "2021-09-22T13:08:11.89487Z"
    },
    "papermill": {
     "duration": 0.1093,
     "end_time": "2021-09-23T00:40:14.036086",
     "exception": false,
     "start_time": "2021-09-23T00:40:13.926786",
     "status": "completed"
    },
    "tags": []
   },
   "outputs": [],
   "source": [
    "import glob\n",
    "import time\n",
    "from contextlib import contextmanager\n",
    "\n",
    "import matplotlib.pyplot as plt\n",
    "import pandas as pd\n",
    "import numpy as np\n",
    "import seaborn as sns\n",
    "\n",
    "from joblib import Parallel, delayed\n",
    "from sklearn.cluster import KMeans\n",
    "from sklearn.manifold import TSNE\n",
    "from sklearn.model_selection import GroupKFold\n",
    "from sklearn.preprocessing import minmax_scale\n",
    "from sklearn.decomposition import PCA\n",
    "from sklearn.neighbors import NearestNeighbors\n",
    "\n",
    "\n",
    "%matplotlib inline\n",
    "\n",
    "@contextmanager\n",
    "def timer(name):\n",
    "    s = time.time()\n",
    "    yield\n",
    "    e = time.time() - s\n",
    "    print(f\"[{name}] {e:.3f}sec\")\n",
    "    \n",
    "\n",
    "def calc_price2(df):\n",
    "    tick = sorted(np.diff(sorted(np.unique(df.values.flatten()))))[0]\n",
    "    return 0.01 / tick\n",
    "\n",
    "\n",
    "def calc_prices(r):\n",
    "    df = pd.read_parquet(r.book_path, columns=['time_id', 'ask_price1', 'ask_price2', 'bid_price1', 'bid_price2'])\n",
    "    df = df.set_index('time_id')\n",
    "    df = df.groupby(level='time_id').apply(calc_price2).to_frame('price').reset_index()\n",
    "    df['stock_id'] = r.stock_id\n",
    "    return df\n",
    "\n",
    "\n",
    "def sort_manifold(df, clf):\n",
    "    df_ = df.set_index('time_id')\n",
    "    df_ = pd.DataFrame(minmax_scale(df_.fillna(df_.mean())))\n",
    "\n",
    "    X_compoents = clf.fit_transform(df_)\n",
    "\n",
    "    dft = df.reindex(np.argsort(X_compoents[:,0])).reset_index(drop=True)\n",
    "    # AMZN\n",
    "    plt.plot(dft['stock_id=61'])\n",
    "    plt.plot(dft['stock_id=37'])\n",
    "    plt.plot(dft['stock_id=113'])\n",
    "    return np.argsort(X_compoents[:, 0]), X_compoents\n",
    "\n",
    "\n",
    "def reconstruct_time_id_order():\n",
    "    with timer('load files'):\n",
    "        df_files = pd.DataFrame(\n",
    "            {'book_path': glob.glob('/kaggle/input/optiver-realized-volatility-prediction/book_train.parquet/**/*.parquet')}) \\\n",
    "            .eval('stock_id = book_path.str.extract(\"stock_id=(\\d+)\").astype(\"int\")', engine='python')\n",
    "        df_target = pd.read_csv('/kaggle/input/optiver-realized-volatility-prediction/train.csv')\n",
    "        df_target = df_target.groupby('time_id').target.mean()\n",
    "\n",
    "    with timer('calc prices'):\n",
    "        df_prices = pd.concat(Parallel(n_jobs=4, verbose=51)(delayed(calc_prices)(r) for _, r in df_files.iterrows()))\n",
    "        df_prices = df_prices.pivot('time_id', 'stock_id', 'price')\n",
    "        df_prices.columns = [f'stock_id={i}' for i in df_prices.columns]\n",
    "        df_prices = df_prices.reset_index(drop=False)\n",
    "\n",
    "    with timer('t-SNE(400) -> 50'):\n",
    "        clf = TSNE(n_components=1, perplexity=400, random_state=0, n_iter=2000)\n",
    "        order, X_compoents = sort_manifold(df_prices, clf)\n",
    "        clf = TSNE(n_components=1, perplexity=50, random_state=0, init=X_compoents, n_iter=2000, method='exact')\n",
    "        order, X_compoents = sort_manifold(df_prices, clf)\n",
    "\n",
    "        df_ordered = df_prices.reindex(order).reset_index(drop=True)\n",
    "        if df_ordered['stock_id=61'].iloc[0] > df_ordered['stock_id=61'].iloc[-1]:\n",
    "            df_ordered = df_ordered.reindex(df_ordered.index[::-1]).reset_index(drop=True)\n",
    "\n",
    "    # AMZN\n",
    "    plt.plot(df_ordered['stock_id=61'])\n",
    "    \n",
    "    return df_ordered[['time_id']]"
   ]
  },
  {
   "cell_type": "code",
   "execution_count": 12,
   "id": "5448226b",
   "metadata": {
    "execution": {
     "iopub.execute_input": "2021-09-23T00:40:14.087508Z",
     "iopub.status.busy": "2021-09-23T00:40:14.087018Z",
     "iopub.status.idle": "2021-09-23T00:40:15.953228Z",
     "shell.execute_reply": "2021-09-23T00:40:15.952333Z",
     "shell.execute_reply.started": "2021-09-22T13:08:12.008144Z"
    },
    "papermill": {
     "duration": 1.894824,
     "end_time": "2021-09-23T00:40:15.953371",
     "exception": false,
     "start_time": "2021-09-23T00:40:14.058547",
     "status": "completed"
    },
    "tags": []
   },
   "outputs": [
    {
     "name": "stdout",
     "output_type": "stream",
     "text": [
      "[calculate order of time-id] 0.018sec\n",
      "folds0: train=257362, valid=42882\n",
      "folds1: train=300244, valid=42896\n",
      "folds2: train=343140, valid=42896\n",
      "folds3: train=386036, valid=42896\n",
      "[make folds] 1.841sec\n"
     ]
    }
   ],
   "source": [
    "with timer('calculate order of time-id'):\n",
    "    if USE_PRECOMPUTE_FEATURES:\n",
    "        timeid_order = pd.read_csv(os.path.join(DATA_DIR, 'optiver-time-id-ordered', 'time_id_order.csv'))\n",
    "    else:\n",
    "        timeid_order = reconstruct_time_id_order()\n",
    "\n",
    "with timer('make folds'):\n",
    "    timeid_order['time_id_order'] = np.arange(len(timeid_order))\n",
    "    df_train['time_id_order'] = df_train['time_id'].map(timeid_order.set_index('time_id')['time_id_order'])\n",
    "    df_train = df_train.sort_values(['time_id_order', 'stock_id']).reset_index(drop=True)\n",
    "\n",
    "    folds_border = [3830 - 383*4, 3830 - 383*3, 3830 - 383*2, 3830 - 383*1]\n",
    "    time_id_orders = df_train['time_id_order']\n",
    "\n",
    "    folds = []\n",
    "    for i, border in enumerate(folds_border):\n",
    "        idx_train = np.where(time_id_orders < border)[0]\n",
    "        idx_valid = np.where((border <= time_id_orders) & (time_id_orders < border + 383))[0]\n",
    "        folds.append((idx_train, idx_valid))\n",
    "        \n",
    "        print(f\"folds{i}: train={len(idx_train)}, valid={len(idx_valid)}\")\n",
    "        \n",
    "del df_train['time_id_order']"
   ]
  },
  {
   "cell_type": "code",
   "execution_count": 13,
   "id": "42a923ed",
   "metadata": {
    "execution": {
     "iopub.execute_input": "2021-09-23T00:40:16.004773Z",
     "iopub.status.busy": "2021-09-23T00:40:16.003898Z",
     "iopub.status.idle": "2021-09-23T00:40:16.006019Z",
     "shell.execute_reply": "2021-09-23T00:40:16.006477Z",
     "shell.execute_reply.started": "2021-09-22T13:08:14.185216Z"
    },
    "papermill": {
     "duration": 0.030625,
     "end_time": "2021-09-23T00:40:16.006597",
     "exception": false,
     "start_time": "2021-09-23T00:40:15.975972",
     "status": "completed"
    },
    "tags": []
   },
   "outputs": [],
   "source": [
    "if False:\n",
    "    for dt in [3]:\n",
    "        roll = df_train.groupby('stock_id')['real_price'].rolling(dt).mean().reset_index().sort_values(by=['level_1'])['real_price'].values\n",
    "        df_train[f'real_price.back_mean_{dt}'] = roll10\n",
    "        df_train[f'real_price.forward_mean_{dt}'] = df_train.groupby('stock_id')[f'real_price.back_mean_{dt}'].shift(-dt)\n",
    "        df_train[f'real_price.back_mean_{dt}'] = df_train['real_price'] / df_train[f'real_price.back_mean_{dt}']\n",
    "        df_train[f'real_price.back_forward_{dt}'] = df_train['real_price'] / df_train[f'real_price.forward_mean_{dt}']\n",
    "        \n",
    "    del df_train['real_price']\n",
    "\n",
    "# 3/4foldで改善したが、fold1が大きく悪化。\n",
    "#df_train['ratio1'] = df_train['trade.log_return.realized_volatility'] / df_train['book.log_return1.realized_volatility']\n",
    "#df_train['ratio2'] = df_train['book.log_return1.realized_volatility_cluster3_p2_mean'] / df_train['book.log_return1.realized_volatility']\n",
    "#df_train['ratio3'] = df_train['book.log_return1.realized_volatility_cluster3_p1_mean'] / df_train['book.log_return1.realized_volatility']\n",
    "#df_train['ratio4'] = df_train['book_300.log_return1.realized_volatility'] / df_train['book.log_return1.realized_volatility']\n",
    "#df_train['ratio5'] = df_train['book.log_return1.realized_volatility_cluster3_p2_mean'] / df_train['book.log_return1.realized_volatility_cluster10_p2_mean']\n",
    "#df_train['ratio6'] = df_train['trade.tau'] / df_train['trade.tau_cluster3_p2_mean']\n",
    "\n",
    "#df_train['ratio7'] = df_train['trade.size.sum'] / df_train['trade.size.sum_cluster3_p2_mean']\n",
    "#df_train['ratio８'] = df_train['trade.size.sum'] / df_train['trade.size.sum_cluster5_p2_mean']\n",
    "\n",
    "# ばらつき大.\n",
    "#df_train['diff1'] = df_train['book.log_return1.realized_volatility'] - df_train['book.log_return1.realized_volatility_cluster3_p2_mean']\n",
    "#df_train['diff2'] = df_train['book.log_return1.realized_volatility_cluster3_p1_mean'] - df_train['book.log_return1.realized_volatility_cluster3_p2_mean']\n"
   ]
  },
  {
   "cell_type": "markdown",
   "id": "8a60666b",
   "metadata": {
    "papermill": {
     "duration": 0.021714,
     "end_time": "2021-09-23T00:40:16.050379",
     "exception": false,
     "start_time": "2021-09-23T00:40:16.028665",
     "status": "completed"
    },
    "tags": []
   },
   "source": [
    "## LightGBM Training"
   ]
  },
  {
   "cell_type": "code",
   "execution_count": 14,
   "id": "deb6bcaf",
   "metadata": {
    "execution": {
     "iopub.execute_input": "2021-09-23T00:40:16.118783Z",
     "iopub.status.busy": "2021-09-23T00:40:16.117801Z",
     "iopub.status.idle": "2021-09-23T01:27:20.801977Z",
     "shell.execute_reply": "2021-09-23T01:27:20.801496Z"
    },
    "papermill": {
     "duration": 2824.728763,
     "end_time": "2021-09-23T01:27:20.802098",
     "exception": false,
     "start_time": "2021-09-23T00:40:16.073335",
     "status": "completed"
    },
    "tags": []
   },
   "outputs": [
    {
     "name": "stdout",
     "output_type": "stream",
     "text": [
      "(428932, 584)\n",
      "[LightGBM] [Warning] Auto-choosing col-wise multi-threading, the overhead of testing was 1.329472 seconds.\n",
      "You can set `force_col_wise=true` to remove the overhead.\n",
      "[LightGBM] [Warning] Auto-choosing col-wise multi-threading, the overhead of testing was 1.969350 seconds.\n",
      "You can set `force_col_wise=true` to remove the overhead.\n",
      "[LightGBM] [Warning] Auto-choosing col-wise multi-threading, the overhead of testing was 3.853365 seconds.\n",
      "You can set `force_col_wise=true` to remove the overhead.\n",
      "[LightGBM] [Warning] Auto-choosing col-wise multi-threading, the overhead of testing was 4.292484 seconds.\n",
      "You can set `force_col_wise=true` to remove the overhead.\n",
      "[20]\tcv_agg's l2: 7.38695e-07 + 1.60608e-07\tcv_agg's RMSPE: 0.38011 + 0.0099775\n",
      "[40]\tcv_agg's l2: 4.52578e-07 + 8.38512e-08\tcv_agg's RMSPE: 0.298445 + 0.00437991\n",
      "[60]\tcv_agg's l2: 3.23178e-07 + 5.03378e-08\tcv_agg's RMSPE: 0.252918 + 0.00585063\n",
      "[80]\tcv_agg's l2: 2.63681e-07 + 3.6223e-08\tcv_agg's RMSPE: 0.22891 + 0.00863284\n",
      "[100]\tcv_agg's l2: 2.35625e-07 + 3.05051e-08\tcv_agg's RMSPE: 0.216622 + 0.0103145\n",
      "[120]\tcv_agg's l2: 2.21847e-07 + 2.80948e-08\tcv_agg's RMSPE: 0.210308 + 0.0111742\n",
      "[140]\tcv_agg's l2: 2.14709e-07 + 2.70989e-08\tcv_agg's RMSPE: 0.20694 + 0.0115214\n",
      "[160]\tcv_agg's l2: 2.10699e-07 + 2.6548e-08\tcv_agg's RMSPE: 0.20502 + 0.0116685\n",
      "[180]\tcv_agg's l2: 2.08261e-07 + 2.63397e-08\tcv_agg's RMSPE: 0.203832 + 0.0117012\n",
      "[200]\tcv_agg's l2: 2.06701e-07 + 2.62468e-08\tcv_agg's RMSPE: 0.203065 + 0.0116947\n",
      "[220]\tcv_agg's l2: 2.0556e-07 + 2.62037e-08\tcv_agg's RMSPE: 0.202492 + 0.0116321\n",
      "[240]\tcv_agg's l2: 2.04734e-07 + 2.61883e-08\tcv_agg's RMSPE: 0.20208 + 0.0115777\n",
      "[260]\tcv_agg's l2: 2.04086e-07 + 2.61936e-08\tcv_agg's RMSPE: 0.201755 + 0.0115333\n",
      "[280]\tcv_agg's l2: 2.03604e-07 + 2.61482e-08\tcv_agg's RMSPE: 0.201515 + 0.0114919\n",
      "[300]\tcv_agg's l2: 2.03228e-07 + 2.61364e-08\tcv_agg's RMSPE: 0.201325 + 0.0114778\n",
      "[320]\tcv_agg's l2: 2.02914e-07 + 2.61179e-08\tcv_agg's RMSPE: 0.201167 + 0.0114477\n",
      "[340]\tcv_agg's l2: 2.02627e-07 + 2.61411e-08\tcv_agg's RMSPE: 0.20102 + 0.0114158\n",
      "[360]\tcv_agg's l2: 2.02399e-07 + 2.61625e-08\tcv_agg's RMSPE: 0.2009 + 0.0114003\n",
      "[380]\tcv_agg's l2: 2.02204e-07 + 2.61812e-08\tcv_agg's RMSPE: 0.200802 + 0.0113696\n",
      "[400]\tcv_agg's l2: 2.02022e-07 + 2.61611e-08\tcv_agg's RMSPE: 0.200708 + 0.0113372\n",
      "[420]\tcv_agg's l2: 2.0186e-07 + 2.61958e-08\tcv_agg's RMSPE: 0.200622 + 0.0113071\n",
      "[440]\tcv_agg's l2: 2.0174e-07 + 2.61755e-08\tcv_agg's RMSPE: 0.200565 + 0.0113033\n",
      "[460]\tcv_agg's l2: 2.01656e-07 + 2.62213e-08\tcv_agg's RMSPE: 0.200517 + 0.011288\n",
      "[480]\tcv_agg's l2: 2.01544e-07 + 2.62394e-08\tcv_agg's RMSPE: 0.200458 + 0.0112683\n",
      "[500]\tcv_agg's l2: 2.01449e-07 + 2.62365e-08\tcv_agg's RMSPE: 0.20041 + 0.0112583\n",
      "[520]\tcv_agg's l2: 2.01348e-07 + 2.62496e-08\tcv_agg's RMSPE: 0.200355 + 0.0112363\n",
      "[540]\tcv_agg's l2: 2.01281e-07 + 2.62624e-08\tcv_agg's RMSPE: 0.20032 + 0.0112207\n",
      "[560]\tcv_agg's l2: 2.01234e-07 + 2.62915e-08\tcv_agg's RMSPE: 0.200295 + 0.011221\n",
      "[580]\tcv_agg's l2: 2.01176e-07 + 2.63166e-08\tcv_agg's RMSPE: 0.200265 + 0.0112071\n",
      "[600]\tcv_agg's l2: 2.01141e-07 + 2.6349e-08\tcv_agg's RMSPE: 0.200242 + 0.0111976\n",
      "[620]\tcv_agg's l2: 2.01094e-07 + 2.63684e-08\tcv_agg's RMSPE: 0.20022 + 0.011183\n",
      "[640]\tcv_agg's l2: 2.01041e-07 + 2.63611e-08\tcv_agg's RMSPE: 0.200192 + 0.0111782\n",
      "[660]\tcv_agg's l2: 2.01014e-07 + 2.63788e-08\tcv_agg's RMSPE: 0.200175 + 0.0111727\n",
      "[680]\tcv_agg's l2: 2.0099e-07 + 2.63937e-08\tcv_agg's RMSPE: 0.200167 + 0.0111734\n",
      "[700]\tcv_agg's l2: 2.00943e-07 + 2.64018e-08\tcv_agg's RMSPE: 0.20014 + 0.0111617\n",
      "[720]\tcv_agg's l2: 2.00929e-07 + 2.64224e-08\tcv_agg's RMSPE: 0.200132 + 0.0111562\n",
      "[740]\tcv_agg's l2: 2.00926e-07 + 2.64731e-08\tcv_agg's RMSPE: 0.200127 + 0.0111499\n",
      "[760]\tcv_agg's l2: 2.00931e-07 + 2.64695e-08\tcv_agg's RMSPE: 0.200127 + 0.0111499\n",
      "[780]\tcv_agg's l2: 2.0094e-07 + 2.64982e-08\tcv_agg's RMSPE: 0.200132 + 0.0111568\n",
      "[800]\tcv_agg's l2: 2.00958e-07 + 2.65196e-08\tcv_agg's RMSPE: 0.200143 + 0.0111562\n",
      "[820]\tcv_agg's l2: 2.00983e-07 + 2.65606e-08\tcv_agg's RMSPE: 0.200147 + 0.0111619\n",
      "[840]\tcv_agg's l2: 2.00987e-07 + 2.66009e-08\tcv_agg's RMSPE: 0.20015 + 0.0111611\n",
      "[860]\tcv_agg's l2: 2.00956e-07 + 2.65819e-08\tcv_agg's RMSPE: 0.200135 + 0.0111531\n",
      "[880]\tcv_agg's l2: 2.00963e-07 + 2.65836e-08\tcv_agg's RMSPE: 0.200138 + 0.011155\n",
      "[900]\tcv_agg's l2: 2.0099e-07 + 2.65991e-08\tcv_agg's RMSPE: 0.200152 + 0.0111578\n",
      "[920]\tcv_agg's l2: 2.01017e-07 + 2.66297e-08\tcv_agg's RMSPE: 0.200162 + 0.0111505\n",
      "# overall RMSPE: 0.2001175\n",
      "[lgb.cv] 1536.852sec\n",
      "# fold0 RMSPE: 0.20388891511685114\n",
      "# fold1 RMSPE: 0.2089204487384777\n",
      "# fold2 RMSPE: 0.20660271881824593\n",
      "# fold3 RMSPE: 0.18105732874404667\n"
     ]
    },
    {
     "data": {
      "image/png": "[encoded data removed]",
      "text/plain": [
       "<Figure size 720x1440 with 1 Axes>"
      ]
     },
     "metadata": {
      "needs_background": "light"
     },
     "output_type": "display_data"
    },
    {
     "name": "stdout",
     "output_type": "stream",
     "text": [
      "[LightGBM] [Warning] Auto-choosing col-wise multi-threading, the overhead of testing was 5.160897 seconds.\n",
      "You can set `force_col_wise=true` to remove the overhead.\n",
      "[LightGBM] [Warning] Auto-choosing col-wise multi-threading, the overhead of testing was 5.465395 seconds.\n",
      "You can set `force_col_wise=true` to remove the overhead.\n",
      "[LightGBM] [Warning] Auto-choosing col-wise multi-threading, the overhead of testing was 5.722458 seconds.\n",
      "You can set `force_col_wise=true` to remove the overhead.\n",
      "[retraining] 1259.042sec\n"
     ]
    },
    {
     "data": {
      "text/plain": [
       "61312"
      ]
     },
     "execution_count": 14,
     "metadata": {},
     "output_type": "execute_result"
    }
   ],
   "source": [
    "import gc\n",
    "def rmspe(y_true, y_pred):\n",
    "    return  (np.sqrt(np.mean(np.square((y_true - y_pred) / y_true))))\n",
    "\n",
    "def feval_RMSPE(preds, train_data):\n",
    "    labels = train_data.get_label()\n",
    "    return 'RMSPE', round(rmspe(y_true = labels, y_pred = preds),5), False\n",
    "\n",
    "def plot_importance(cvbooster, figsize=(10, 10)):\n",
    "    raw_importances = cvbooster.feature_importance(importance_type='gain')\n",
    "    feature_name = cvbooster.boosters[0].feature_name()\n",
    "    importance_df = pd.DataFrame(data=raw_importances,\n",
    "                                 columns=feature_name)\n",
    "    # 平均値でソートする\n",
    "    sorted_indices = importance_df.mean(axis=0).sort_values(ascending=False).index\n",
    "    sorted_importance_df = importance_df.loc[:, sorted_indices]\n",
    "    # 上位をプロットする\n",
    "    PLOT_TOP_N = 80\n",
    "    plot_cols = sorted_importance_df.columns[:PLOT_TOP_N]\n",
    "    _, ax = plt.subplots(figsize=figsize)\n",
    "    ax.grid()\n",
    "    ax.set_xscale('log')\n",
    "    ax.set_ylabel('Feature')\n",
    "    ax.set_xlabel('Importance')\n",
    "    sns.boxplot(data=sorted_importance_df[plot_cols],\n",
    "                orient='h',\n",
    "                ax=ax)\n",
    "    plt.show()\n",
    "\n",
    "lr = GBDT_LR\n",
    "params = {\n",
    "    'objective': 'regression',\n",
    "    'verbose': 0,\n",
    "    'metric': '',\n",
    "    'reg_alpha': 5,\n",
    "    'reg_lambda': 5,\n",
    "    'min_data_in_leaf': 1000,\n",
    "    'max_depth': -1,\n",
    "    'num_leaves': 128,\n",
    "    'colsample_bytree': 0.3,\n",
    "    'learning_rate': lr\n",
    "}\n",
    "\n",
    "class EnsembleModel:\n",
    "    def __init__(self, models: List[lgb.Booster], weights: Optional[List[float]] = None):\n",
    "        self.models = models\n",
    "        self.weights = weights\n",
    "\n",
    "        features = list(self.models[0].feature_name())\n",
    "\n",
    "        for m in self.models[1:]:\n",
    "            assert features == list(m.feature_name())\n",
    "\n",
    "    def predict(self, x):\n",
    "        predicted = np.zeros((len(x), len(self.models)))\n",
    "\n",
    "        for i, m in enumerate(self.models):\n",
    "            w = self.weights[i] if self.weights is not None else 1\n",
    "            predicted[:, i] = w * m.predict(x)\n",
    "\n",
    "        ttl = np.sum(self.weights) if self.weights is not None else len(self.models)\n",
    "        return np.sum(predicted, axis=1) / ttl\n",
    "\n",
    "    def feature_name(self) -> List[str]:\n",
    "        return self.models[0].feature_name()\n",
    "\n",
    "def get_X(df_src):\n",
    "    cols = [c for c in df_src.columns if c not in ['time_id', 'target']]\n",
    "    return df_src[cols]\n",
    "\n",
    "X = get_X(df_train)\n",
    "y = df_train['target']\n",
    "X.to_feather('X.f')\n",
    "df_train[['target']].to_feather('y.f')\n",
    "\n",
    "gc.collect()\n",
    "\n",
    "print(X.shape)\n",
    "\n",
    "if PREDICT_GBDT:\n",
    "    ds = lgb.Dataset(X, y, weight=1/np.power(y, 2))\n",
    "\n",
    "    with timer('lgb.cv'):\n",
    "        ret = lgb.cv(params, ds, num_boost_round=8000, folds=folds, #cv,\n",
    "                     feval=feval_RMSPE, stratified=False, \n",
    "                     return_cvbooster=True, verbose_eval=20,\n",
    "                     early_stopping_rounds=int(40*0.1/lr))\n",
    "\n",
    "        # current best: 0.204666 (cluster groupkfold)\n",
    "        # current best: 0.20629 (time-series, 4folds, 10% valid)\n",
    "        print(f\"# overall RMSPE: {ret['RMSPE-mean'][-1]}\")\n",
    "\n",
    "    best_iteration = len(ret['RMSPE-mean'])\n",
    "    for i in range(len(folds)):\n",
    "        y_pred = ret['cvbooster'].boosters[i].predict(X.iloc[folds[i][1]], num_iteration=best_iteration)\n",
    "        y_true = y.iloc[folds[i][1]]\n",
    "        print(f\"# fold{i} RMSPE: {rmspe(y_true, y_pred)}\")\n",
    "\n",
    "    plot_importance(ret['cvbooster'], figsize=(10, 20))\n",
    "\n",
    "    if TRAIN_FULL:\n",
    "        boosters = []\n",
    "        with timer('retraining'):\n",
    "            for _ in range(GBDT_NUM_MODELS):\n",
    "                boosters.append(lgb.train(params, ds, num_boost_round=int(1.1*best_iteration)))\n",
    "                \n",
    "        booster = EnsembleModel(boosters)\n",
    "        del ret\n",
    "\n",
    "    #del X, y, ds\n",
    "    del ds\n",
    "\n",
    "gc.collect()\n",
    "\n",
    "#[20]\tcv_agg's l2: 2.32685e-07 + 2.96471e-08\tcv_agg's RMSPE: 0.215317 + 0.0105853\n",
    "#[40]\tcv_agg's l2: 2.07503e-07 + 2.60842e-08\tcv_agg's RMSPE: 0.203468 + 0.0116355\n",
    "#[60]\tcv_agg's l2: 2.04544e-07 + 2.61008e-08\tcv_agg's RMSPE: 0.201977 + 0.0113603\n",
    "#[80]\tcv_agg's l2: 2.03579e-07 + 2.59835e-08\tcv_agg's RMSPE: 0.20149 + 0.0112293\n",
    "#[100]\tcv_agg's l2: 2.0297e-07 + 2.57662e-08\tcv_agg's RMSPE: 0.201195 + 0.0111581\n",
    "#[120]\tcv_agg's l2: 2.02843e-07 + 2.58755e-08\tcv_agg's RMSPE: 0.20112 + 0.0111222\n",
    "#[140]\tcv_agg's l2: 2.02751e-07 + 2.58503e-08\tcv_agg's RMSPE: 0.201075 + 0.011069\n",
    "#[160]\tcv_agg's l2: 2.02773e-07 + 2.59782e-08\tcv_agg's RMSPE: 0.201073 + 0.0110104\n",
    "#[180]\tcv_agg's l2: 2.02933e-07 + 2.6137e-08\tcv_agg's RMSPE: 0.201148 + 0.0110521\n",
    "# overall RMSPE: 0.201055\n",
    "# fold0 RMSPE: 0.20412414796779355\n",
    "# fold1 RMSPE: 0.2101286514142503\n",
    "# fold2 RMSPE: 0.20769188046340817\n",
    "# fold3 RMSPE: 0.1822814692175734"
   ]
  },
  {
   "cell_type": "markdown",
   "id": "bd70264e",
   "metadata": {
    "papermill": {
     "duration": 0.04383,
     "end_time": "2021-09-23T01:27:20.890202",
     "exception": false,
     "start_time": "2021-09-23T01:27:20.846372",
     "status": "completed"
    },
    "tags": []
   },
   "source": [
    "## NN Training"
   ]
  },
  {
   "cell_type": "code",
   "execution_count": 15,
   "id": "ad09e959",
   "metadata": {
    "_kg_hide-input": true,
    "execution": {
     "iopub.execute_input": "2021-09-23T01:27:21.008965Z",
     "iopub.status.busy": "2021-09-23T01:27:20.993147Z",
     "iopub.status.idle": "2021-09-23T01:27:22.058391Z",
     "shell.execute_reply": "2021-09-23T01:27:22.057559Z"
    },
    "papermill": {
     "duration": 1.124557,
     "end_time": "2021-09-23T01:27:22.058526",
     "exception": false,
     "start_time": "2021-09-23T01:27:20.933969",
     "status": "completed"
    },
    "tags": []
   },
   "outputs": [],
   "source": [
    "import gc\n",
    "import os\n",
    "import pickle\n",
    "import random\n",
    "from typing import List, Tuple, Optional, Union\n",
    "\n",
    "import numpy as np\n",
    "import pandas as pd\n",
    "import torch\n",
    "import torch.nn as nn\n",
    "from sklearn.preprocessing import StandardScaler, QuantileTransformer\n",
    "from torch.utils.data import Dataset, DataLoader\n",
    "from tqdm import tqdm\n",
    "\n",
    "import numpy as np\n",
    "from joblib import Parallel, delayed\n",
    "from scipy.interpolate import interp1d\n",
    "from scipy.special import erf, erfinv\n",
    "from sklearn.base import BaseEstimator, TransformerMixin\n",
    "from sklearn.utils.validation import FLOAT_DTYPES, check_array, check_is_fitted\n",
    "from sklearn.decomposition import PCA\n",
    "\n",
    "null_check_cols = [\n",
    "    'book.log_return1.realized_volatility',\n",
    "    'book_150.log_return1.realized_volatility',\n",
    "    'book_300.log_return1.realized_volatility',\n",
    "    'book_450.log_return1.realized_volatility',\n",
    "    'trade.log_return.realized_volatility',\n",
    "    'trade_150.log_return.realized_volatility',\n",
    "    'trade_300.log_return.realized_volatility',\n",
    "    'trade_450.log_return.realized_volatility'\n",
    "]\n",
    "\n",
    "class GaussRankScaler(BaseEstimator, TransformerMixin):\n",
    "    \"\"\"Transform features by scaling each feature to a normal distribution.\n",
    "    Parameters\n",
    "        ----------\n",
    "        epsilon : float, optional, default 1e-4\n",
    "            A small amount added to the lower bound or subtracted\n",
    "            from the upper bound. This value prevents infinite number\n",
    "            from occurring when applying the inverse error function.\n",
    "        copy : boolean, optional, default True\n",
    "            If False, try to avoid a copy and do inplace scaling instead.\n",
    "            This is not guaranteed to always work inplace; e.g. if the data is\n",
    "            not a NumPy array, a copy may still be returned.\n",
    "        n_jobs : int or None, optional, default None\n",
    "            Number of jobs to run in parallel.\n",
    "            ``None`` means 1 and ``-1`` means using all processors.\n",
    "        interp_kind : str or int, optional, default 'linear'\n",
    "           Specifies the kind of interpolation as a string\n",
    "            ('linear', 'nearest', 'zero', 'slinear', 'quadratic', 'cubic',\n",
    "            'previous', 'next', where 'zero', 'slinear', 'quadratic' and 'cubic'\n",
    "            refer to a spline interpolation of zeroth, first, second or third\n",
    "            order; 'previous' and 'next' simply return the previous or next value\n",
    "            of the point) or as an integer specifying the order of the spline\n",
    "            interpolator to use.\n",
    "        interp_copy : bool, optional, default False\n",
    "            If True, the interpolation function makes internal copies of x and y.\n",
    "            If False, references to `x` and `y` are used.\n",
    "        Attributes\n",
    "        ----------\n",
    "        interp_func_ : list\n",
    "            The interpolation function for each feature in the training set.\n",
    "        \"\"\"\n",
    "\n",
    "    def __init__(self, epsilon=1e-4, copy=True, n_jobs=None, interp_kind='linear', interp_copy=False):\n",
    "        self.epsilon = epsilon\n",
    "        self.copy = copy\n",
    "        self.interp_kind = interp_kind\n",
    "        self.interp_copy = interp_copy\n",
    "        self.fill_value = 'extrapolate'\n",
    "        self.n_jobs = n_jobs\n",
    "\n",
    "    def fit(self, X, y=None):\n",
    "        \"\"\"Fit interpolation function to link rank with original data for future scaling\n",
    "        Parameters\n",
    "        ----------\n",
    "        X : array-like, shape (n_samples, n_features)\n",
    "            The data used to fit interpolation function for later scaling along the features axis.\n",
    "        y\n",
    "            Ignored\n",
    "        \"\"\"\n",
    "        X = check_array(X, copy=self.copy, estimator=self, dtype=FLOAT_DTYPES, force_all_finite=True)\n",
    "\n",
    "        self.interp_func_ = Parallel(n_jobs=self.n_jobs)(delayed(self._fit)(x) for x in X.T)\n",
    "        return self\n",
    "\n",
    "    def _fit(self, x):\n",
    "        x = self.drop_duplicates(x)\n",
    "        rank = np.argsort(np.argsort(x))\n",
    "        bound = 1.0 - self.epsilon\n",
    "        factor = np.max(rank) / 2.0 * bound\n",
    "        scaled_rank = np.clip(rank / factor - bound, -bound, bound)\n",
    "        return interp1d(\n",
    "            x, scaled_rank, kind=self.interp_kind, copy=self.interp_copy, fill_value=self.fill_value)\n",
    "\n",
    "    def transform(self, X, copy=None):\n",
    "        \"\"\"Scale the data with the Gauss Rank algorithm\n",
    "        Parameters\n",
    "        ----------\n",
    "        X : array-like, shape (n_samples, n_features)\n",
    "            The data used to scale along the features axis.\n",
    "        copy : bool, optional (default: None)\n",
    "            Copy the input X or not.\n",
    "        \"\"\"\n",
    "        check_is_fitted(self, 'interp_func_')\n",
    "\n",
    "        copy = copy if copy is not None else self.copy\n",
    "        X = check_array(X, copy=copy, estimator=self, dtype=FLOAT_DTYPES, force_all_finite=True)\n",
    "\n",
    "        X = np.array(Parallel(n_jobs=self.n_jobs)(delayed(self._transform)(i, x) for i, x in enumerate(X.T))).T\n",
    "        return X\n",
    "\n",
    "    def _transform(self, i, x):\n",
    "        return erfinv(self.interp_func_[i](x))\n",
    "\n",
    "    def inverse_transform(self, X, copy=None):\n",
    "        \"\"\"Scale back the data to the original representation\n",
    "        Parameters\n",
    "        ----------\n",
    "        X : array-like, shape [n_samples, n_features]\n",
    "            The data used to scale along the features axis.\n",
    "        copy : bool, optional (default: None)\n",
    "            Copy the input X or not.\n",
    "        \"\"\"\n",
    "        check_is_fitted(self, 'interp_func_')\n",
    "\n",
    "        copy = copy if copy is not None else self.copy\n",
    "        X = check_array(X, copy=copy, estimator=self, dtype=FLOAT_DTYPES, force_all_finite=True)\n",
    "\n",
    "        X = np.array(Parallel(n_jobs=self.n_jobs)(delayed(self._inverse_transform)(i, x) for i, x in enumerate(X.T))).T\n",
    "        return X\n",
    "\n",
    "    def _inverse_transform(self, i, x):\n",
    "        inv_interp_func = interp1d(self.interp_func_[i].y, self.interp_func_[i].x, kind=self.interp_kind,\n",
    "                                   copy=self.interp_copy, fill_value=self.fill_value)\n",
    "        return inv_interp_func(erf(x))\n",
    "\n",
    "    @staticmethod\n",
    "    def drop_duplicates(x):\n",
    "        is_unique = np.zeros_like(x, dtype=bool)\n",
    "        is_unique[np.unique(x, return_index=True)[1]] = True\n",
    "        return x[is_unique]\n",
    "\n",
    "\n",
    "def seed_everything(seed=42):\n",
    "    random.seed(seed)\n",
    "    os.environ['PYTHONHASHSEED'] = str(seed)\n",
    "    np.random.seed(seed)\n",
    "    torch.manual_seed(seed)\n",
    "    torch.cuda.manual_seed(seed)\n",
    "    torch.backends.cudnn.deterministic = True\n",
    "\n",
    "\n",
    "def rmspe_metric(y_true, y_pred):\n",
    "    rmspe = np.sqrt(np.mean(np.square((y_true - y_pred) / y_true)))\n",
    "    return rmspe\n",
    "\n",
    "\n",
    "def rmspe_loss(y_true, y_pred):\n",
    "    rmspe = torch.sqrt(torch.mean(torch.square((y_true - y_pred) / y_true)))\n",
    "    return rmspe\n",
    "\n",
    "\n",
    "class AverageMeter:\n",
    "    \"\"\"Computes and stores the average and current value\"\"\"\n",
    "\n",
    "    def __init__(self):\n",
    "        self.val = 0\n",
    "        self.avg = 0\n",
    "        self.sum = 0\n",
    "        self.count = 0\n",
    "        self.reset()\n",
    "\n",
    "    def reset(self):\n",
    "        self.val = 0\n",
    "        self.avg = 0\n",
    "        self.sum = 0\n",
    "        self.count = 0\n",
    "\n",
    "    def update(self, val, n=1):\n",
    "        self.val = val\n",
    "        self.sum += val * n\n",
    "        self.count += n\n",
    "        self.avg = self.sum / self.count\n",
    "\n",
    "\n",
    "class TabularDataset(Dataset):\n",
    "    def __init__(self, x_num: np.ndarray, x_cat: np.ndarray, y: Optional[np.ndarray]):\n",
    "        super().__init__()\n",
    "        self.x_num = x_num\n",
    "        self.x_cat = x_cat\n",
    "        self.y = y\n",
    "\n",
    "    def __len__(self):\n",
    "        return len(self.x_num)\n",
    "\n",
    "    def __getitem__(self, idx):\n",
    "        if self.y is None:\n",
    "            return self.x_num[idx], torch.LongTensor(self.x_cat[idx])\n",
    "        else:\n",
    "            return self.x_num[idx], torch.LongTensor(self.x_cat[idx]), self.y[idx]\n",
    "\n",
    "\n",
    "class MLP(nn.Module):\n",
    "    def __init__(self,\n",
    "                 src_num_dim: int,\n",
    "                 n_categories: List[int],\n",
    "                 dropout: float = 0.0,\n",
    "                 hidden: int = 50,\n",
    "                 emb_dim: int = 10,\n",
    "                 dropout_cat: float = 0.2,\n",
    "                 bn: bool = False):\n",
    "        super().__init__()\n",
    "\n",
    "        self.embs = nn.ModuleList([\n",
    "            nn.Embedding(x, emb_dim) for x in n_categories])\n",
    "        self.cat_dim = emb_dim * len(n_categories)\n",
    "        self.dropout_cat = nn.Dropout(dropout_cat)\n",
    "\n",
    "        if bn:\n",
    "            self.sequence = nn.Sequential(\n",
    "                nn.Linear(src_num_dim + self.cat_dim, hidden),\n",
    "                nn.Dropout(dropout),\n",
    "                nn.BatchNorm1d(hidden),\n",
    "                nn.ReLU(),\n",
    "                nn.Linear(hidden, hidden),\n",
    "                nn.Dropout(dropout),\n",
    "                nn.BatchNorm1d(hidden),\n",
    "                nn.ReLU(),\n",
    "                nn.Linear(hidden, 1)\n",
    "            )\n",
    "        else:\n",
    "            self.sequence = nn.Sequential(\n",
    "                nn.Linear(src_num_dim + self.cat_dim, hidden),\n",
    "                nn.Dropout(dropout),\n",
    "                nn.ReLU(),\n",
    "                nn.Linear(hidden, hidden),\n",
    "                nn.Dropout(dropout),\n",
    "                nn.ReLU(),\n",
    "                nn.Linear(hidden, 1)\n",
    "            )\n",
    "\n",
    "    def forward(self, x_num, x_cat):\n",
    "        embs = [embedding(x_cat[:, i]) for i, embedding in enumerate(self.embs)]\n",
    "        x_cat_emb = self.dropout_cat(torch.cat(embs, 1))\n",
    "        x_all = torch.cat([x_num, x_cat_emb], 1)\n",
    "        x = self.sequence(x_all)\n",
    "        return torch.squeeze(x)\n",
    "\n",
    "\n",
    "class CNN(nn.Module):\n",
    "    def __init__(self,\n",
    "                 num_features: int,\n",
    "                 hidden_size: int,\n",
    "                 n_categories: List[int],\n",
    "                 emb_dim: int = 10,\n",
    "                 dropout_cat: float = 0.2,\n",
    "                 channel_1: int = 256,\n",
    "                 channel_2: int = 512,\n",
    "                 channel_3: int = 512,\n",
    "                 dropout_top: float = 0.1,\n",
    "                 dropout_mid: float = 0.3,\n",
    "                 dropout_bottom: float = 0.2,\n",
    "                 weight_norm: bool = True,\n",
    "                 two_stage: bool = True,\n",
    "                 celu: bool = True,\n",
    "                 kernel1: int = 5,\n",
    "                 leaky_relu: bool = False):\n",
    "        super().__init__()\n",
    "\n",
    "        num_targets = 1\n",
    "\n",
    "        cha_1_reshape = int(hidden_size / channel_1)\n",
    "        cha_po_1 = int(hidden_size / channel_1 / 2)\n",
    "        cha_po_2 = int(hidden_size / channel_1 / 2 / 2) * channel_3\n",
    "\n",
    "        self.cat_dim = emb_dim * len(n_categories)\n",
    "        self.cha_1 = channel_1\n",
    "        self.cha_2 = channel_2\n",
    "        self.cha_3 = channel_3\n",
    "        self.cha_1_reshape = cha_1_reshape\n",
    "        self.cha_po_1 = cha_po_1\n",
    "        self.cha_po_2 = cha_po_2\n",
    "        self.two_stage = two_stage\n",
    "\n",
    "        self.expand = nn.Sequential(\n",
    "            nn.BatchNorm1d(num_features + self.cat_dim),\n",
    "            nn.Dropout(dropout_top),\n",
    "            nn.utils.weight_norm(nn.Linear(num_features + self.cat_dim, hidden_size), dim=None),\n",
    "            nn.CELU(0.06) if celu else nn.ReLU()\n",
    "        )\n",
    "\n",
    "        def _norm(layer, dim=None):\n",
    "            return nn.utils.weight_norm(layer, dim=dim) if weight_norm else layer\n",
    "\n",
    "        self.conv1 = nn.Sequential(\n",
    "            nn.BatchNorm1d(channel_1),\n",
    "            nn.Dropout(dropout_top),\n",
    "            _norm(nn.Conv1d(channel_1, channel_2, kernel_size=kernel1, stride=1, padding=kernel1 // 2, bias=False)),\n",
    "            nn.ReLU(),\n",
    "            nn.AdaptiveAvgPool1d(output_size=cha_po_1),\n",
    "            nn.BatchNorm1d(channel_2),\n",
    "            nn.Dropout(dropout_top),\n",
    "            _norm(nn.Conv1d(channel_2, channel_2, kernel_size=3, stride=1, padding=1, bias=True)),\n",
    "            nn.ReLU()\n",
    "        )\n",
    "\n",
    "        if self.two_stage:\n",
    "            self.conv2 = nn.Sequential(\n",
    "                nn.BatchNorm1d(channel_2),\n",
    "                nn.Dropout(dropout_mid),\n",
    "                _norm(nn.Conv1d(channel_2, channel_2, kernel_size=3, stride=1, padding=1, bias=True)),\n",
    "                nn.ReLU(),\n",
    "                nn.BatchNorm1d(channel_2),\n",
    "                nn.Dropout(dropout_bottom),\n",
    "                _norm(nn.Conv1d(channel_2, channel_3, kernel_size=5, stride=1, padding=2, bias=True)),\n",
    "                nn.ReLU()\n",
    "            )\n",
    "\n",
    "        self.max_po_c2 = nn.MaxPool1d(kernel_size=4, stride=2, padding=1)\n",
    "\n",
    "        self.flt = nn.Flatten()\n",
    "\n",
    "        if leaky_relu:\n",
    "            self.dense = nn.Sequential(\n",
    "                nn.BatchNorm1d(cha_po_2),\n",
    "                nn.Dropout(dropout_bottom),\n",
    "                _norm(nn.Linear(cha_po_2, num_targets), dim=0),\n",
    "                nn.LeakyReLU()\n",
    "            )\n",
    "        else:\n",
    "            self.dense = nn.Sequential(\n",
    "                nn.BatchNorm1d(cha_po_2),\n",
    "                nn.Dropout(dropout_bottom),\n",
    "                _norm(nn.Linear(cha_po_2, num_targets), dim=0)\n",
    "            )\n",
    "\n",
    "        self.embs = nn.ModuleList([nn.Embedding(x, emb_dim) for x in n_categories])\n",
    "        self.cat_dim = emb_dim * len(n_categories)\n",
    "        self.dropout_cat = nn.Dropout(dropout_cat)\n",
    "\n",
    "    def forward(self, x_num, x_cat):\n",
    "        embs = [embedding(x_cat[:, i]) for i, embedding in enumerate(self.embs)]\n",
    "        x_cat_emb = self.dropout_cat(torch.cat(embs, 1))\n",
    "        x = torch.cat([x_num, x_cat_emb], 1)\n",
    "\n",
    "        x = self.expand(x)\n",
    "\n",
    "        x = x.reshape(x.shape[0], self.cha_1, self.cha_1_reshape)\n",
    "\n",
    "        x = self.conv1(x)\n",
    "\n",
    "        if self.two_stage:\n",
    "            x = self.conv2(x) * x\n",
    "\n",
    "        x = self.max_po_c2(x)\n",
    "        x = self.flt(x)\n",
    "        x = self.dense(x)\n",
    "\n",
    "        return torch.squeeze(x)\n",
    "\n",
    "\n",
    "def preprocess_nn(\n",
    "        X: pd.DataFrame,\n",
    "        scaler: Optional[StandardScaler] = None,\n",
    "        scaler_type: str = 'standard',\n",
    "        n_pca: int = -1,\n",
    "        na_cols: bool = True):\n",
    "    if na_cols:\n",
    "        #for c in X.columns:\n",
    "        for c in null_check_cols:\n",
    "            if c in X.columns:\n",
    "                X[f\"{c}_isnull\"] = X[c].isnull().astype(int)\n",
    "\n",
    "    cat_cols = [c for c in X.columns if c in ['time_id', 'stock_id']]\n",
    "    num_cols = [c for c in X.columns if c not in cat_cols]\n",
    "\n",
    "    X_num = X[num_cols].values.astype(np.float32)\n",
    "    X_cat = np.nan_to_num(X[cat_cols].values.astype(np.int32))\n",
    "\n",
    "    def _pca(X_num_):\n",
    "        if n_pca > 0:\n",
    "            pca = PCA(n_components=n_pca, random_state=0)\n",
    "            return pca.fit_transform(X_num)\n",
    "        return X_num\n",
    "\n",
    "    if scaler is None:\n",
    "        if scaler_type == 'standard':\n",
    "            scaler = StandardScaler()\n",
    "        elif scaler_type == 'gauss':\n",
    "            scaler = GaussRankScaler()\n",
    "            X_num = np.nan_to_num(X_num, posinf=0, neginf=0)\n",
    "        X_num = scaler.fit_transform(X_num)\n",
    "        X_num = np.nan_to_num(X_num, posinf=0, neginf=0)\n",
    "        return _pca(X_num), X_cat, cat_cols, scaler\n",
    "    else:\n",
    "        X_num = scaler.transform(X_num) #TODO: infでも大丈夫？\n",
    "        X_num = np.nan_to_num(X_num, posinf=0, neginf=0)\n",
    "        return _pca(X_num), X_cat, cat_cols\n",
    "\n",
    "\n",
    "def train_epoch(data_loader: DataLoader,\n",
    "                model: nn.Module,\n",
    "                optimizer,\n",
    "                scheduler,\n",
    "                device,\n",
    "                clip_grad: float = 1.5):\n",
    "    model.train()\n",
    "    losses = AverageMeter()\n",
    "    step = 0\n",
    "\n",
    "    for x_num, x_cat, y in tqdm(data_loader, position=0, leave=True, desc='Training'):\n",
    "        batch_size = x_num.size(0)\n",
    "        x_num = x_num.to(device, dtype=torch.float)\n",
    "        x_cat = x_cat.to(device)\n",
    "        y = y.to(device, dtype=torch.float)\n",
    "\n",
    "        loss = rmspe_loss(y, model(x_num, x_cat))\n",
    "        losses.update(loss.detach().cpu().numpy(), batch_size)\n",
    "        loss.backward()\n",
    "\n",
    "        torch.nn.utils.clip_grad_norm_(model.parameters(), clip_grad)\n",
    "        optimizer.step()\n",
    "        optimizer.zero_grad()\n",
    "\n",
    "        if scheduler is not None:\n",
    "            scheduler.step()\n",
    "\n",
    "        step += 1\n",
    "\n",
    "    return losses.avg\n",
    "\n",
    "\n",
    "def evaluate(data_loader: DataLoader, model, device):\n",
    "    model.eval()\n",
    "\n",
    "    losses = AverageMeter()\n",
    "\n",
    "    final_targets = []\n",
    "    final_outputs = []\n",
    "\n",
    "    with torch.no_grad():\n",
    "        for x_num, x_cat, y in tqdm(data_loader, position=0, leave=True, desc='Evaluating'):\n",
    "            batch_size = x_num.size(0)\n",
    "            x_num = x_num.to(device, dtype=torch.float)\n",
    "            x_cat = x_cat.to(device)\n",
    "            y = y.to(device, dtype=torch.float)\n",
    "\n",
    "            with torch.no_grad():\n",
    "                output = model(x_num, x_cat)\n",
    "\n",
    "            loss = rmspe_loss(y, output)\n",
    "            # record loss\n",
    "            losses.update(loss.detach().cpu().numpy(), batch_size)\n",
    "\n",
    "            targets = y.detach().cpu().numpy()\n",
    "            output = output.detach().cpu().numpy()\n",
    "\n",
    "            final_targets.append(targets)\n",
    "            final_outputs.append(output)\n",
    "\n",
    "    final_targets = np.concatenate(final_targets)\n",
    "    final_outputs = np.concatenate(final_outputs)\n",
    "\n",
    "    try:\n",
    "        metric = rmspe_metric(final_targets, final_outputs)\n",
    "    except:\n",
    "        metric = None\n",
    "\n",
    "    return final_outputs, final_targets, losses.avg, metric\n",
    "\n",
    "\n",
    "def predict_nn(X: pd.DataFrame,\n",
    "               model: Union[List[MLP], MLP],\n",
    "               scaler: StandardScaler,\n",
    "               device,\n",
    "               ensemble_method='mean'):\n",
    "    if not isinstance(model, list):\n",
    "        model = [model]\n",
    "\n",
    "    for m in model:\n",
    "        m.eval()\n",
    "    X_num, X_cat, cat_cols = preprocess_nn(X.copy(), scaler=scaler)\n",
    "    valid_dataset = TabularDataset(X_num, X_cat, None)\n",
    "    valid_loader = torch.utils.data.DataLoader(valid_dataset,\n",
    "                                               batch_size=512,\n",
    "                                               shuffle=False,\n",
    "                                               num_workers=4)\n",
    "\n",
    "    final_outputs = []\n",
    "\n",
    "    with torch.no_grad():\n",
    "        for x_num, x_cat in tqdm(valid_loader, position=0, leave=True, desc='Evaluating'):\n",
    "            x_num = x_num.to(device, dtype=torch.float)\n",
    "            x_cat = x_cat.to(device)\n",
    "\n",
    "            outputs = []\n",
    "            with torch.no_grad():\n",
    "                for m in model:\n",
    "                    output = m(x_num, x_cat)\n",
    "                    outputs.append(output.detach().cpu().numpy())\n",
    "                    \n",
    "            if ensemble_method == 'median':\n",
    "                pred = np.nanmedian(np.array(outputs), axis=0)\n",
    "            else:\n",
    "                pred = np.array(outputs).mean(axis=0)\n",
    "            final_outputs.append(pred)\n",
    "\n",
    "    final_outputs = np.concatenate(final_outputs)\n",
    "    return final_outputs\n",
    "\n",
    "def train_nn(X: pd.DataFrame,\n",
    "             y: pd.DataFrame,\n",
    "             folds: List[Tuple],\n",
    "             device,\n",
    "             emb_dim: int = 25,\n",
    "             batch_size: int = 1024,\n",
    "             model_type: str = 'mlp',\n",
    "             mlp_dropout: float = 0.0,\n",
    "             mlp_hidden: int = 64,\n",
    "             mlp_bn: bool = False,\n",
    "             cnn_hidden: int = 64,\n",
    "             cnn_channel1: int = 32,\n",
    "             cnn_channel2: int = 32,\n",
    "             cnn_channel3: int = 32,\n",
    "             cnn_kernel1: int = 5,\n",
    "             cnn_celu: bool = False,\n",
    "             cnn_weight_norm: bool = False,\n",
    "             dropout_emb: bool = 0.0,\n",
    "             lr: float = 1e-3,\n",
    "             weight_decay: float = 0.0,\n",
    "             model_path: str = 'fold_{}.pth',\n",
    "             scaler_type: str = 'standard',\n",
    "             output_dir: str = 'artifacts',\n",
    "             scheduler_type: str = 'onecycle',\n",
    "             optimizer_type: str = 'adam',\n",
    "             max_lr: float = 0.01,\n",
    "             epochs: int = 30,\n",
    "             seed: int = 42,\n",
    "             n_pca: int = -1,\n",
    "             batch_double_freq: int = 50,\n",
    "             cnn_dropout: float = 0.1,\n",
    "             na_cols: bool = True,\n",
    "             cnn_leaky_relu: bool = False,\n",
    "             patience: int = 8,\n",
    "             factor: float = 0.5):\n",
    "    seed_everything(seed)\n",
    "\n",
    "    os.makedirs(output_dir, exist_ok=True)\n",
    "\n",
    "    y = y.values.astype(np.float32)\n",
    "    X_num, X_cat, cat_cols, scaler = preprocess_nn(X.copy(), scaler_type=scaler_type, n_pca=n_pca, na_cols=na_cols)\n",
    "\n",
    "    best_losses = []\n",
    "    best_predictions = []\n",
    "\n",
    "\n",
    "    for cv_idx, (train_idx, valid_idx) in enumerate(folds):\n",
    "        X_tr, X_va = X_num[train_idx], X_num[valid_idx]\n",
    "        X_tr_cat, X_va_cat = X_cat[train_idx], X_cat[valid_idx]\n",
    "        y_tr, y_va = y[train_idx], y[valid_idx]\n",
    "\n",
    "        cur_batch = batch_size\n",
    "        best_loss = 1e10\n",
    "        best_prediction = None\n",
    "\n",
    "        print(f\"fold {cv_idx} train: {X_tr.shape}, valid: {X_va.shape}\")\n",
    "\n",
    "        train_dataset = TabularDataset(X_tr, X_tr_cat, y_tr)\n",
    "        valid_dataset = TabularDataset(X_va, X_va_cat, y_va)\n",
    "        train_loader = torch.utils.data.DataLoader(train_dataset, batch_size=cur_batch, shuffle=True,\n",
    "                                                   num_workers=4)\n",
    "        valid_loader = torch.utils.data.DataLoader(valid_dataset, batch_size=cur_batch, shuffle=False,\n",
    "                                                   num_workers=4)\n",
    "\n",
    "        if model_type == 'mlp':\n",
    "            model = MLP(X_tr.shape[1],\n",
    "                        n_categories=[128],\n",
    "                        dropout=mlp_dropout, hidden=mlp_hidden, emb_dim=emb_dim,\n",
    "                        dropout_cat=dropout_emb, bn=mlp_bn)\n",
    "        elif model_type == 'cnn':\n",
    "            model = CNN(X_tr.shape[1],\n",
    "                        hidden_size=cnn_hidden,\n",
    "                        n_categories=[128],\n",
    "                        emb_dim=emb_dim,\n",
    "                        dropout_cat=dropout_emb,\n",
    "                        channel_1=cnn_channel1,\n",
    "                        channel_2=cnn_channel2,\n",
    "                        channel_3=cnn_channel3,\n",
    "                        two_stage=False,\n",
    "                        kernel1=cnn_kernel1,\n",
    "                        celu=cnn_celu,\n",
    "                        dropout_top=cnn_dropout,\n",
    "                        dropout_mid=cnn_dropout,\n",
    "                        dropout_bottom=cnn_dropout,\n",
    "                        weight_norm=cnn_weight_norm,\n",
    "                        leaky_relu=cnn_leaky_relu)\n",
    "        else:\n",
    "            raise NotImplementedError()\n",
    "        model = model.to(device)\n",
    "\n",
    "        if optimizer_type == 'adamw':\n",
    "            opt = torch.optim.AdamW(model.parameters(), lr=lr, weight_decay=weight_decay)\n",
    "        elif optimizer_type == 'adam':\n",
    "            opt = torch.optim.Adam(model.parameters(), lr=lr, weight_decay=weight_decay)\n",
    "        else:\n",
    "            raise NotImplementedError()\n",
    "\n",
    "        scheduler = epoch_scheduler = None\n",
    "        if scheduler_type == 'onecycle':\n",
    "            scheduler = torch.optim.lr_scheduler.OneCycleLR(optimizer=opt, pct_start=0.1, div_factor=1e3,\n",
    "                                                            max_lr=max_lr, epochs=epochs,\n",
    "                                                            steps_per_epoch=len(train_loader))\n",
    "        elif scheduler_type == 'reduce':\n",
    "            epoch_scheduler = torch.optim.lr_scheduler.ReduceLROnPlateau(optimizer=opt, \n",
    "                                                                         mode='min',\n",
    "                                                                         min_lr=1e-7,\n",
    "                                                                         patience=patience,\n",
    "                                                                         verbose=True,\n",
    "                                                                         factor=factor)\n",
    "\n",
    "        for epoch in range(epochs):\n",
    "            if epoch > 0 and epoch % batch_double_freq == 0:\n",
    "                cur_batch = cur_batch * 2\n",
    "                print(f'batch: {cur_batch}')\n",
    "                train_loader = torch.utils.data.DataLoader(train_dataset,\n",
    "                                                           batch_size=cur_batch,\n",
    "                                                           shuffle=True,\n",
    "                                                           num_workers=4)\n",
    "            train_loss = train_epoch(train_loader, model, opt, scheduler, device)\n",
    "            predictions, valid_targets, valid_loss, rmspe = evaluate(valid_loader, model, device=device)\n",
    "            print(f\"epoch {epoch}, train loss: {train_loss:.3f}, valid rmspe: {rmspe:.3f}\")\n",
    "            \n",
    "            if epoch_scheduler is not None:\n",
    "                epoch_scheduler.step(rmspe)\n",
    "\n",
    "            if rmspe < best_loss:\n",
    "                print(f'new best:{rmspe}')\n",
    "                best_loss = rmspe\n",
    "                best_prediction = predictions\n",
    "                torch.save(model, os.path.join(output_dir, model_path.format(cv_idx)))\n",
    "\n",
    "        best_predictions.append(best_prediction)\n",
    "        best_losses.append(best_loss)\n",
    "        del model, train_dataset, valid_dataset, train_loader, valid_loader, X_tr, X_va, X_tr_cat, X_va_cat, y_tr, y_va, opt\n",
    "        if scheduler is not None:\n",
    "            del scheduler\n",
    "        gc.collect()\n",
    "        \n",
    "    return best_losses, best_predictions, scaler\n"
   ]
  },
  {
   "cell_type": "code",
   "execution_count": 16,
   "id": "a43ab109",
   "metadata": {
    "execution": {
     "iopub.execute_input": "2021-09-23T01:27:22.180893Z",
     "iopub.status.busy": "2021-09-23T01:27:22.179959Z",
     "iopub.status.idle": "2021-09-23T01:27:22.294089Z",
     "shell.execute_reply": "2021-09-23T01:27:22.293509Z"
    },
    "papermill": {
     "duration": 0.190778,
     "end_time": "2021-09-23T01:27:22.294214",
     "exception": false,
     "start_time": "2021-09-23T01:27:22.103436",
     "status": "completed"
    },
    "tags": []
   },
   "outputs": [
    {
     "name": "stdout",
     "output_type": "stream",
     "text": [
      "|            Variable Name|    Memory|\n",
      " ------------------------------------ \n",
      "|                        X|1336552272|\n",
      "|                       df| 646834140|\n",
      "|                    df_pv|  20589040|\n",
      "|                 df_train|1343415184|\n",
      "|                      dst|  10303264|\n",
      "|                    index|    162832|\n",
      "|     neighbors_stock_size| 274749568|\n",
      "|                    pivot|   3434528|\n",
      "|           time_id_orders|   3431616|\n",
      "|             timeid_order|     61440|\n",
      "|                    train|  10294528|\n",
      "|                        y|   3431616|\n",
      "|                   y_pred|    343264|\n",
      "|                   y_true|    686368|\n"
     ]
    }
   ],
   "source": [
    "import sys\n",
    "\n",
    "print(\"{}{: >25}{}{: >10}{}\".format('|','Variable Name','|','Memory','|'))\n",
    "print(\" ------------------------------------ \")\n",
    "for var_name in dir():\n",
    "    if not var_name.startswith(\"_\") and sys.getsizeof(eval(var_name)) > 10000: #ここだけアレンジ\n",
    "        print(\"{}{: >25}{}{: >10}{}\".format('|',var_name,'|',sys.getsizeof(eval(var_name)),'|'))"
   ]
  },
  {
   "cell_type": "code",
   "execution_count": 17,
   "id": "ee4fbd56",
   "metadata": {
    "execution": {
     "iopub.execute_input": "2021-09-23T01:27:22.585142Z",
     "iopub.status.busy": "2021-09-23T01:27:22.583913Z",
     "iopub.status.idle": "2021-09-23T02:23:52.495996Z",
     "shell.execute_reply": "2021-09-23T02:23:52.495372Z"
    },
    "papermill": {
     "duration": 3390.156301,
     "end_time": "2021-09-23T02:23:52.496191",
     "exception": false,
     "start_time": "2021-09-23T01:27:22.339890",
     "status": "completed"
    },
    "tags": []
   },
   "outputs": [
    {
     "name": "stdout",
     "output_type": "stream",
     "text": [
      "cuda\n",
      "fold 0 train: (386036, 591), valid: (42896, 591)\n"
     ]
    },
    {
     "name": "stderr",
     "output_type": "stream",
     "text": [
      "Training: 100%|██████████| 754/754 [00:12<00:00, 59.81it/s]\n",
      "Evaluating: 100%|██████████| 84/84 [00:01<00:00, 61.72it/s]\n",
      "Training:   0%|          | 0/754 [00:00<?, ?it/s]"
     ]
    },
    {
     "name": "stdout",
     "output_type": "stream",
     "text": [
      "epoch 0, train loss: 21.544, valid rmspe: 3.555\n",
      "new best:3.5548722743988037\n"
     ]
    },
    {
     "name": "stderr",
     "output_type": "stream",
     "text": [
      "Training: 100%|██████████| 754/754 [00:12<00:00, 60.79it/s]\n",
      "Evaluating: 100%|██████████| 84/84 [00:01<00:00, 69.47it/s]\n",
      "Training:   0%|          | 0/754 [00:00<?, ?it/s]"
     ]
    },
    {
     "name": "stdout",
     "output_type": "stream",
     "text": [
      "epoch 1, train loss: 5.478, valid rmspe: 4.388\n"
     ]
    },
    {
     "name": "stderr",
     "output_type": "stream",
     "text": [
      "Training: 100%|██████████| 754/754 [00:11<00:00, 64.38it/s]\n",
      "Evaluating: 100%|██████████| 84/84 [00:01<00:00, 69.80it/s]\n",
      "Training:   0%|          | 0/754 [00:00<?, ?it/s]"
     ]
    },
    {
     "name": "stdout",
     "output_type": "stream",
     "text": [
      "epoch 2, train loss: 5.763, valid rmspe: 3.002\n",
      "new best:3.0017120838165283\n"
     ]
    },
    {
     "name": "stderr",
     "output_type": "stream",
     "text": [
      "Training: 100%|██████████| 754/754 [00:11<00:00, 64.17it/s]\n",
      "Evaluating: 100%|██████████| 84/84 [00:01<00:00, 69.67it/s]\n",
      "Training:   0%|          | 0/754 [00:00<?, ?it/s]"
     ]
    },
    {
     "name": "stdout",
     "output_type": "stream",
     "text": [
      "epoch 3, train loss: 2.365, valid rmspe: 1.426\n",
      "new best:1.4262170791625977\n"
     ]
    },
    {
     "name": "stderr",
     "output_type": "stream",
     "text": [
      "Training: 100%|██████████| 754/754 [00:12<00:00, 61.69it/s]\n",
      "Evaluating: 100%|██████████| 84/84 [00:01<00:00, 68.86it/s]\n",
      "Training:   0%|          | 0/754 [00:00<?, ?it/s]"
     ]
    },
    {
     "name": "stdout",
     "output_type": "stream",
     "text": [
      "epoch 4, train loss: 1.146, valid rmspe: 0.321\n",
      "new best:0.32077842950820923\n"
     ]
    },
    {
     "name": "stderr",
     "output_type": "stream",
     "text": [
      "Training: 100%|██████████| 754/754 [00:11<00:00, 63.90it/s]\n",
      "Evaluating: 100%|██████████| 84/84 [00:01<00:00, 62.00it/s]\n",
      "Training:   0%|          | 0/754 [00:00<?, ?it/s]"
     ]
    },
    {
     "name": "stdout",
     "output_type": "stream",
     "text": [
      "epoch 5, train loss: 0.549, valid rmspe: 0.328\n"
     ]
    },
    {
     "name": "stderr",
     "output_type": "stream",
     "text": [
      "Training: 100%|██████████| 754/754 [00:12<00:00, 61.87it/s]\n",
      "Evaluating: 100%|██████████| 84/84 [00:01<00:00, 70.06it/s]\n",
      "Training:   0%|          | 0/754 [00:00<?, ?it/s]"
     ]
    },
    {
     "name": "stdout",
     "output_type": "stream",
     "text": [
      "epoch 6, train loss: 0.552, valid rmspe: 0.643\n"
     ]
    },
    {
     "name": "stderr",
     "output_type": "stream",
     "text": [
      "Training: 100%|██████████| 754/754 [00:11<00:00, 64.78it/s]\n",
      "Evaluating: 100%|██████████| 84/84 [00:01<00:00, 61.76it/s]\n",
      "Training:   0%|          | 0/754 [00:00<?, ?it/s]"
     ]
    },
    {
     "name": "stdout",
     "output_type": "stream",
     "text": [
      "epoch 7, train loss: 0.577, valid rmspe: 0.230\n",
      "new best:0.23008973896503448\n"
     ]
    },
    {
     "name": "stderr",
     "output_type": "stream",
     "text": [
      "Training: 100%|██████████| 754/754 [00:11<00:00, 63.62it/s]\n",
      "Evaluating: 100%|██████████| 84/84 [00:01<00:00, 68.85it/s]\n",
      "Training:   0%|          | 0/754 [00:00<?, ?it/s]"
     ]
    },
    {
     "name": "stdout",
     "output_type": "stream",
     "text": [
      "epoch 8, train loss: 0.493, valid rmspe: 0.571\n"
     ]
    },
    {
     "name": "stderr",
     "output_type": "stream",
     "text": [
      "Training: 100%|██████████| 754/754 [00:12<00:00, 62.19it/s]\n",
      "Evaluating: 100%|██████████| 84/84 [00:01<00:00, 66.72it/s]\n",
      "Training:   0%|          | 0/754 [00:00<?, ?it/s]"
     ]
    },
    {
     "name": "stdout",
     "output_type": "stream",
     "text": [
      "epoch 9, train loss: 0.535, valid rmspe: 0.780\n"
     ]
    },
    {
     "name": "stderr",
     "output_type": "stream",
     "text": [
      "Training: 100%|██████████| 754/754 [00:11<00:00, 63.05it/s]\n",
      "Evaluating: 100%|██████████| 84/84 [00:01<00:00, 54.48it/s]\n",
      "Training:   0%|          | 0/754 [00:00<?, ?it/s]"
     ]
    },
    {
     "name": "stdout",
     "output_type": "stream",
     "text": [
      "epoch 10, train loss: 0.437, valid rmspe: 0.337\n"
     ]
    },
    {
     "name": "stderr",
     "output_type": "stream",
     "text": [
      "Training: 100%|██████████| 754/754 [00:12<00:00, 61.68it/s]\n",
      "Evaluating: 100%|██████████| 84/84 [00:01<00:00, 70.68it/s]\n",
      "Training:   0%|          | 0/754 [00:00<?, ?it/s]"
     ]
    },
    {
     "name": "stdout",
     "output_type": "stream",
     "text": [
      "epoch 11, train loss: 0.401, valid rmspe: 0.350\n"
     ]
    },
    {
     "name": "stderr",
     "output_type": "stream",
     "text": [
      "Training: 100%|██████████| 754/754 [00:12<00:00, 62.69it/s]\n",
      "Evaluating: 100%|██████████| 84/84 [00:01<00:00, 69.60it/s]\n",
      "Training:   0%|          | 0/754 [00:00<?, ?it/s]"
     ]
    },
    {
     "name": "stdout",
     "output_type": "stream",
     "text": [
      "epoch 12, train loss: 0.437, valid rmspe: 0.351\n"
     ]
    },
    {
     "name": "stderr",
     "output_type": "stream",
     "text": [
      "Training: 100%|██████████| 754/754 [00:11<00:00, 64.93it/s]\n",
      "Evaluating: 100%|██████████| 84/84 [00:01<00:00, 65.18it/s]\n",
      "Training:   0%|          | 0/754 [00:00<?, ?it/s]"
     ]
    },
    {
     "name": "stdout",
     "output_type": "stream",
     "text": [
      "epoch 13, train loss: 0.404, valid rmspe: 0.198\n",
      "new best:0.19765082001686096\n"
     ]
    },
    {
     "name": "stderr",
     "output_type": "stream",
     "text": [
      "Training: 100%|██████████| 754/754 [00:12<00:00, 61.72it/s]\n",
      "Evaluating: 100%|██████████| 84/84 [00:01<00:00, 67.65it/s]\n",
      "Training:   0%|          | 0/754 [00:00<?, ?it/s]"
     ]
    },
    {
     "name": "stdout",
     "output_type": "stream",
     "text": [
      "epoch 14, train loss: 0.346, valid rmspe: 0.277\n"
     ]
    },
    {
     "name": "stderr",
     "output_type": "stream",
     "text": [
      "Training: 100%|██████████| 754/754 [00:12<00:00, 59.98it/s]\n",
      "Evaluating: 100%|██████████| 84/84 [00:01<00:00, 64.70it/s]\n",
      "Training:   0%|          | 0/754 [00:00<?, ?it/s]"
     ]
    },
    {
     "name": "stdout",
     "output_type": "stream",
     "text": [
      "epoch 15, train loss: 0.324, valid rmspe: 0.270\n"
     ]
    },
    {
     "name": "stderr",
     "output_type": "stream",
     "text": [
      "Training: 100%|██████████| 754/754 [00:12<00:00, 61.94it/s]\n",
      "Evaluating: 100%|██████████| 84/84 [00:01<00:00, 69.60it/s]\n",
      "Training:   0%|          | 0/754 [00:00<?, ?it/s]"
     ]
    },
    {
     "name": "stdout",
     "output_type": "stream",
     "text": [
      "epoch 16, train loss: 0.291, valid rmspe: 0.210\n"
     ]
    },
    {
     "name": "stderr",
     "output_type": "stream",
     "text": [
      "Training: 100%|██████████| 754/754 [00:12<00:00, 61.64it/s]\n",
      "Evaluating: 100%|██████████| 84/84 [00:01<00:00, 70.34it/s]\n",
      "Training:   0%|          | 0/754 [00:00<?, ?it/s]"
     ]
    },
    {
     "name": "stdout",
     "output_type": "stream",
     "text": [
      "epoch 17, train loss: 0.269, valid rmspe: 0.186\n",
      "new best:0.1859540045261383\n"
     ]
    },
    {
     "name": "stderr",
     "output_type": "stream",
     "text": [
      "Training: 100%|██████████| 754/754 [00:11<00:00, 64.97it/s]\n",
      "Evaluating: 100%|██████████| 84/84 [00:01<00:00, 70.56it/s]\n",
      "Training:   0%|          | 0/754 [00:00<?, ?it/s]"
     ]
    },
    {
     "name": "stdout",
     "output_type": "stream",
     "text": [
      "epoch 18, train loss: 0.254, valid rmspe: 0.201\n"
     ]
    },
    {
     "name": "stderr",
     "output_type": "stream",
     "text": [
      "Training: 100%|██████████| 754/754 [00:12<00:00, 59.59it/s]\n",
      "Evaluating: 100%|██████████| 84/84 [00:01<00:00, 50.80it/s]\n",
      "Training:   0%|          | 0/754 [00:00<?, ?it/s]"
     ]
    },
    {
     "name": "stdout",
     "output_type": "stream",
     "text": [
      "epoch 19, train loss: 0.263, valid rmspe: 0.302\n"
     ]
    },
    {
     "name": "stderr",
     "output_type": "stream",
     "text": [
      "Training: 100%|██████████| 754/754 [00:11<00:00, 65.75it/s]\n",
      "Evaluating: 100%|██████████| 84/84 [00:01<00:00, 69.42it/s]\n",
      "Training:   0%|          | 0/754 [00:00<?, ?it/s]"
     ]
    },
    {
     "name": "stdout",
     "output_type": "stream",
     "text": [
      "epoch 20, train loss: 0.253, valid rmspe: 0.254\n"
     ]
    },
    {
     "name": "stderr",
     "output_type": "stream",
     "text": [
      "Training: 100%|██████████| 754/754 [00:11<00:00, 63.27it/s]\n",
      "Evaluating: 100%|██████████| 84/84 [00:01<00:00, 70.26it/s]\n",
      "Training:   0%|          | 0/754 [00:00<?, ?it/s]"
     ]
    },
    {
     "name": "stdout",
     "output_type": "stream",
     "text": [
      "epoch 21, train loss: 0.254, valid rmspe: 0.217\n"
     ]
    },
    {
     "name": "stderr",
     "output_type": "stream",
     "text": [
      "Training: 100%|██████████| 754/754 [00:12<00:00, 61.98it/s]\n",
      "Evaluating: 100%|██████████| 84/84 [00:01<00:00, 69.37it/s]\n",
      "Training:   0%|          | 0/754 [00:00<?, ?it/s]"
     ]
    },
    {
     "name": "stdout",
     "output_type": "stream",
     "text": [
      "epoch 22, train loss: 0.229, valid rmspe: 0.197\n"
     ]
    },
    {
     "name": "stderr",
     "output_type": "stream",
     "text": [
      "Training: 100%|██████████| 754/754 [00:11<00:00, 65.76it/s]\n",
      "Evaluating: 100%|██████████| 84/84 [00:01<00:00, 69.63it/s]\n",
      "Training:   0%|          | 0/754 [00:00<?, ?it/s]"
     ]
    },
    {
     "name": "stdout",
     "output_type": "stream",
     "text": [
      "epoch 23, train loss: 0.219, valid rmspe: 0.183\n",
      "new best:0.1834007203578949\n"
     ]
    },
    {
     "name": "stderr",
     "output_type": "stream",
     "text": [
      "Training: 100%|██████████| 754/754 [00:12<00:00, 58.53it/s]\n",
      "Evaluating: 100%|██████████| 84/84 [00:01<00:00, 58.44it/s]\n",
      "Training:   0%|          | 0/754 [00:00<?, ?it/s]"
     ]
    },
    {
     "name": "stdout",
     "output_type": "stream",
     "text": [
      "epoch 24, train loss: 0.214, valid rmspe: 0.215\n"
     ]
    },
    {
     "name": "stderr",
     "output_type": "stream",
     "text": [
      "Training: 100%|██████████| 754/754 [00:11<00:00, 66.06it/s]\n",
      "Evaluating: 100%|██████████| 84/84 [00:01<00:00, 70.02it/s]\n",
      "Training:   0%|          | 0/754 [00:00<?, ?it/s]"
     ]
    },
    {
     "name": "stdout",
     "output_type": "stream",
     "text": [
      "epoch 25, train loss: 0.208, valid rmspe: 0.193\n"
     ]
    },
    {
     "name": "stderr",
     "output_type": "stream",
     "text": [
      "Training: 100%|██████████| 754/754 [00:11<00:00, 63.14it/s]\n",
      "Evaluating: 100%|██████████| 84/84 [00:01<00:00, 69.78it/s]\n",
      "Training:   0%|          | 0/754 [00:00<?, ?it/s]"
     ]
    },
    {
     "name": "stdout",
     "output_type": "stream",
     "text": [
      "epoch 26, train loss: 0.208, valid rmspe: 0.198\n"
     ]
    },
    {
     "name": "stderr",
     "output_type": "stream",
     "text": [
      "Training: 100%|██████████| 754/754 [00:12<00:00, 62.07it/s]\n",
      "Evaluating: 100%|██████████| 84/84 [00:01<00:00, 70.44it/s]\n",
      "Training:   0%|          | 0/754 [00:00<?, ?it/s]"
     ]
    },
    {
     "name": "stdout",
     "output_type": "stream",
     "text": [
      "epoch 27, train loss: 0.201, valid rmspe: 0.184\n"
     ]
    },
    {
     "name": "stderr",
     "output_type": "stream",
     "text": [
      "Training: 100%|██████████| 754/754 [00:11<00:00, 66.00it/s]\n",
      "Evaluating: 100%|██████████| 84/84 [00:01<00:00, 69.13it/s]\n",
      "Training:   0%|          | 0/754 [00:00<?, ?it/s]"
     ]
    },
    {
     "name": "stdout",
     "output_type": "stream",
     "text": [
      "epoch 28, train loss: 0.198, valid rmspe: 0.184\n"
     ]
    },
    {
     "name": "stderr",
     "output_type": "stream",
     "text": [
      "Training: 100%|██████████| 754/754 [00:12<00:00, 58.46it/s]\n",
      "Evaluating: 100%|██████████| 84/84 [00:01<00:00, 56.94it/s]\n"
     ]
    },
    {
     "name": "stdout",
     "output_type": "stream",
     "text": [
      "epoch 29, train loss: 0.197, valid rmspe: 0.183\n",
      "new best:0.18260832130908966\n",
      "[0.18260832]\n",
      "model of seed 0 added.\n"
     ]
    },
    {
     "name": "stderr",
     "output_type": "stream",
     "text": [
      "Training:   0%|          | 0/754 [00:00<?, ?it/s]"
     ]
    },
    {
     "name": "stdout",
     "output_type": "stream",
     "text": [
      "fold 0 train: (386036, 591), valid: (42896, 591)\n"
     ]
    },
    {
     "name": "stderr",
     "output_type": "stream",
     "text": [
      "Training: 100%|██████████| 754/754 [00:11<00:00, 66.22it/s]\n",
      "Evaluating: 100%|██████████| 84/84 [00:02<00:00, 41.28it/s]\n",
      "Training:   0%|          | 0/754 [00:00<?, ?it/s]"
     ]
    },
    {
     "name": "stdout",
     "output_type": "stream",
     "text": [
      "epoch 0, train loss: 26.458, valid rmspe: 5.718\n",
      "new best:5.71785831451416\n"
     ]
    },
    {
     "name": "stderr",
     "output_type": "stream",
     "text": [
      "Training: 100%|██████████| 754/754 [00:12<00:00, 61.41it/s]\n",
      "Evaluating: 100%|██████████| 84/84 [00:01<00:00, 69.87it/s]\n",
      "Training:   0%|          | 0/754 [00:00<?, ?it/s]"
     ]
    },
    {
     "name": "stdout",
     "output_type": "stream",
     "text": [
      "epoch 1, train loss: 7.088, valid rmspe: 2.920\n",
      "new best:2.9196858406066895\n"
     ]
    },
    {
     "name": "stderr",
     "output_type": "stream",
     "text": [
      "Training: 100%|██████████| 754/754 [00:11<00:00, 66.48it/s]\n",
      "Evaluating: 100%|██████████| 84/84 [00:01<00:00, 70.10it/s]\n",
      "Training:   0%|          | 0/754 [00:00<?, ?it/s]"
     ]
    },
    {
     "name": "stdout",
     "output_type": "stream",
     "text": [
      "epoch 2, train loss: 4.277, valid rmspe: 1.276\n",
      "new best:1.2764371633529663\n"
     ]
    },
    {
     "name": "stderr",
     "output_type": "stream",
     "text": [
      "Training: 100%|██████████| 754/754 [00:12<00:00, 61.19it/s]\n",
      "Evaluating: 100%|██████████| 84/84 [00:01<00:00, 58.21it/s]\n",
      "Training:   0%|          | 0/754 [00:00<?, ?it/s]"
     ]
    },
    {
     "name": "stdout",
     "output_type": "stream",
     "text": [
      "epoch 3, train loss: 1.603, valid rmspe: 0.818\n",
      "new best:0.8175786137580872\n"
     ]
    },
    {
     "name": "stderr",
     "output_type": "stream",
     "text": [
      "Training: 100%|██████████| 754/754 [00:11<00:00, 64.92it/s]\n",
      "Evaluating: 100%|██████████| 84/84 [00:01<00:00, 68.75it/s]\n",
      "Training:   0%|          | 0/754 [00:00<?, ?it/s]"
     ]
    },
    {
     "name": "stdout",
     "output_type": "stream",
     "text": [
      "epoch 4, train loss: 0.745, valid rmspe: 1.012\n"
     ]
    },
    {
     "name": "stderr",
     "output_type": "stream",
     "text": [
      "Training: 100%|██████████| 754/754 [00:11<00:00, 65.28it/s]\n",
      "Evaluating: 100%|██████████| 84/84 [00:01<00:00, 42.35it/s]\n",
      "Training:   0%|          | 0/754 [00:00<?, ?it/s]"
     ]
    },
    {
     "name": "stdout",
     "output_type": "stream",
     "text": [
      "epoch 5, train loss: 0.758, valid rmspe: 0.421\n",
      "new best:0.4210692346096039\n"
     ]
    },
    {
     "name": "stderr",
     "output_type": "stream",
     "text": [
      "Training: 100%|██████████| 754/754 [00:12<00:00, 60.65it/s]\n",
      "Evaluating: 100%|██████████| 84/84 [00:01<00:00, 70.62it/s]\n",
      "Training:   0%|          | 0/754 [00:00<?, ?it/s]"
     ]
    },
    {
     "name": "stdout",
     "output_type": "stream",
     "text": [
      "epoch 6, train loss: 0.551, valid rmspe: 0.854\n"
     ]
    },
    {
     "name": "stderr",
     "output_type": "stream",
     "text": [
      "Training: 100%|██████████| 754/754 [00:11<00:00, 64.64it/s]\n",
      "Evaluating: 100%|██████████| 84/84 [00:01<00:00, 70.44it/s]\n",
      "Training:   0%|          | 0/754 [00:00<?, ?it/s]"
     ]
    },
    {
     "name": "stdout",
     "output_type": "stream",
     "text": [
      "epoch 7, train loss: 0.634, valid rmspe: 0.309\n",
      "new best:0.30856844782829285\n"
     ]
    },
    {
     "name": "stderr",
     "output_type": "stream",
     "text": [
      "Training: 100%|██████████| 754/754 [00:12<00:00, 60.47it/s]\n",
      "Evaluating: 100%|██████████| 84/84 [00:01<00:00, 54.36it/s]\n",
      "Training:   0%|          | 0/754 [00:00<?, ?it/s]"
     ]
    },
    {
     "name": "stdout",
     "output_type": "stream",
     "text": [
      "epoch 8, train loss: 0.549, valid rmspe: 0.411\n"
     ]
    },
    {
     "name": "stderr",
     "output_type": "stream",
     "text": [
      "Training: 100%|██████████| 754/754 [00:11<00:00, 65.14it/s]\n",
      "Evaluating: 100%|██████████| 84/84 [00:01<00:00, 61.57it/s]\n",
      "Training:   0%|          | 0/754 [00:00<?, ?it/s]"
     ]
    },
    {
     "name": "stdout",
     "output_type": "stream",
     "text": [
      "epoch 9, train loss: 0.307, valid rmspe: 0.202\n",
      "new best:0.2017420083284378\n"
     ]
    },
    {
     "name": "stderr",
     "output_type": "stream",
     "text": [
      "Training: 100%|██████████| 754/754 [00:12<00:00, 62.21it/s]\n",
      "Evaluating: 100%|██████████| 84/84 [00:01<00:00, 69.47it/s]\n",
      "Training:   0%|          | 0/754 [00:00<?, ?it/s]"
     ]
    },
    {
     "name": "stdout",
     "output_type": "stream",
     "text": [
      "epoch 10, train loss: 0.454, valid rmspe: 0.348\n"
     ]
    },
    {
     "name": "stderr",
     "output_type": "stream",
     "text": [
      "Training: 100%|██████████| 754/754 [00:12<00:00, 59.93it/s]\n",
      "Evaluating: 100%|██████████| 84/84 [00:01<00:00, 69.71it/s]\n",
      "Training:   0%|          | 0/754 [00:00<?, ?it/s]"
     ]
    },
    {
     "name": "stdout",
     "output_type": "stream",
     "text": [
      "epoch 11, train loss: 0.376, valid rmspe: 0.229\n"
     ]
    },
    {
     "name": "stderr",
     "output_type": "stream",
     "text": [
      "Training: 100%|██████████| 754/754 [00:11<00:00, 66.35it/s]\n",
      "Evaluating: 100%|██████████| 84/84 [00:01<00:00, 69.38it/s]\n",
      "Training:   0%|          | 0/754 [00:00<?, ?it/s]"
     ]
    },
    {
     "name": "stdout",
     "output_type": "stream",
     "text": [
      "epoch 12, train loss: 0.399, valid rmspe: 0.206\n"
     ]
    },
    {
     "name": "stderr",
     "output_type": "stream",
     "text": [
      "Training: 100%|██████████| 754/754 [00:12<00:00, 60.40it/s]\n",
      "Evaluating: 100%|██████████| 84/84 [00:01<00:00, 55.18it/s]\n",
      "Training:   0%|          | 0/754 [00:00<?, ?it/s]"
     ]
    },
    {
     "name": "stdout",
     "output_type": "stream",
     "text": [
      "epoch 13, train loss: 0.321, valid rmspe: 0.463\n"
     ]
    },
    {
     "name": "stderr",
     "output_type": "stream",
     "text": [
      "Training: 100%|██████████| 754/754 [00:11<00:00, 64.77it/s]\n",
      "Evaluating: 100%|██████████| 84/84 [00:01<00:00, 54.68it/s]\n",
      "Training:   0%|          | 0/754 [00:00<?, ?it/s]"
     ]
    },
    {
     "name": "stdout",
     "output_type": "stream",
     "text": [
      "epoch 14, train loss: 0.312, valid rmspe: 0.222\n"
     ]
    },
    {
     "name": "stderr",
     "output_type": "stream",
     "text": [
      "Training: 100%|██████████| 754/754 [00:12<00:00, 62.06it/s]\n",
      "Evaluating: 100%|██████████| 84/84 [00:01<00:00, 68.90it/s]\n",
      "Training:   0%|          | 0/754 [00:00<?, ?it/s]"
     ]
    },
    {
     "name": "stdout",
     "output_type": "stream",
     "text": [
      "epoch 15, train loss: 0.303, valid rmspe: 0.219\n"
     ]
    },
    {
     "name": "stderr",
     "output_type": "stream",
     "text": [
      "Training: 100%|██████████| 754/754 [00:12<00:00, 58.98it/s]\n",
      "Evaluating: 100%|██████████| 84/84 [00:01<00:00, 67.90it/s]\n",
      "Training:   0%|          | 0/754 [00:00<?, ?it/s]"
     ]
    },
    {
     "name": "stdout",
     "output_type": "stream",
     "text": [
      "epoch 16, train loss: 0.273, valid rmspe: 0.246\n"
     ]
    },
    {
     "name": "stderr",
     "output_type": "stream",
     "text": [
      "Training: 100%|██████████| 754/754 [00:11<00:00, 66.12it/s]\n",
      "Evaluating: 100%|██████████| 84/84 [00:01<00:00, 70.17it/s]\n",
      "Training:   0%|          | 0/754 [00:00<?, ?it/s]"
     ]
    },
    {
     "name": "stdout",
     "output_type": "stream",
     "text": [
      "epoch 17, train loss: 0.289, valid rmspe: 0.219\n"
     ]
    },
    {
     "name": "stderr",
     "output_type": "stream",
     "text": [
      "Training: 100%|██████████| 754/754 [00:12<00:00, 62.69it/s]\n",
      "Evaluating: 100%|██████████| 84/84 [00:01<00:00, 60.41it/s]\n",
      "Training:   0%|          | 0/754 [00:00<?, ?it/s]"
     ]
    },
    {
     "name": "stdout",
     "output_type": "stream",
     "text": [
      "epoch 18, train loss: 0.281, valid rmspe: 0.201\n",
      "new best:0.2005404531955719\n"
     ]
    },
    {
     "name": "stderr",
     "output_type": "stream",
     "text": [
      "Training: 100%|██████████| 754/754 [00:12<00:00, 59.63it/s]\n",
      "Evaluating: 100%|██████████| 84/84 [00:01<00:00, 69.42it/s]\n",
      "Training:   0%|          | 0/754 [00:00<?, ?it/s]"
     ]
    },
    {
     "name": "stdout",
     "output_type": "stream",
     "text": [
      "epoch 19, train loss: 0.248, valid rmspe: 0.194\n",
      "new best:0.19405578076839447\n"
     ]
    },
    {
     "name": "stderr",
     "output_type": "stream",
     "text": [
      "Training: 100%|██████████| 754/754 [00:12<00:00, 62.49it/s]\n",
      "Evaluating: 100%|██████████| 84/84 [00:01<00:00, 70.24it/s]\n",
      "Training:   0%|          | 0/754 [00:00<?, ?it/s]"
     ]
    },
    {
     "name": "stdout",
     "output_type": "stream",
     "text": [
      "epoch 20, train loss: 0.249, valid rmspe: 0.191\n",
      "new best:0.1905241459608078\n"
     ]
    },
    {
     "name": "stderr",
     "output_type": "stream",
     "text": [
      "Training: 100%|██████████| 754/754 [00:12<00:00, 58.71it/s]\n",
      "Evaluating: 100%|██████████| 84/84 [00:01<00:00, 69.66it/s]\n",
      "Training:   0%|          | 0/754 [00:00<?, ?it/s]"
     ]
    },
    {
     "name": "stdout",
     "output_type": "stream",
     "text": [
      "epoch 21, train loss: 0.233, valid rmspe: 0.185\n",
      "new best:0.18480995297431946\n"
     ]
    },
    {
     "name": "stderr",
     "output_type": "stream",
     "text": [
      "Training: 100%|██████████| 754/754 [00:11<00:00, 64.08it/s]\n",
      "Evaluating: 100%|██████████| 84/84 [00:01<00:00, 66.34it/s]\n",
      "Training:   0%|          | 0/754 [00:00<?, ?it/s]"
     ]
    },
    {
     "name": "stdout",
     "output_type": "stream",
     "text": [
      "epoch 22, train loss: 0.224, valid rmspe: 0.205\n"
     ]
    },
    {
     "name": "stderr",
     "output_type": "stream",
     "text": [
      "Training: 100%|██████████| 754/754 [00:12<00:00, 61.45it/s]\n",
      "Evaluating: 100%|██████████| 84/84 [00:01<00:00, 65.24it/s]\n",
      "Training:   0%|          | 0/754 [00:00<?, ?it/s]"
     ]
    },
    {
     "name": "stdout",
     "output_type": "stream",
     "text": [
      "epoch 23, train loss: 0.222, valid rmspe: 0.234\n"
     ]
    },
    {
     "name": "stderr",
     "output_type": "stream",
     "text": [
      "Training: 100%|██████████| 754/754 [00:12<00:00, 58.69it/s]\n",
      "Evaluating: 100%|██████████| 84/84 [00:01<00:00, 69.27it/s]\n",
      "Training:   0%|          | 0/754 [00:00<?, ?it/s]"
     ]
    },
    {
     "name": "stdout",
     "output_type": "stream",
     "text": [
      "epoch 24, train loss: 0.209, valid rmspe: 0.186\n"
     ]
    },
    {
     "name": "stderr",
     "output_type": "stream",
     "text": [
      "Training: 100%|██████████| 754/754 [00:12<00:00, 62.42it/s]\n",
      "Evaluating: 100%|██████████| 84/84 [00:01<00:00, 69.06it/s]\n",
      "Training:   0%|          | 0/754 [00:00<?, ?it/s]"
     ]
    },
    {
     "name": "stdout",
     "output_type": "stream",
     "text": [
      "epoch 25, train loss: 0.213, valid rmspe: 0.205\n"
     ]
    },
    {
     "name": "stderr",
     "output_type": "stream",
     "text": [
      "Training: 100%|██████████| 754/754 [00:12<00:00, 58.43it/s]\n",
      "Evaluating: 100%|██████████| 84/84 [00:01<00:00, 65.17it/s]\n",
      "Training:   0%|          | 0/754 [00:00<?, ?it/s]"
     ]
    },
    {
     "name": "stdout",
     "output_type": "stream",
     "text": [
      "epoch 26, train loss: 0.203, valid rmspe: 0.190\n"
     ]
    },
    {
     "name": "stderr",
     "output_type": "stream",
     "text": [
      "Training: 100%|██████████| 754/754 [00:11<00:00, 64.87it/s]\n",
      "Evaluating: 100%|██████████| 84/84 [00:02<00:00, 41.12it/s]\n",
      "Training:   0%|          | 0/754 [00:00<?, ?it/s]"
     ]
    },
    {
     "name": "stdout",
     "output_type": "stream",
     "text": [
      "epoch 27, train loss: 0.201, valid rmspe: 0.188\n"
     ]
    },
    {
     "name": "stderr",
     "output_type": "stream",
     "text": [
      "Training: 100%|██████████| 754/754 [00:11<00:00, 63.49it/s]\n",
      "Evaluating: 100%|██████████| 84/84 [00:01<00:00, 65.38it/s]\n",
      "Training:   0%|          | 0/754 [00:00<?, ?it/s]"
     ]
    },
    {
     "name": "stdout",
     "output_type": "stream",
     "text": [
      "epoch 28, train loss: 0.198, valid rmspe: 0.182\n",
      "new best:0.18223118782043457\n"
     ]
    },
    {
     "name": "stderr",
     "output_type": "stream",
     "text": [
      "Training: 100%|██████████| 754/754 [00:13<00:00, 57.58it/s]\n",
      "Evaluating: 100%|██████████| 84/84 [00:01<00:00, 67.96it/s]\n"
     ]
    },
    {
     "name": "stdout",
     "output_type": "stream",
     "text": [
      "epoch 29, train loss: 0.196, valid rmspe: 0.183\n",
      "[0.18223119]\n",
      "model of seed 1 added.\n"
     ]
    },
    {
     "name": "stderr",
     "output_type": "stream",
     "text": [
      "Training:   0%|          | 0/754 [00:00<?, ?it/s]"
     ]
    },
    {
     "name": "stdout",
     "output_type": "stream",
     "text": [
      "fold 0 train: (386036, 591), valid: (42896, 591)\n"
     ]
    },
    {
     "name": "stderr",
     "output_type": "stream",
     "text": [
      "Training: 100%|██████████| 754/754 [00:11<00:00, 64.96it/s]\n",
      "Evaluating: 100%|██████████| 84/84 [00:01<00:00, 69.63it/s]\n",
      "Training:   0%|          | 0/754 [00:00<?, ?it/s]"
     ]
    },
    {
     "name": "stdout",
     "output_type": "stream",
     "text": [
      "epoch 0, train loss: 22.422, valid rmspe: 6.694\n",
      "new best:6.693961143493652\n"
     ]
    },
    {
     "name": "stderr",
     "output_type": "stream",
     "text": [
      "Training: 100%|██████████| 754/754 [00:13<00:00, 57.20it/s]\n",
      "Evaluating: 100%|██████████| 84/84 [00:01<00:00, 69.09it/s]\n",
      "Training:   0%|          | 0/754 [00:00<?, ?it/s]"
     ]
    },
    {
     "name": "stdout",
     "output_type": "stream",
     "text": [
      "epoch 1, train loss: 6.397, valid rmspe: 5.946\n",
      "new best:5.945800304412842\n"
     ]
    },
    {
     "name": "stderr",
     "output_type": "stream",
     "text": [
      "Training: 100%|██████████| 754/754 [00:12<00:00, 60.16it/s]\n",
      "Evaluating: 100%|██████████| 84/84 [00:01<00:00, 68.86it/s]\n",
      "Training:   0%|          | 0/754 [00:00<?, ?it/s]"
     ]
    },
    {
     "name": "stdout",
     "output_type": "stream",
     "text": [
      "epoch 2, train loss: 5.125, valid rmspe: 2.184\n",
      "new best:2.183828353881836\n"
     ]
    },
    {
     "name": "stderr",
     "output_type": "stream",
     "text": [
      "Training: 100%|██████████| 754/754 [00:12<00:00, 58.88it/s]\n",
      "Evaluating: 100%|██████████| 84/84 [00:01<00:00, 54.36it/s]\n",
      "Training:   0%|          | 0/754 [00:00<?, ?it/s]"
     ]
    },
    {
     "name": "stdout",
     "output_type": "stream",
     "text": [
      "epoch 3, train loss: 2.068, valid rmspe: 0.664\n",
      "new best:0.6643406748771667\n"
     ]
    },
    {
     "name": "stderr",
     "output_type": "stream",
     "text": [
      "Training: 100%|██████████| 754/754 [00:12<00:00, 61.94it/s]\n",
      "Evaluating: 100%|██████████| 84/84 [00:01<00:00, 68.72it/s]\n",
      "Training:   0%|          | 0/754 [00:00<?, ?it/s]"
     ]
    },
    {
     "name": "stdout",
     "output_type": "stream",
     "text": [
      "epoch 4, train loss: 0.774, valid rmspe: 0.633\n",
      "new best:0.6334158778190613\n"
     ]
    },
    {
     "name": "stderr",
     "output_type": "stream",
     "text": [
      "Training: 100%|██████████| 754/754 [00:11<00:00, 64.79it/s]\n",
      "Evaluating: 100%|██████████| 84/84 [00:01<00:00, 68.37it/s]\n",
      "Training:   0%|          | 0/754 [00:00<?, ?it/s]"
     ]
    },
    {
     "name": "stdout",
     "output_type": "stream",
     "text": [
      "epoch 5, train loss: 0.725, valid rmspe: 0.224\n",
      "new best:0.22352604568004608\n"
     ]
    },
    {
     "name": "stderr",
     "output_type": "stream",
     "text": [
      "Training: 100%|██████████| 754/754 [00:14<00:00, 53.83it/s]\n",
      "Evaluating: 100%|██████████| 84/84 [00:01<00:00, 66.61it/s]\n",
      "Training:   0%|          | 0/754 [00:00<?, ?it/s]"
     ]
    },
    {
     "name": "stdout",
     "output_type": "stream",
     "text": [
      "epoch 6, train loss: 0.640, valid rmspe: 0.655\n"
     ]
    },
    {
     "name": "stderr",
     "output_type": "stream",
     "text": [
      "Training: 100%|██████████| 754/754 [00:11<00:00, 65.02it/s]\n",
      "Evaluating: 100%|██████████| 84/84 [00:01<00:00, 68.47it/s]\n",
      "Training:   0%|          | 0/754 [00:00<?, ?it/s]"
     ]
    },
    {
     "name": "stdout",
     "output_type": "stream",
     "text": [
      "epoch 7, train loss: 0.573, valid rmspe: 0.744\n"
     ]
    },
    {
     "name": "stderr",
     "output_type": "stream",
     "text": [
      "Training: 100%|██████████| 754/754 [00:11<00:00, 62.97it/s]\n",
      "Evaluating: 100%|██████████| 84/84 [00:01<00:00, 58.76it/s]\n",
      "Training:   0%|          | 0/754 [00:00<?, ?it/s]"
     ]
    },
    {
     "name": "stdout",
     "output_type": "stream",
     "text": [
      "epoch 8, train loss: 0.620, valid rmspe: 0.409\n"
     ]
    },
    {
     "name": "stderr",
     "output_type": "stream",
     "text": [
      "Training: 100%|██████████| 754/754 [00:13<00:00, 55.86it/s]\n",
      "Evaluating: 100%|██████████| 84/84 [00:01<00:00, 58.23it/s]\n",
      "Training:   0%|          | 0/754 [00:00<?, ?it/s]"
     ]
    },
    {
     "name": "stdout",
     "output_type": "stream",
     "text": [
      "epoch 9, train loss: 0.538, valid rmspe: 0.549\n"
     ]
    },
    {
     "name": "stderr",
     "output_type": "stream",
     "text": [
      "Training: 100%|██████████| 754/754 [00:11<00:00, 65.04it/s]\n",
      "Evaluating: 100%|██████████| 84/84 [00:01<00:00, 69.73it/s]\n",
      "Training:   0%|          | 0/754 [00:00<?, ?it/s]"
     ]
    },
    {
     "name": "stdout",
     "output_type": "stream",
     "text": [
      "epoch 10, train loss: 0.551, valid rmspe: 0.293\n"
     ]
    },
    {
     "name": "stderr",
     "output_type": "stream",
     "text": [
      "Training: 100%|██████████| 754/754 [00:12<00:00, 62.62it/s]\n",
      "Evaluating: 100%|██████████| 84/84 [00:01<00:00, 68.82it/s]\n",
      "Training:   0%|          | 0/754 [00:00<?, ?it/s]"
     ]
    },
    {
     "name": "stdout",
     "output_type": "stream",
     "text": [
      "epoch 11, train loss: 0.531, valid rmspe: 0.444\n"
     ]
    },
    {
     "name": "stderr",
     "output_type": "stream",
     "text": [
      "Training: 100%|██████████| 754/754 [00:11<00:00, 65.59it/s]\n",
      "Evaluating: 100%|██████████| 84/84 [00:01<00:00, 68.77it/s]\n",
      "Training:   0%|          | 0/754 [00:00<?, ?it/s]"
     ]
    },
    {
     "name": "stdout",
     "output_type": "stream",
     "text": [
      "epoch 12, train loss: 0.434, valid rmspe: 0.492\n"
     ]
    },
    {
     "name": "stderr",
     "output_type": "stream",
     "text": [
      "Training: 100%|██████████| 754/754 [00:11<00:00, 65.94it/s]\n",
      "Evaluating: 100%|██████████| 84/84 [00:01<00:00, 60.15it/s]\n",
      "Training:   0%|          | 0/754 [00:00<?, ?it/s]"
     ]
    },
    {
     "name": "stdout",
     "output_type": "stream",
     "text": [
      "epoch 13, train loss: 0.443, valid rmspe: 0.193\n",
      "new best:0.1926783323287964\n"
     ]
    },
    {
     "name": "stderr",
     "output_type": "stream",
     "text": [
      "Training: 100%|██████████| 754/754 [00:14<00:00, 53.78it/s]\n",
      "Evaluating: 100%|██████████| 84/84 [00:01<00:00, 65.58it/s]\n",
      "Training:   0%|          | 0/754 [00:00<?, ?it/s]"
     ]
    },
    {
     "name": "stdout",
     "output_type": "stream",
     "text": [
      "epoch 14, train loss: 0.389, valid rmspe: 0.406\n"
     ]
    },
    {
     "name": "stderr",
     "output_type": "stream",
     "text": [
      "Training: 100%|██████████| 754/754 [00:11<00:00, 65.20it/s]\n",
      "Evaluating: 100%|██████████| 84/84 [00:01<00:00, 68.14it/s]\n",
      "Training:   0%|          | 0/754 [00:00<?, ?it/s]"
     ]
    },
    {
     "name": "stdout",
     "output_type": "stream",
     "text": [
      "epoch 15, train loss: 0.372, valid rmspe: 0.315\n"
     ]
    },
    {
     "name": "stderr",
     "output_type": "stream",
     "text": [
      "Training: 100%|██████████| 754/754 [00:12<00:00, 62.45it/s]\n",
      "Evaluating: 100%|██████████| 84/84 [00:01<00:00, 69.94it/s]\n",
      "Training:   0%|          | 0/754 [00:00<?, ?it/s]"
     ]
    },
    {
     "name": "stdout",
     "output_type": "stream",
     "text": [
      "epoch 16, train loss: 0.371, valid rmspe: 0.313\n"
     ]
    },
    {
     "name": "stderr",
     "output_type": "stream",
     "text": [
      "Training: 100%|██████████| 754/754 [00:11<00:00, 65.77it/s]\n",
      "Evaluating: 100%|██████████| 84/84 [00:01<00:00, 68.50it/s]\n",
      "Training:   0%|          | 0/754 [00:00<?, ?it/s]"
     ]
    },
    {
     "name": "stdout",
     "output_type": "stream",
     "text": [
      "epoch 17, train loss: 0.331, valid rmspe: 0.291\n"
     ]
    },
    {
     "name": "stderr",
     "output_type": "stream",
     "text": [
      "Training: 100%|██████████| 754/754 [00:11<00:00, 65.62it/s]\n",
      "Evaluating: 100%|██████████| 84/84 [00:01<00:00, 63.92it/s]\n",
      "Training:   0%|          | 0/754 [00:00<?, ?it/s]"
     ]
    },
    {
     "name": "stdout",
     "output_type": "stream",
     "text": [
      "epoch 18, train loss: 0.329, valid rmspe: 0.192\n",
      "new best:0.19156382977962494\n"
     ]
    },
    {
     "name": "stderr",
     "output_type": "stream",
     "text": [
      "Training: 100%|██████████| 754/754 [00:14<00:00, 52.75it/s]\n",
      "Evaluating: 100%|██████████| 84/84 [00:01<00:00, 69.87it/s]\n",
      "Training:   0%|          | 0/754 [00:00<?, ?it/s]"
     ]
    },
    {
     "name": "stdout",
     "output_type": "stream",
     "text": [
      "epoch 19, train loss: 0.302, valid rmspe: 0.240\n"
     ]
    },
    {
     "name": "stderr",
     "output_type": "stream",
     "text": [
      "Training: 100%|██████████| 754/754 [00:11<00:00, 63.50it/s]\n",
      "Evaluating: 100%|██████████| 84/84 [00:01<00:00, 64.35it/s]\n",
      "Training:   0%|          | 0/754 [00:00<?, ?it/s]"
     ]
    },
    {
     "name": "stdout",
     "output_type": "stream",
     "text": [
      "epoch 20, train loss: 0.269, valid rmspe: 0.244\n"
     ]
    },
    {
     "name": "stderr",
     "output_type": "stream",
     "text": [
      "Training: 100%|██████████| 754/754 [00:12<00:00, 62.23it/s]\n",
      "Evaluating: 100%|██████████| 84/84 [00:01<00:00, 68.77it/s]\n",
      "Training:   0%|          | 0/754 [00:00<?, ?it/s]"
     ]
    },
    {
     "name": "stdout",
     "output_type": "stream",
     "text": [
      "epoch 21, train loss: 0.258, valid rmspe: 0.315\n"
     ]
    },
    {
     "name": "stderr",
     "output_type": "stream",
     "text": [
      "Training: 100%|██████████| 754/754 [00:11<00:00, 65.09it/s]\n",
      "Evaluating: 100%|██████████| 84/84 [00:01<00:00, 69.90it/s]\n",
      "Training:   0%|          | 0/754 [00:00<?, ?it/s]"
     ]
    },
    {
     "name": "stdout",
     "output_type": "stream",
     "text": [
      "epoch 22, train loss: 0.246, valid rmspe: 0.189\n",
      "new best:0.18922364711761475\n"
     ]
    },
    {
     "name": "stderr",
     "output_type": "stream",
     "text": [
      "Training: 100%|██████████| 754/754 [00:11<00:00, 65.46it/s]\n",
      "Evaluating: 100%|██████████| 84/84 [00:01<00:00, 59.37it/s]\n",
      "Training:   0%|          | 0/754 [00:00<?, ?it/s]"
     ]
    },
    {
     "name": "stdout",
     "output_type": "stream",
     "text": [
      "epoch 23, train loss: 0.227, valid rmspe: 0.223\n"
     ]
    },
    {
     "name": "stderr",
     "output_type": "stream",
     "text": [
      "Training: 100%|██████████| 754/754 [00:14<00:00, 52.66it/s]\n",
      "Evaluating: 100%|██████████| 84/84 [00:01<00:00, 68.45it/s]\n",
      "Training:   0%|          | 0/754 [00:00<?, ?it/s]"
     ]
    },
    {
     "name": "stdout",
     "output_type": "stream",
     "text": [
      "epoch 24, train loss: 0.226, valid rmspe: 0.195\n"
     ]
    },
    {
     "name": "stderr",
     "output_type": "stream",
     "text": [
      "Training: 100%|██████████| 754/754 [00:11<00:00, 65.89it/s]\n",
      "Evaluating: 100%|██████████| 84/84 [00:01<00:00, 69.04it/s]\n",
      "Training:   0%|          | 0/754 [00:00<?, ?it/s]"
     ]
    },
    {
     "name": "stdout",
     "output_type": "stream",
     "text": [
      "epoch 25, train loss: 0.216, valid rmspe: 0.183\n",
      "new best:0.18329356610774994\n"
     ]
    },
    {
     "name": "stderr",
     "output_type": "stream",
     "text": [
      "Training: 100%|██████████| 754/754 [00:12<00:00, 62.65it/s]\n",
      "Evaluating: 100%|██████████| 84/84 [00:01<00:00, 69.32it/s]\n",
      "Training:   0%|          | 0/754 [00:00<?, ?it/s]"
     ]
    },
    {
     "name": "stdout",
     "output_type": "stream",
     "text": [
      "epoch 26, train loss: 0.207, valid rmspe: 0.187\n"
     ]
    },
    {
     "name": "stderr",
     "output_type": "stream",
     "text": [
      "Training: 100%|██████████| 754/754 [00:11<00:00, 64.65it/s]\n",
      "Evaluating: 100%|██████████| 84/84 [00:01<00:00, 68.62it/s]\n",
      "Training:   0%|          | 0/754 [00:00<?, ?it/s]"
     ]
    },
    {
     "name": "stdout",
     "output_type": "stream",
     "text": [
      "epoch 27, train loss: 0.204, valid rmspe: 0.187\n"
     ]
    },
    {
     "name": "stderr",
     "output_type": "stream",
     "text": [
      "Training: 100%|██████████| 754/754 [00:11<00:00, 65.54it/s]\n",
      "Evaluating: 100%|██████████| 84/84 [00:02<00:00, 41.76it/s]\n",
      "Training:   0%|          | 0/754 [00:00<?, ?it/s]"
     ]
    },
    {
     "name": "stdout",
     "output_type": "stream",
     "text": [
      "epoch 28, train loss: 0.201, valid rmspe: 0.183\n",
      "new best:0.18294598162174225\n"
     ]
    },
    {
     "name": "stderr",
     "output_type": "stream",
     "text": [
      "Training: 100%|██████████| 754/754 [00:13<00:00, 54.85it/s]\n",
      "Evaluating: 100%|██████████| 84/84 [00:01<00:00, 69.10it/s]\n"
     ]
    },
    {
     "name": "stdout",
     "output_type": "stream",
     "text": [
      "epoch 29, train loss: 0.200, valid rmspe: 0.183\n",
      "[0.18294598]\n",
      "model of seed 2 added.\n",
      "total 3 models will be used.\n"
     ]
    },
    {
     "name": "stderr",
     "output_type": "stream",
     "text": [
      "Training:   0%|          | 0/302 [00:00<?, ?it/s]"
     ]
    },
    {
     "name": "stdout",
     "output_type": "stream",
     "text": [
      "fold 0 train: (386036, 591), valid: (42896, 591)\n"
     ]
    },
    {
     "name": "stderr",
     "output_type": "stream",
     "text": [
      "Training: 100%|██████████| 302/302 [00:12<00:00, 23.76it/s]\n",
      "Evaluating: 100%|██████████| 34/34 [00:01<00:00, 29.69it/s]\n",
      "Training:   0%|          | 0/302 [00:00<?, ?it/s]"
     ]
    },
    {
     "name": "stdout",
     "output_type": "stream",
     "text": [
      "epoch 0, train loss: 36.847, valid rmspe: 13.479\n",
      "new best:13.479052543640137\n"
     ]
    },
    {
     "name": "stderr",
     "output_type": "stream",
     "text": [
      "Training: 100%|██████████| 302/302 [00:12<00:00, 24.92it/s]\n",
      "Evaluating: 100%|██████████| 34/34 [00:01<00:00, 29.13it/s]\n",
      "Training:   0%|          | 0/302 [00:00<?, ?it/s]"
     ]
    },
    {
     "name": "stdout",
     "output_type": "stream",
     "text": [
      "epoch 1, train loss: 6.999, valid rmspe: 11.602\n",
      "new best:11.602226257324219\n"
     ]
    },
    {
     "name": "stderr",
     "output_type": "stream",
     "text": [
      "Training: 100%|██████████| 302/302 [00:12<00:00, 24.90it/s]\n",
      "Evaluating: 100%|██████████| 34/34 [00:01<00:00, 23.22it/s]\n",
      "Training:   0%|          | 0/302 [00:00<?, ?it/s]"
     ]
    },
    {
     "name": "stdout",
     "output_type": "stream",
     "text": [
      "epoch 2, train loss: 6.338, valid rmspe: 3.183\n",
      "new best:3.1833648681640625\n"
     ]
    },
    {
     "name": "stderr",
     "output_type": "stream",
     "text": [
      "Training: 100%|██████████| 302/302 [00:14<00:00, 20.35it/s]\n",
      "Evaluating: 100%|██████████| 34/34 [00:01<00:00, 29.10it/s]\n",
      "Training:   0%|          | 0/302 [00:00<?, ?it/s]"
     ]
    },
    {
     "name": "stdout",
     "output_type": "stream",
     "text": [
      "epoch 3, train loss: 4.711, valid rmspe: 5.562\n"
     ]
    },
    {
     "name": "stderr",
     "output_type": "stream",
     "text": [
      "Training: 100%|██████████| 302/302 [00:12<00:00, 25.05it/s]\n",
      "Evaluating: 100%|██████████| 34/34 [00:01<00:00, 29.21it/s]\n",
      "Training:   0%|          | 0/302 [00:00<?, ?it/s]"
     ]
    },
    {
     "name": "stdout",
     "output_type": "stream",
     "text": [
      "epoch 4, train loss: 4.004, valid rmspe: 3.696\n"
     ]
    },
    {
     "name": "stderr",
     "output_type": "stream",
     "text": [
      "Training: 100%|██████████| 302/302 [00:12<00:00, 23.81it/s]\n",
      "Evaluating: 100%|██████████| 34/34 [00:01<00:00, 25.80it/s]\n",
      "Training:   0%|          | 0/302 [00:00<?, ?it/s]"
     ]
    },
    {
     "name": "stdout",
     "output_type": "stream",
     "text": [
      "epoch 5, train loss: 2.540, valid rmspe: 5.343\n"
     ]
    },
    {
     "name": "stderr",
     "output_type": "stream",
     "text": [
      "Training: 100%|██████████| 302/302 [00:12<00:00, 24.79it/s]\n",
      "Evaluating: 100%|██████████| 34/34 [00:01<00:00, 28.69it/s]\n",
      "Training:   0%|          | 0/302 [00:00<?, ?it/s]"
     ]
    },
    {
     "name": "stdout",
     "output_type": "stream",
     "text": [
      "epoch 6, train loss: 2.675, valid rmspe: 1.612\n",
      "new best:1.6116986274719238\n"
     ]
    },
    {
     "name": "stderr",
     "output_type": "stream",
     "text": [
      "Training: 100%|██████████| 302/302 [00:12<00:00, 23.86it/s]\n",
      "Evaluating: 100%|██████████| 34/34 [00:01<00:00, 29.32it/s]\n",
      "Training:   0%|          | 0/302 [00:00<?, ?it/s]"
     ]
    },
    {
     "name": "stdout",
     "output_type": "stream",
     "text": [
      "epoch 7, train loss: 1.750, valid rmspe: 0.838\n",
      "new best:0.8377463817596436\n"
     ]
    },
    {
     "name": "stderr",
     "output_type": "stream",
     "text": [
      "Training: 100%|██████████| 302/302 [00:14<00:00, 20.71it/s]\n",
      "Evaluating: 100%|██████████| 34/34 [00:01<00:00, 28.45it/s]\n",
      "Training:   0%|          | 0/302 [00:00<?, ?it/s]"
     ]
    },
    {
     "name": "stdout",
     "output_type": "stream",
     "text": [
      "epoch 8, train loss: 2.455, valid rmspe: 0.642\n",
      "new best:0.6421473622322083\n"
     ]
    },
    {
     "name": "stderr",
     "output_type": "stream",
     "text": [
      "Training: 100%|██████████| 302/302 [00:12<00:00, 24.38it/s]\n",
      "Evaluating: 100%|██████████| 34/34 [00:01<00:00, 20.19it/s]\n",
      "Training:   0%|          | 0/302 [00:00<?, ?it/s]"
     ]
    },
    {
     "name": "stdout",
     "output_type": "stream",
     "text": [
      "epoch 9, train loss: 1.853, valid rmspe: 1.397\n"
     ]
    },
    {
     "name": "stderr",
     "output_type": "stream",
     "text": [
      "Training: 100%|██████████| 302/302 [00:12<00:00, 24.79it/s]\n",
      "Evaluating: 100%|██████████| 34/34 [00:01<00:00, 29.13it/s]\n",
      "Training:   0%|          | 0/302 [00:00<?, ?it/s]"
     ]
    },
    {
     "name": "stdout",
     "output_type": "stream",
     "text": [
      "epoch 10, train loss: 1.457, valid rmspe: 1.241\n"
     ]
    },
    {
     "name": "stderr",
     "output_type": "stream",
     "text": [
      "Training: 100%|██████████| 302/302 [00:12<00:00, 25.00it/s]\n",
      "Evaluating: 100%|██████████| 34/34 [00:01<00:00, 28.02it/s]\n",
      "Training:   0%|          | 0/302 [00:00<?, ?it/s]"
     ]
    },
    {
     "name": "stdout",
     "output_type": "stream",
     "text": [
      "epoch 11, train loss: 1.112, valid rmspe: 1.306\n"
     ]
    },
    {
     "name": "stderr",
     "output_type": "stream",
     "text": [
      "Training: 100%|██████████| 302/302 [00:12<00:00, 23.57it/s]\n",
      "Evaluating: 100%|██████████| 34/34 [00:01<00:00, 27.95it/s]\n",
      "Training:   0%|          | 0/302 [00:00<?, ?it/s]"
     ]
    },
    {
     "name": "stdout",
     "output_type": "stream",
     "text": [
      "epoch 12, train loss: 0.893, valid rmspe: 0.860\n"
     ]
    },
    {
     "name": "stderr",
     "output_type": "stream",
     "text": [
      "Training: 100%|██████████| 302/302 [00:14<00:00, 20.35it/s]\n",
      "Evaluating: 100%|██████████| 34/34 [00:01<00:00, 28.83it/s]\n",
      "Training:   0%|          | 0/302 [00:00<?, ?it/s]"
     ]
    },
    {
     "name": "stdout",
     "output_type": "stream",
     "text": [
      "epoch 13, train loss: 1.165, valid rmspe: 8.129\n"
     ]
    },
    {
     "name": "stderr",
     "output_type": "stream",
     "text": [
      "Training: 100%|██████████| 302/302 [00:12<00:00, 23.51it/s]\n",
      "Evaluating: 100%|██████████| 34/34 [00:01<00:00, 28.70it/s]\n",
      "Training:   0%|          | 0/302 [00:00<?, ?it/s]"
     ]
    },
    {
     "name": "stdout",
     "output_type": "stream",
     "text": [
      "epoch 14, train loss: 0.836, valid rmspe: 1.082\n"
     ]
    },
    {
     "name": "stderr",
     "output_type": "stream",
     "text": [
      "Training: 100%|██████████| 302/302 [00:12<00:00, 24.79it/s]\n",
      "Evaluating: 100%|██████████| 34/34 [00:01<00:00, 29.11it/s]\n",
      "Training:   0%|          | 0/302 [00:00<?, ?it/s]"
     ]
    },
    {
     "name": "stdout",
     "output_type": "stream",
     "text": [
      "epoch 15, train loss: 0.799, valid rmspe: 0.527\n",
      "new best:0.5268535614013672\n"
     ]
    },
    {
     "name": "stderr",
     "output_type": "stream",
     "text": [
      "Training: 100%|██████████| 302/302 [00:12<00:00, 24.87it/s]\n",
      "Evaluating: 100%|██████████| 34/34 [00:01<00:00, 19.49it/s]\n",
      "Training:   0%|          | 0/302 [00:00<?, ?it/s]"
     ]
    },
    {
     "name": "stdout",
     "output_type": "stream",
     "text": [
      "epoch 16, train loss: 0.686, valid rmspe: 0.525\n",
      "new best:0.5245238542556763\n"
     ]
    },
    {
     "name": "stderr",
     "output_type": "stream",
     "text": [
      "Training: 100%|██████████| 302/302 [00:12<00:00, 24.75it/s]\n",
      "Evaluating: 100%|██████████| 34/34 [00:01<00:00, 28.02it/s]\n",
      "Training:   0%|          | 0/302 [00:00<?, ?it/s]"
     ]
    },
    {
     "name": "stdout",
     "output_type": "stream",
     "text": [
      "epoch 17, train loss: 0.619, valid rmspe: 0.419\n",
      "new best:0.41871848702430725\n"
     ]
    },
    {
     "name": "stderr",
     "output_type": "stream",
     "text": [
      "Training: 100%|██████████| 302/302 [00:14<00:00, 20.80it/s]\n",
      "Evaluating: 100%|██████████| 34/34 [00:01<00:00, 29.51it/s]\n",
      "Training:   0%|          | 0/302 [00:00<?, ?it/s]"
     ]
    },
    {
     "name": "stdout",
     "output_type": "stream",
     "text": [
      "epoch 18, train loss: 0.755, valid rmspe: 1.512\n"
     ]
    },
    {
     "name": "stderr",
     "output_type": "stream",
     "text": [
      "Training: 100%|██████████| 302/302 [00:12<00:00, 23.61it/s]\n",
      "Evaluating: 100%|██████████| 34/34 [00:01<00:00, 23.69it/s]\n",
      "Training:   0%|          | 0/302 [00:00<?, ?it/s]"
     ]
    },
    {
     "name": "stdout",
     "output_type": "stream",
     "text": [
      "epoch 19, train loss: 0.670, valid rmspe: 0.285\n",
      "new best:0.2850245237350464\n"
     ]
    },
    {
     "name": "stderr",
     "output_type": "stream",
     "text": [
      "Training: 100%|██████████| 302/302 [00:12<00:00, 24.82it/s]\n",
      "Evaluating: 100%|██████████| 34/34 [00:01<00:00, 29.39it/s]\n",
      "Training:   0%|          | 0/302 [00:00<?, ?it/s]"
     ]
    },
    {
     "name": "stdout",
     "output_type": "stream",
     "text": [
      "epoch 20, train loss: 0.515, valid rmspe: 0.580\n"
     ]
    },
    {
     "name": "stderr",
     "output_type": "stream",
     "text": [
      "Training: 100%|██████████| 302/302 [00:12<00:00, 23.95it/s]\n",
      "Evaluating: 100%|██████████| 34/34 [00:01<00:00, 28.84it/s]\n",
      "Training:   0%|          | 0/302 [00:00<?, ?it/s]"
     ]
    },
    {
     "name": "stdout",
     "output_type": "stream",
     "text": [
      "epoch 21, train loss: 0.461, valid rmspe: 0.290\n"
     ]
    },
    {
     "name": "stderr",
     "output_type": "stream",
     "text": [
      "Training: 100%|██████████| 302/302 [00:12<00:00, 24.86it/s]\n",
      "Evaluating: 100%|██████████| 34/34 [00:01<00:00, 29.57it/s]\n",
      "Training:   0%|          | 0/302 [00:00<?, ?it/s]"
     ]
    },
    {
     "name": "stdout",
     "output_type": "stream",
     "text": [
      "epoch 22, train loss: 0.569, valid rmspe: 0.696\n"
     ]
    },
    {
     "name": "stderr",
     "output_type": "stream",
     "text": [
      "Training: 100%|██████████| 302/302 [00:15<00:00, 19.59it/s]\n",
      "Evaluating: 100%|██████████| 34/34 [00:01<00:00, 28.45it/s]\n",
      "Training:   0%|          | 0/302 [00:00<?, ?it/s]"
     ]
    },
    {
     "name": "stdout",
     "output_type": "stream",
     "text": [
      "epoch 23, train loss: 0.532, valid rmspe: 0.288\n"
     ]
    },
    {
     "name": "stderr",
     "output_type": "stream",
     "text": [
      "Training: 100%|██████████| 302/302 [00:12<00:00, 24.79it/s]\n",
      "Evaluating: 100%|██████████| 34/34 [00:01<00:00, 28.67it/s]\n",
      "Training:   0%|          | 0/302 [00:00<?, ?it/s]"
     ]
    },
    {
     "name": "stdout",
     "output_type": "stream",
     "text": [
      "epoch 24, train loss: 0.623, valid rmspe: 0.383\n"
     ]
    },
    {
     "name": "stderr",
     "output_type": "stream",
     "text": [
      "Training: 100%|██████████| 302/302 [00:12<00:00, 24.89it/s]\n",
      "Evaluating: 100%|██████████| 34/34 [00:01<00:00, 28.81it/s]\n",
      "Training:   0%|          | 0/302 [00:00<?, ?it/s]"
     ]
    },
    {
     "name": "stdout",
     "output_type": "stream",
     "text": [
      "epoch 25, train loss: 0.498, valid rmspe: 0.327\n"
     ]
    },
    {
     "name": "stderr",
     "output_type": "stream",
     "text": [
      "Training: 100%|██████████| 302/302 [00:12<00:00, 23.61it/s]\n",
      "Evaluating: 100%|██████████| 34/34 [00:01<00:00, 27.10it/s]\n",
      "Training:   0%|          | 0/302 [00:00<?, ?it/s]"
     ]
    },
    {
     "name": "stdout",
     "output_type": "stream",
     "text": [
      "epoch 26, train loss: 0.636, valid rmspe: 0.392\n"
     ]
    },
    {
     "name": "stderr",
     "output_type": "stream",
     "text": [
      "Training: 100%|██████████| 302/302 [00:12<00:00, 23.68it/s]\n",
      "Evaluating: 100%|██████████| 34/34 [00:01<00:00, 27.49it/s]\n",
      "Training:   0%|          | 0/302 [00:00<?, ?it/s]"
     ]
    },
    {
     "name": "stdout",
     "output_type": "stream",
     "text": [
      "epoch 27, train loss: 0.493, valid rmspe: 0.376\n"
     ]
    },
    {
     "name": "stderr",
     "output_type": "stream",
     "text": [
      "Training: 100%|██████████| 302/302 [00:15<00:00, 18.97it/s]\n",
      "Evaluating: 100%|██████████| 34/34 [00:01<00:00, 29.07it/s]\n",
      "Training:   0%|          | 0/302 [00:00<?, ?it/s]"
     ]
    },
    {
     "name": "stdout",
     "output_type": "stream",
     "text": [
      "epoch 28, train loss: 0.426, valid rmspe: 0.486\n",
      "Epoch    29: reducing learning rate of group 0 to 1.1400e-04.\n"
     ]
    },
    {
     "name": "stderr",
     "output_type": "stream",
     "text": [
      "Training: 100%|██████████| 302/302 [00:12<00:00, 24.52it/s]\n",
      "Evaluating: 100%|██████████| 34/34 [00:01<00:00, 25.82it/s]\n",
      "Training:   0%|          | 0/302 [00:00<?, ?it/s]"
     ]
    },
    {
     "name": "stdout",
     "output_type": "stream",
     "text": [
      "epoch 29, train loss: 0.289, valid rmspe: 0.250\n",
      "new best:0.25037774443626404\n"
     ]
    },
    {
     "name": "stderr",
     "output_type": "stream",
     "text": [
      "Training: 100%|██████████| 302/302 [00:13<00:00, 22.85it/s]\n",
      "Evaluating: 100%|██████████| 34/34 [00:01<00:00, 29.13it/s]\n",
      "Training:   0%|          | 0/302 [00:00<?, ?it/s]"
     ]
    },
    {
     "name": "stdout",
     "output_type": "stream",
     "text": [
      "epoch 30, train loss: 0.227, valid rmspe: 0.199\n",
      "new best:0.19857917726039886\n"
     ]
    },
    {
     "name": "stderr",
     "output_type": "stream",
     "text": [
      "Training: 100%|██████████| 302/302 [00:12<00:00, 24.44it/s]\n",
      "Evaluating: 100%|██████████| 34/34 [00:01<00:00, 28.51it/s]\n",
      "Training:   0%|          | 0/302 [00:00<?, ?it/s]"
     ]
    },
    {
     "name": "stdout",
     "output_type": "stream",
     "text": [
      "epoch 31, train loss: 0.271, valid rmspe: 0.251\n"
     ]
    },
    {
     "name": "stderr",
     "output_type": "stream",
     "text": [
      "Training: 100%|██████████| 302/302 [00:12<00:00, 24.83it/s]\n",
      "Evaluating: 100%|██████████| 34/34 [00:01<00:00, 29.05it/s]\n",
      "Training:   0%|          | 0/302 [00:00<?, ?it/s]"
     ]
    },
    {
     "name": "stdout",
     "output_type": "stream",
     "text": [
      "epoch 32, train loss: 0.246, valid rmspe: 0.190\n",
      "new best:0.1901816576719284\n"
     ]
    },
    {
     "name": "stderr",
     "output_type": "stream",
     "text": [
      "Training: 100%|██████████| 302/302 [00:16<00:00, 18.54it/s]\n",
      "Evaluating: 100%|██████████| 34/34 [00:01<00:00, 28.74it/s]\n",
      "Training:   0%|          | 0/302 [00:00<?, ?it/s]"
     ]
    },
    {
     "name": "stdout",
     "output_type": "stream",
     "text": [
      "epoch 33, train loss: 0.258, valid rmspe: 0.191\n"
     ]
    },
    {
     "name": "stderr",
     "output_type": "stream",
     "text": [
      "Training: 100%|██████████| 302/302 [00:12<00:00, 24.84it/s]\n",
      "Evaluating: 100%|██████████| 34/34 [00:01<00:00, 28.45it/s]\n",
      "Training:   0%|          | 0/302 [00:00<?, ?it/s]"
     ]
    },
    {
     "name": "stdout",
     "output_type": "stream",
     "text": [
      "epoch 34, train loss: 0.239, valid rmspe: 0.186\n",
      "new best:0.18596062064170837\n"
     ]
    },
    {
     "name": "stderr",
     "output_type": "stream",
     "text": [
      "Training: 100%|██████████| 302/302 [00:12<00:00, 23.87it/s]\n",
      "Evaluating: 100%|██████████| 34/34 [00:01<00:00, 29.33it/s]\n",
      "Training:   0%|          | 0/302 [00:00<?, ?it/s]"
     ]
    },
    {
     "name": "stdout",
     "output_type": "stream",
     "text": [
      "epoch 35, train loss: 0.223, valid rmspe: 0.244\n"
     ]
    },
    {
     "name": "stderr",
     "output_type": "stream",
     "text": [
      "Training: 100%|██████████| 302/302 [00:12<00:00, 24.70it/s]\n",
      "Evaluating: 100%|██████████| 34/34 [00:01<00:00, 23.43it/s]\n",
      "Training:   0%|          | 0/302 [00:00<?, ?it/s]"
     ]
    },
    {
     "name": "stdout",
     "output_type": "stream",
     "text": [
      "epoch 36, train loss: 0.286, valid rmspe: 0.193\n"
     ]
    },
    {
     "name": "stderr",
     "output_type": "stream",
     "text": [
      "Training: 100%|██████████| 302/302 [00:12<00:00, 23.75it/s]\n",
      "Evaluating: 100%|██████████| 34/34 [00:01<00:00, 29.28it/s]\n",
      "Training:   0%|          | 0/302 [00:00<?, ?it/s]"
     ]
    },
    {
     "name": "stdout",
     "output_type": "stream",
     "text": [
      "epoch 37, train loss: 0.243, valid rmspe: 0.194\n"
     ]
    },
    {
     "name": "stderr",
     "output_type": "stream",
     "text": [
      "Training: 100%|██████████| 302/302 [00:14<00:00, 20.29it/s]\n",
      "Evaluating: 100%|██████████| 34/34 [00:01<00:00, 28.11it/s]\n",
      "Training:   0%|          | 0/302 [00:00<?, ?it/s]"
     ]
    },
    {
     "name": "stdout",
     "output_type": "stream",
     "text": [
      "epoch 38, train loss: 0.241, valid rmspe: 0.193\n"
     ]
    },
    {
     "name": "stderr",
     "output_type": "stream",
     "text": [
      "Training: 100%|██████████| 302/302 [00:12<00:00, 25.09it/s]\n",
      "Evaluating: 100%|██████████| 34/34 [00:01<00:00, 22.35it/s]\n",
      "Training:   0%|          | 0/302 [00:00<?, ?it/s]"
     ]
    },
    {
     "name": "stdout",
     "output_type": "stream",
     "text": [
      "epoch 39, train loss: 0.262, valid rmspe: 0.193\n"
     ]
    },
    {
     "name": "stderr",
     "output_type": "stream",
     "text": [
      "Training: 100%|██████████| 302/302 [00:12<00:00, 24.14it/s]\n",
      "Evaluating: 100%|██████████| 34/34 [00:01<00:00, 29.46it/s]\n",
      "Training:   0%|          | 0/302 [00:00<?, ?it/s]"
     ]
    },
    {
     "name": "stdout",
     "output_type": "stream",
     "text": [
      "epoch 40, train loss: 0.250, valid rmspe: 0.187\n"
     ]
    },
    {
     "name": "stderr",
     "output_type": "stream",
     "text": [
      "Training: 100%|██████████| 302/302 [00:12<00:00, 24.92it/s]\n",
      "Evaluating: 100%|██████████| 34/34 [00:01<00:00, 29.20it/s]\n",
      "Training:   0%|          | 0/302 [00:00<?, ?it/s]"
     ]
    },
    {
     "name": "stdout",
     "output_type": "stream",
     "text": [
      "epoch 41, train loss: 0.220, valid rmspe: 0.201\n"
     ]
    },
    {
     "name": "stderr",
     "output_type": "stream",
     "text": [
      "Training: 100%|██████████| 302/302 [00:12<00:00, 23.90it/s]\n",
      "Evaluating: 100%|██████████| 34/34 [00:01<00:00, 28.68it/s]\n",
      "Training:   0%|          | 0/302 [00:00<?, ?it/s]"
     ]
    },
    {
     "name": "stdout",
     "output_type": "stream",
     "text": [
      "epoch 42, train loss: 0.255, valid rmspe: 0.202\n"
     ]
    },
    {
     "name": "stderr",
     "output_type": "stream",
     "text": [
      "Training: 100%|██████████| 302/302 [00:14<00:00, 20.46it/s]\n",
      "Evaluating: 100%|██████████| 34/34 [00:01<00:00, 24.01it/s]\n",
      "Training:   0%|          | 0/302 [00:00<?, ?it/s]"
     ]
    },
    {
     "name": "stdout",
     "output_type": "stream",
     "text": [
      "epoch 43, train loss: 0.250, valid rmspe: 0.212\n",
      "Epoch    44: reducing learning rate of group 0 to 3.4200e-05.\n"
     ]
    },
    {
     "name": "stderr",
     "output_type": "stream",
     "text": [
      "Training: 100%|██████████| 302/302 [00:12<00:00, 23.36it/s]\n",
      "Evaluating: 100%|██████████| 34/34 [00:01<00:00, 28.59it/s]\n",
      "Training:   0%|          | 0/302 [00:00<?, ?it/s]"
     ]
    },
    {
     "name": "stdout",
     "output_type": "stream",
     "text": [
      "epoch 44, train loss: 0.199, valid rmspe: 0.183\n",
      "new best:0.1831517070531845\n"
     ]
    },
    {
     "name": "stderr",
     "output_type": "stream",
     "text": [
      "Training: 100%|██████████| 302/302 [00:12<00:00, 24.94it/s]\n",
      "Evaluating: 100%|██████████| 34/34 [00:01<00:00, 29.41it/s]\n",
      "Training:   0%|          | 0/302 [00:00<?, ?it/s]"
     ]
    },
    {
     "name": "stdout",
     "output_type": "stream",
     "text": [
      "epoch 45, train loss: 0.197, valid rmspe: 0.182\n",
      "new best:0.18218174576759338\n"
     ]
    },
    {
     "name": "stderr",
     "output_type": "stream",
     "text": [
      "Training: 100%|██████████| 302/302 [00:12<00:00, 25.04it/s]\n",
      "Evaluating: 100%|██████████| 34/34 [00:01<00:00, 29.38it/s]\n",
      "Training:   0%|          | 0/302 [00:00<?, ?it/s]"
     ]
    },
    {
     "name": "stdout",
     "output_type": "stream",
     "text": [
      "epoch 46, train loss: 0.196, valid rmspe: 0.183\n"
     ]
    },
    {
     "name": "stderr",
     "output_type": "stream",
     "text": [
      "Training: 100%|██████████| 302/302 [00:13<00:00, 23.09it/s]\n",
      "Evaluating: 100%|██████████| 34/34 [00:01<00:00, 28.02it/s]\n",
      "Training:   0%|          | 0/302 [00:00<?, ?it/s]"
     ]
    },
    {
     "name": "stdout",
     "output_type": "stream",
     "text": [
      "epoch 47, train loss: 0.197, valid rmspe: 0.186\n"
     ]
    },
    {
     "name": "stderr",
     "output_type": "stream",
     "text": [
      "Training: 100%|██████████| 302/302 [00:13<00:00, 21.94it/s]\n",
      "Evaluating: 100%|██████████| 34/34 [00:01<00:00, 23.67it/s]\n",
      "Training:   0%|          | 0/302 [00:00<?, ?it/s]"
     ]
    },
    {
     "name": "stdout",
     "output_type": "stream",
     "text": [
      "epoch 48, train loss: 0.229, valid rmspe: 0.187\n"
     ]
    },
    {
     "name": "stderr",
     "output_type": "stream",
     "text": [
      "Training: 100%|██████████| 302/302 [00:14<00:00, 21.41it/s]\n",
      "Evaluating: 100%|██████████| 34/34 [00:01<00:00, 25.05it/s]\n"
     ]
    },
    {
     "name": "stdout",
     "output_type": "stream",
     "text": [
      "epoch 49, train loss: 0.197, valid rmspe: 0.184\n"
     ]
    },
    {
     "name": "stderr",
     "output_type": "stream",
     "text": [
      "Training:   0%|          | 0/302 [00:00<?, ?it/s]"
     ]
    },
    {
     "name": "stdout",
     "output_type": "stream",
     "text": [
      "fold 0 train: (386036, 591), valid: (42896, 591)\n"
     ]
    },
    {
     "name": "stderr",
     "output_type": "stream",
     "text": [
      "Training: 100%|██████████| 302/302 [00:12<00:00, 25.04it/s]\n",
      "Evaluating: 100%|██████████| 34/34 [00:01<00:00, 17.17it/s]\n",
      "Training:   0%|          | 0/302 [00:00<?, ?it/s]"
     ]
    },
    {
     "name": "stdout",
     "output_type": "stream",
     "text": [
      "epoch 0, train loss: 32.680, valid rmspe: 13.425\n",
      "new best:13.425479888916016\n"
     ]
    },
    {
     "name": "stderr",
     "output_type": "stream",
     "text": [
      "Training: 100%|██████████| 302/302 [00:12<00:00, 24.87it/s]\n",
      "Evaluating: 100%|██████████| 34/34 [00:01<00:00, 29.05it/s]\n",
      "Training:   0%|          | 0/302 [00:00<?, ?it/s]"
     ]
    },
    {
     "name": "stdout",
     "output_type": "stream",
     "text": [
      "epoch 1, train loss: 9.076, valid rmspe: 5.088\n",
      "new best:5.088461875915527\n"
     ]
    },
    {
     "name": "stderr",
     "output_type": "stream",
     "text": [
      "Training: 100%|██████████| 302/302 [00:12<00:00, 25.12it/s]\n",
      "Evaluating: 100%|██████████| 34/34 [00:01<00:00, 29.61it/s]\n",
      "Training:   0%|          | 0/302 [00:00<?, ?it/s]"
     ]
    },
    {
     "name": "stdout",
     "output_type": "stream",
     "text": [
      "epoch 2, train loss: 6.327, valid rmspe: 2.818\n",
      "new best:2.8181731700897217\n"
     ]
    },
    {
     "name": "stderr",
     "output_type": "stream",
     "text": [
      "Training: 100%|██████████| 302/302 [00:16<00:00, 18.77it/s]\n",
      "Evaluating: 100%|██████████| 34/34 [00:01<00:00, 25.26it/s]\n",
      "Training:   0%|          | 0/302 [00:00<?, ?it/s]"
     ]
    },
    {
     "name": "stdout",
     "output_type": "stream",
     "text": [
      "epoch 3, train loss: 6.716, valid rmspe: 2.509\n",
      "new best:2.508608102798462\n"
     ]
    },
    {
     "name": "stderr",
     "output_type": "stream",
     "text": [
      "Training: 100%|██████████| 302/302 [00:12<00:00, 24.90it/s]\n",
      "Evaluating: 100%|██████████| 34/34 [00:01<00:00, 29.25it/s]\n",
      "Training:   0%|          | 0/302 [00:00<?, ?it/s]"
     ]
    },
    {
     "name": "stdout",
     "output_type": "stream",
     "text": [
      "epoch 4, train loss: 3.884, valid rmspe: 5.407\n"
     ]
    },
    {
     "name": "stderr",
     "output_type": "stream",
     "text": [
      "Training: 100%|██████████| 302/302 [00:12<00:00, 23.73it/s]\n",
      "Evaluating: 100%|██████████| 34/34 [00:01<00:00, 29.11it/s]\n",
      "Training:   0%|          | 0/302 [00:00<?, ?it/s]"
     ]
    },
    {
     "name": "stdout",
     "output_type": "stream",
     "text": [
      "epoch 5, train loss: 3.258, valid rmspe: 2.717\n"
     ]
    },
    {
     "name": "stderr",
     "output_type": "stream",
     "text": [
      "Training: 100%|██████████| 302/302 [00:12<00:00, 24.93it/s]\n",
      "Evaluating: 100%|██████████| 34/34 [00:01<00:00, 29.13it/s]\n",
      "Training:   0%|          | 0/302 [00:00<?, ?it/s]"
     ]
    },
    {
     "name": "stdout",
     "output_type": "stream",
     "text": [
      "epoch 6, train loss: 2.524, valid rmspe: 1.320\n",
      "new best:1.3204846382141113\n"
     ]
    },
    {
     "name": "stderr",
     "output_type": "stream",
     "text": [
      "Training: 100%|██████████| 302/302 [00:12<00:00, 23.93it/s]\n",
      "Evaluating: 100%|██████████| 34/34 [00:01<00:00, 23.22it/s]\n",
      "Training:   0%|          | 0/302 [00:00<?, ?it/s]"
     ]
    },
    {
     "name": "stdout",
     "output_type": "stream",
     "text": [
      "epoch 7, train loss: 1.849, valid rmspe: 2.537\n"
     ]
    },
    {
     "name": "stderr",
     "output_type": "stream",
     "text": [
      "Training: 100%|██████████| 302/302 [00:12<00:00, 24.77it/s]\n",
      "Evaluating: 100%|██████████| 34/34 [00:01<00:00, 29.56it/s]\n",
      "Training:   0%|          | 0/302 [00:00<?, ?it/s]"
     ]
    },
    {
     "name": "stdout",
     "output_type": "stream",
     "text": [
      "epoch 8, train loss: 1.214, valid rmspe: 0.536\n",
      "new best:0.5358614921569824\n"
     ]
    },
    {
     "name": "stderr",
     "output_type": "stream",
     "text": [
      "Training: 100%|██████████| 302/302 [00:12<00:00, 24.58it/s]\n",
      "Evaluating: 100%|██████████| 34/34 [00:01<00:00, 28.29it/s]\n",
      "Training:   0%|          | 0/302 [00:00<?, ?it/s]"
     ]
    },
    {
     "name": "stdout",
     "output_type": "stream",
     "text": [
      "epoch 9, train loss: 0.458, valid rmspe: 0.342\n",
      "new best:0.3423343896865845\n"
     ]
    },
    {
     "name": "stderr",
     "output_type": "stream",
     "text": [
      "Training: 100%|██████████| 302/302 [00:12<00:00, 23.86it/s]\n",
      "Evaluating: 100%|██████████| 34/34 [00:01<00:00, 29.17it/s]\n",
      "Training:   0%|          | 0/302 [00:00<?, ?it/s]"
     ]
    },
    {
     "name": "stdout",
     "output_type": "stream",
     "text": [
      "epoch 10, train loss: 0.240, valid rmspe: 0.186\n",
      "new best:0.18570788204669952\n"
     ]
    },
    {
     "name": "stderr",
     "output_type": "stream",
     "text": [
      "Training: 100%|██████████| 302/302 [00:12<00:00, 24.84it/s]\n",
      "Evaluating: 100%|██████████| 34/34 [00:01<00:00, 24.61it/s]\n",
      "Training:   0%|          | 0/302 [00:00<?, ?it/s]"
     ]
    },
    {
     "name": "stdout",
     "output_type": "stream",
     "text": [
      "epoch 11, train loss: 0.216, valid rmspe: 0.196\n"
     ]
    },
    {
     "name": "stderr",
     "output_type": "stream",
     "text": [
      "Training: 100%|██████████| 302/302 [00:13<00:00, 22.55it/s]\n",
      "Evaluating: 100%|██████████| 34/34 [00:01<00:00, 23.54it/s]\n",
      "Training:   0%|          | 0/302 [00:00<?, ?it/s]"
     ]
    },
    {
     "name": "stdout",
     "output_type": "stream",
     "text": [
      "epoch 12, train loss: 0.224, valid rmspe: 0.193\n"
     ]
    },
    {
     "name": "stderr",
     "output_type": "stream",
     "text": [
      "Training: 100%|██████████| 302/302 [00:14<00:00, 20.28it/s]\n",
      "Evaluating: 100%|██████████| 34/34 [00:01<00:00, 28.18it/s]\n",
      "Training:   0%|          | 0/302 [00:00<?, ?it/s]"
     ]
    },
    {
     "name": "stdout",
     "output_type": "stream",
     "text": [
      "epoch 13, train loss: 0.210, valid rmspe: 0.184\n",
      "new best:0.1835884153842926\n"
     ]
    },
    {
     "name": "stderr",
     "output_type": "stream",
     "text": [
      "Training: 100%|██████████| 302/302 [00:12<00:00, 23.82it/s]\n",
      "Evaluating: 100%|██████████| 34/34 [00:01<00:00, 27.66it/s]\n",
      "Training:   0%|          | 0/302 [00:00<?, ?it/s]"
     ]
    },
    {
     "name": "stdout",
     "output_type": "stream",
     "text": [
      "epoch 14, train loss: 0.215, valid rmspe: 0.230\n"
     ]
    },
    {
     "name": "stderr",
     "output_type": "stream",
     "text": [
      "Training: 100%|██████████| 302/302 [00:12<00:00, 24.79it/s]\n",
      "Evaluating: 100%|██████████| 34/34 [00:01<00:00, 29.21it/s]\n",
      "Training:   0%|          | 0/302 [00:00<?, ?it/s]"
     ]
    },
    {
     "name": "stdout",
     "output_type": "stream",
     "text": [
      "epoch 15, train loss: 0.208, valid rmspe: 0.187\n"
     ]
    },
    {
     "name": "stderr",
     "output_type": "stream",
     "text": [
      "Training: 100%|██████████| 302/302 [00:12<00:00, 25.04it/s]\n",
      "Evaluating: 100%|██████████| 34/34 [00:01<00:00, 29.02it/s]\n",
      "Training:   0%|          | 0/302 [00:00<?, ?it/s]"
     ]
    },
    {
     "name": "stdout",
     "output_type": "stream",
     "text": [
      "epoch 16, train loss: 0.210, valid rmspe: 0.187\n"
     ]
    },
    {
     "name": "stderr",
     "output_type": "stream",
     "text": [
      "Training: 100%|██████████| 302/302 [00:12<00:00, 23.94it/s]\n",
      "Evaluating: 100%|██████████| 34/34 [00:01<00:00, 28.93it/s]\n",
      "Training:   0%|          | 0/302 [00:00<?, ?it/s]"
     ]
    },
    {
     "name": "stdout",
     "output_type": "stream",
     "text": [
      "epoch 17, train loss: 0.207, valid rmspe: 0.235\n"
     ]
    },
    {
     "name": "stderr",
     "output_type": "stream",
     "text": [
      "Training: 100%|██████████| 302/302 [00:12<00:00, 24.73it/s]\n",
      "Evaluating: 100%|██████████| 34/34 [00:01<00:00, 24.95it/s]\n",
      "Training:   0%|          | 0/302 [00:00<?, ?it/s]"
     ]
    },
    {
     "name": "stdout",
     "output_type": "stream",
     "text": [
      "epoch 18, train loss: 0.213, valid rmspe: 0.188\n"
     ]
    },
    {
     "name": "stderr",
     "output_type": "stream",
     "text": [
      "Training: 100%|██████████| 302/302 [00:12<00:00, 23.71it/s]\n",
      "Evaluating: 100%|██████████| 34/34 [00:01<00:00, 29.03it/s]\n",
      "Training:   0%|          | 0/302 [00:00<?, ?it/s]"
     ]
    },
    {
     "name": "stdout",
     "output_type": "stream",
     "text": [
      "epoch 19, train loss: 0.204, valid rmspe: 0.185\n"
     ]
    },
    {
     "name": "stderr",
     "output_type": "stream",
     "text": [
      "Training: 100%|██████████| 302/302 [00:12<00:00, 24.58it/s]\n",
      "Evaluating: 100%|██████████| 34/34 [00:01<00:00, 28.60it/s]\n",
      "Training:   0%|          | 0/302 [00:00<?, ?it/s]"
     ]
    },
    {
     "name": "stdout",
     "output_type": "stream",
     "text": [
      "epoch 20, train loss: 0.209, valid rmspe: 0.198\n"
     ]
    },
    {
     "name": "stderr",
     "output_type": "stream",
     "text": [
      "Training: 100%|██████████| 302/302 [00:12<00:00, 24.78it/s]\n",
      "Evaluating: 100%|██████████| 34/34 [00:01<00:00, 29.04it/s]\n",
      "Training:   0%|          | 0/302 [00:00<?, ?it/s]"
     ]
    },
    {
     "name": "stdout",
     "output_type": "stream",
     "text": [
      "epoch 21, train loss: 0.211, valid rmspe: 0.184\n"
     ]
    },
    {
     "name": "stderr",
     "output_type": "stream",
     "text": [
      "Training: 100%|██████████| 302/302 [00:15<00:00, 20.09it/s]\n",
      "Evaluating: 100%|██████████| 34/34 [00:01<00:00, 22.74it/s]\n",
      "Training:   0%|          | 0/302 [00:00<?, ?it/s]"
     ]
    },
    {
     "name": "stdout",
     "output_type": "stream",
     "text": [
      "epoch 22, train loss: 0.207, valid rmspe: 0.204\n",
      "Epoch    23: reducing learning rate of group 0 to 1.1400e-04.\n"
     ]
    },
    {
     "name": "stderr",
     "output_type": "stream",
     "text": [
      "Training: 100%|██████████| 302/302 [00:13<00:00, 22.27it/s]\n",
      "Evaluating: 100%|██████████| 34/34 [00:01<00:00, 28.96it/s]\n",
      "Training:   0%|          | 0/302 [00:00<?, ?it/s]"
     ]
    },
    {
     "name": "stdout",
     "output_type": "stream",
     "text": [
      "epoch 23, train loss: 0.198, valid rmspe: 0.192\n"
     ]
    },
    {
     "name": "stderr",
     "output_type": "stream",
     "text": [
      "Training: 100%|██████████| 302/302 [00:12<00:00, 24.00it/s]\n",
      "Evaluating: 100%|██████████| 34/34 [00:01<00:00, 29.32it/s]\n",
      "Training:   0%|          | 0/302 [00:00<?, ?it/s]"
     ]
    },
    {
     "name": "stdout",
     "output_type": "stream",
     "text": [
      "epoch 24, train loss: 0.199, valid rmspe: 0.182\n",
      "new best:0.18177354335784912\n"
     ]
    },
    {
     "name": "stderr",
     "output_type": "stream",
     "text": [
      "Training: 100%|██████████| 302/302 [00:12<00:00, 24.65it/s]\n",
      "Evaluating: 100%|██████████| 34/34 [00:01<00:00, 23.70it/s]\n",
      "Training:   0%|          | 0/302 [00:00<?, ?it/s]"
     ]
    },
    {
     "name": "stdout",
     "output_type": "stream",
     "text": [
      "epoch 25, train loss: 0.196, valid rmspe: 0.181\n",
      "new best:0.18146094679832458\n"
     ]
    },
    {
     "name": "stderr",
     "output_type": "stream",
     "text": [
      "Training: 100%|██████████| 302/302 [00:12<00:00, 23.77it/s]\n",
      "Evaluating: 100%|██████████| 34/34 [00:01<00:00, 28.73it/s]\n",
      "Training:   0%|          | 0/302 [00:00<?, ?it/s]"
     ]
    },
    {
     "name": "stdout",
     "output_type": "stream",
     "text": [
      "epoch 26, train loss: 0.195, valid rmspe: 0.185\n"
     ]
    },
    {
     "name": "stderr",
     "output_type": "stream",
     "text": [
      "Training: 100%|██████████| 302/302 [00:12<00:00, 24.64it/s]\n",
      "Evaluating: 100%|██████████| 34/34 [00:01<00:00, 29.41it/s]\n",
      "Training:   0%|          | 0/302 [00:00<?, ?it/s]"
     ]
    },
    {
     "name": "stdout",
     "output_type": "stream",
     "text": [
      "epoch 27, train loss: 0.196, valid rmspe: 0.183\n"
     ]
    },
    {
     "name": "stderr",
     "output_type": "stream",
     "text": [
      "Training: 100%|██████████| 302/302 [00:12<00:00, 25.00it/s]\n",
      "Evaluating: 100%|██████████| 34/34 [00:01<00:00, 29.44it/s]\n",
      "Training:   0%|          | 0/302 [00:00<?, ?it/s]"
     ]
    },
    {
     "name": "stdout",
     "output_type": "stream",
     "text": [
      "epoch 28, train loss: 0.195, valid rmspe: 0.182\n"
     ]
    },
    {
     "name": "stderr",
     "output_type": "stream",
     "text": [
      "Training: 100%|██████████| 302/302 [00:12<00:00, 23.25it/s]\n",
      "Evaluating: 100%|██████████| 34/34 [00:01<00:00, 22.59it/s]\n",
      "Training:   0%|          | 0/302 [00:00<?, ?it/s]"
     ]
    },
    {
     "name": "stdout",
     "output_type": "stream",
     "text": [
      "epoch 29, train loss: 0.197, valid rmspe: 0.201\n"
     ]
    },
    {
     "name": "stderr",
     "output_type": "stream",
     "text": [
      "Training: 100%|██████████| 302/302 [00:12<00:00, 24.88it/s]\n",
      "Evaluating: 100%|██████████| 34/34 [00:01<00:00, 29.38it/s]\n",
      "Training:   0%|          | 0/302 [00:00<?, ?it/s]"
     ]
    },
    {
     "name": "stdout",
     "output_type": "stream",
     "text": [
      "epoch 30, train loss: 0.197, valid rmspe: 0.187\n"
     ]
    },
    {
     "name": "stderr",
     "output_type": "stream",
     "text": [
      "Training: 100%|██████████| 302/302 [00:12<00:00, 24.03it/s]\n",
      "Evaluating: 100%|██████████| 34/34 [00:01<00:00, 29.13it/s]\n",
      "Training:   0%|          | 0/302 [00:00<?, ?it/s]"
     ]
    },
    {
     "name": "stdout",
     "output_type": "stream",
     "text": [
      "epoch 31, train loss: 0.196, valid rmspe: 0.183\n"
     ]
    },
    {
     "name": "stderr",
     "output_type": "stream",
     "text": [
      "Training: 100%|██████████| 302/302 [00:15<00:00, 20.09it/s]\n",
      "Evaluating: 100%|██████████| 34/34 [00:01<00:00, 20.76it/s]\n",
      "Training:   0%|          | 0/302 [00:00<?, ?it/s]"
     ]
    },
    {
     "name": "stdout",
     "output_type": "stream",
     "text": [
      "epoch 32, train loss: 0.195, valid rmspe: 0.192\n"
     ]
    },
    {
     "name": "stderr",
     "output_type": "stream",
     "text": [
      "Training: 100%|██████████| 302/302 [00:13<00:00, 22.52it/s]\n",
      "Evaluating: 100%|██████████| 34/34 [00:01<00:00, 29.10it/s]\n",
      "Training:   0%|          | 0/302 [00:00<?, ?it/s]"
     ]
    },
    {
     "name": "stdout",
     "output_type": "stream",
     "text": [
      "epoch 33, train loss: 0.195, valid rmspe: 0.182\n"
     ]
    },
    {
     "name": "stderr",
     "output_type": "stream",
     "text": [
      "Training: 100%|██████████| 302/302 [00:12<00:00, 24.98it/s]\n",
      "Evaluating: 100%|██████████| 34/34 [00:01<00:00, 28.84it/s]\n",
      "Training:   0%|          | 0/302 [00:00<?, ?it/s]"
     ]
    },
    {
     "name": "stdout",
     "output_type": "stream",
     "text": [
      "epoch 34, train loss: 0.195, valid rmspe: 0.182\n",
      "Epoch    35: reducing learning rate of group 0 to 3.4200e-05.\n"
     ]
    },
    {
     "name": "stderr",
     "output_type": "stream",
     "text": [
      "Training: 100%|██████████| 302/302 [00:12<00:00, 25.03it/s]\n",
      "Evaluating: 100%|██████████| 34/34 [00:01<00:00, 29.24it/s]\n",
      "Training:   0%|          | 0/302 [00:00<?, ?it/s]"
     ]
    },
    {
     "name": "stdout",
     "output_type": "stream",
     "text": [
      "epoch 35, train loss: 0.190, valid rmspe: 0.182\n"
     ]
    },
    {
     "name": "stderr",
     "output_type": "stream",
     "text": [
      "Training: 100%|██████████| 302/302 [00:12<00:00, 24.11it/s]\n",
      "Evaluating: 100%|██████████| 34/34 [00:01<00:00, 22.99it/s]\n",
      "Training:   0%|          | 0/302 [00:00<?, ?it/s]"
     ]
    },
    {
     "name": "stdout",
     "output_type": "stream",
     "text": [
      "epoch 36, train loss: 0.190, valid rmspe: 0.183\n"
     ]
    },
    {
     "name": "stderr",
     "output_type": "stream",
     "text": [
      "Training: 100%|██████████| 302/302 [00:12<00:00, 25.04it/s]\n",
      "Evaluating: 100%|██████████| 34/34 [00:01<00:00, 29.57it/s]\n",
      "Training:   0%|          | 0/302 [00:00<?, ?it/s]"
     ]
    },
    {
     "name": "stdout",
     "output_type": "stream",
     "text": [
      "epoch 37, train loss: 0.191, valid rmspe: 0.184\n"
     ]
    },
    {
     "name": "stderr",
     "output_type": "stream",
     "text": [
      "Training: 100%|██████████| 302/302 [00:12<00:00, 23.93it/s]\n",
      "Evaluating: 100%|██████████| 34/34 [00:01<00:00, 28.94it/s]\n",
      "Training:   0%|          | 0/302 [00:00<?, ?it/s]"
     ]
    },
    {
     "name": "stdout",
     "output_type": "stream",
     "text": [
      "epoch 38, train loss: 0.190, valid rmspe: 0.180\n",
      "new best:0.18033888936042786\n"
     ]
    },
    {
     "name": "stderr",
     "output_type": "stream",
     "text": [
      "Training: 100%|██████████| 302/302 [00:12<00:00, 24.90it/s]\n",
      "Evaluating: 100%|██████████| 34/34 [00:01<00:00, 28.97it/s]\n",
      "Training:   0%|          | 0/302 [00:00<?, ?it/s]"
     ]
    },
    {
     "name": "stdout",
     "output_type": "stream",
     "text": [
      "epoch 39, train loss: 0.189, valid rmspe: 0.181\n"
     ]
    },
    {
     "name": "stderr",
     "output_type": "stream",
     "text": [
      "Training: 100%|██████████| 302/302 [00:12<00:00, 24.08it/s]\n",
      "Evaluating: 100%|██████████| 34/34 [00:01<00:00, 25.06it/s]\n",
      "Training:   0%|          | 0/302 [00:00<?, ?it/s]"
     ]
    },
    {
     "name": "stdout",
     "output_type": "stream",
     "text": [
      "epoch 40, train loss: 0.189, valid rmspe: 0.181\n"
     ]
    },
    {
     "name": "stderr",
     "output_type": "stream",
     "text": [
      "Training: 100%|██████████| 302/302 [00:12<00:00, 24.39it/s]\n",
      "Evaluating: 100%|██████████| 34/34 [00:01<00:00, 28.35it/s]\n",
      "Training:   0%|          | 0/302 [00:00<?, ?it/s]"
     ]
    },
    {
     "name": "stdout",
     "output_type": "stream",
     "text": [
      "epoch 41, train loss: 0.189, valid rmspe: 0.181\n"
     ]
    },
    {
     "name": "stderr",
     "output_type": "stream",
     "text": [
      "Training: 100%|██████████| 302/302 [00:15<00:00, 18.96it/s]\n",
      "Evaluating: 100%|██████████| 34/34 [00:01<00:00, 21.28it/s]\n",
      "Training:   0%|          | 0/302 [00:00<?, ?it/s]"
     ]
    },
    {
     "name": "stdout",
     "output_type": "stream",
     "text": [
      "epoch 42, train loss: 0.188, valid rmspe: 0.183\n"
     ]
    },
    {
     "name": "stderr",
     "output_type": "stream",
     "text": [
      "Training: 100%|██████████| 302/302 [00:12<00:00, 24.21it/s]\n",
      "Evaluating: 100%|██████████| 34/34 [00:01<00:00, 24.01it/s]\n",
      "Training:   0%|          | 0/302 [00:00<?, ?it/s]"
     ]
    },
    {
     "name": "stdout",
     "output_type": "stream",
     "text": [
      "epoch 43, train loss: 0.189, valid rmspe: 0.181\n"
     ]
    },
    {
     "name": "stderr",
     "output_type": "stream",
     "text": [
      "Training: 100%|██████████| 302/302 [00:12<00:00, 25.07it/s]\n",
      "Evaluating: 100%|██████████| 34/34 [00:01<00:00, 29.57it/s]\n",
      "Training:   0%|          | 0/302 [00:00<?, ?it/s]"
     ]
    },
    {
     "name": "stdout",
     "output_type": "stream",
     "text": [
      "epoch 44, train loss: 0.189, valid rmspe: 0.182\n"
     ]
    },
    {
     "name": "stderr",
     "output_type": "stream",
     "text": [
      "Training: 100%|██████████| 302/302 [00:12<00:00, 24.03it/s]\n",
      "Evaluating: 100%|██████████| 34/34 [00:01<00:00, 29.36it/s]\n",
      "Training:   0%|          | 0/302 [00:00<?, ?it/s]"
     ]
    },
    {
     "name": "stdout",
     "output_type": "stream",
     "text": [
      "epoch 45, train loss: 0.188, valid rmspe: 0.181\n"
     ]
    },
    {
     "name": "stderr",
     "output_type": "stream",
     "text": [
      "Training: 100%|██████████| 302/302 [00:12<00:00, 24.74it/s]\n",
      "Evaluating: 100%|██████████| 34/34 [00:01<00:00, 29.36it/s]\n",
      "Training:   0%|          | 0/302 [00:00<?, ?it/s]"
     ]
    },
    {
     "name": "stdout",
     "output_type": "stream",
     "text": [
      "epoch 46, train loss: 0.188, valid rmspe: 0.181\n"
     ]
    },
    {
     "name": "stderr",
     "output_type": "stream",
     "text": [
      "Training: 100%|██████████| 302/302 [00:12<00:00, 24.07it/s]\n",
      "Evaluating: 100%|██████████| 34/34 [00:01<00:00, 25.67it/s]\n",
      "Training:   0%|          | 0/302 [00:00<?, ?it/s]"
     ]
    },
    {
     "name": "stdout",
     "output_type": "stream",
     "text": [
      "epoch 47, train loss: 0.188, valid rmspe: 0.183\n",
      "Epoch    48: reducing learning rate of group 0 to 1.0260e-05.\n"
     ]
    },
    {
     "name": "stderr",
     "output_type": "stream",
     "text": [
      "Training: 100%|██████████| 302/302 [00:12<00:00, 24.61it/s]\n",
      "Evaluating: 100%|██████████| 34/34 [00:01<00:00, 29.29it/s]\n",
      "Training:   0%|          | 0/302 [00:00<?, ?it/s]"
     ]
    },
    {
     "name": "stdout",
     "output_type": "stream",
     "text": [
      "epoch 48, train loss: 0.186, valid rmspe: 0.182\n"
     ]
    },
    {
     "name": "stderr",
     "output_type": "stream",
     "text": [
      "Training: 100%|██████████| 302/302 [00:12<00:00, 24.68it/s]\n",
      "Evaluating: 100%|██████████| 34/34 [00:01<00:00, 23.10it/s]\n"
     ]
    },
    {
     "name": "stdout",
     "output_type": "stream",
     "text": [
      "epoch 49, train loss: 0.186, valid rmspe: 0.181\n"
     ]
    },
    {
     "name": "stderr",
     "output_type": "stream",
     "text": [
      "Training:   0%|          | 0/302 [00:00<?, ?it/s]"
     ]
    },
    {
     "name": "stdout",
     "output_type": "stream",
     "text": [
      "fold 0 train: (386036, 591), valid: (42896, 591)\n"
     ]
    },
    {
     "name": "stderr",
     "output_type": "stream",
     "text": [
      "Training: 100%|██████████| 302/302 [00:12<00:00, 24.99it/s]\n",
      "Evaluating: 100%|██████████| 34/34 [00:01<00:00, 29.34it/s]\n",
      "Training:   0%|          | 0/302 [00:00<?, ?it/s]"
     ]
    },
    {
     "name": "stdout",
     "output_type": "stream",
     "text": [
      "epoch 0, train loss: 26.282, valid rmspe: 7.520\n",
      "new best:7.5200018882751465\n"
     ]
    },
    {
     "name": "stderr",
     "output_type": "stream",
     "text": [
      "Training: 100%|██████████| 302/302 [00:15<00:00, 19.80it/s]\n",
      "Evaluating: 100%|██████████| 34/34 [00:01<00:00, 20.06it/s]\n",
      "Training:   0%|          | 0/302 [00:00<?, ?it/s]"
     ]
    },
    {
     "name": "stdout",
     "output_type": "stream",
     "text": [
      "epoch 1, train loss: 5.948, valid rmspe: 2.820\n",
      "new best:2.819704294204712\n"
     ]
    },
    {
     "name": "stderr",
     "output_type": "stream",
     "text": [
      "Training: 100%|██████████| 302/302 [00:13<00:00, 22.65it/s]\n",
      "Evaluating: 100%|██████████| 34/34 [00:01<00:00, 29.40it/s]\n",
      "Training:   0%|          | 0/302 [00:00<?, ?it/s]"
     ]
    },
    {
     "name": "stdout",
     "output_type": "stream",
     "text": [
      "epoch 2, train loss: 4.182, valid rmspe: 8.928\n"
     ]
    },
    {
     "name": "stderr",
     "output_type": "stream",
     "text": [
      "Training: 100%|██████████| 302/302 [00:12<00:00, 23.99it/s]\n",
      "Evaluating: 100%|██████████| 34/34 [00:01<00:00, 29.45it/s]\n",
      "Training:   0%|          | 0/302 [00:00<?, ?it/s]"
     ]
    },
    {
     "name": "stdout",
     "output_type": "stream",
     "text": [
      "epoch 3, train loss: 5.051, valid rmspe: 3.035\n"
     ]
    },
    {
     "name": "stderr",
     "output_type": "stream",
     "text": [
      "Training: 100%|██████████| 302/302 [00:12<00:00, 24.96it/s]\n",
      "Evaluating: 100%|██████████| 34/34 [00:01<00:00, 29.05it/s]\n",
      "Training:   0%|          | 0/302 [00:00<?, ?it/s]"
     ]
    },
    {
     "name": "stdout",
     "output_type": "stream",
     "text": [
      "epoch 4, train loss: 3.475, valid rmspe: 1.584\n",
      "new best:1.5843538045883179\n"
     ]
    },
    {
     "name": "stderr",
     "output_type": "stream",
     "text": [
      "Training: 100%|██████████| 302/302 [00:12<00:00, 24.75it/s]\n",
      "Evaluating: 100%|██████████| 34/34 [00:01<00:00, 25.72it/s]\n",
      "Training:   0%|          | 0/302 [00:00<?, ?it/s]"
     ]
    },
    {
     "name": "stdout",
     "output_type": "stream",
     "text": [
      "epoch 5, train loss: 2.889, valid rmspe: 3.414\n"
     ]
    },
    {
     "name": "stderr",
     "output_type": "stream",
     "text": [
      "Training: 100%|██████████| 302/302 [00:12<00:00, 24.04it/s]\n",
      "Evaluating: 100%|██████████| 34/34 [00:01<00:00, 29.18it/s]\n",
      "Training:   0%|          | 0/302 [00:00<?, ?it/s]"
     ]
    },
    {
     "name": "stdout",
     "output_type": "stream",
     "text": [
      "epoch 6, train loss: 3.170, valid rmspe: 3.476\n"
     ]
    },
    {
     "name": "stderr",
     "output_type": "stream",
     "text": [
      "Training: 100%|██████████| 302/302 [00:12<00:00, 24.87it/s]\n",
      "Evaluating: 100%|██████████| 34/34 [00:01<00:00, 28.92it/s]\n",
      "Training:   0%|          | 0/302 [00:00<?, ?it/s]"
     ]
    },
    {
     "name": "stdout",
     "output_type": "stream",
     "text": [
      "epoch 7, train loss: 3.001, valid rmspe: 1.881\n"
     ]
    },
    {
     "name": "stderr",
     "output_type": "stream",
     "text": [
      "Training: 100%|██████████| 302/302 [00:12<00:00, 23.92it/s]\n",
      "Evaluating: 100%|██████████| 34/34 [00:01<00:00, 29.28it/s]\n",
      "Training:   0%|          | 0/302 [00:00<?, ?it/s]"
     ]
    },
    {
     "name": "stdout",
     "output_type": "stream",
     "text": [
      "epoch 8, train loss: 1.891, valid rmspe: 1.118\n",
      "new best:1.117576003074646\n"
     ]
    },
    {
     "name": "stderr",
     "output_type": "stream",
     "text": [
      "Training: 100%|██████████| 302/302 [00:12<00:00, 25.07it/s]\n",
      "Evaluating: 100%|██████████| 34/34 [00:01<00:00, 22.83it/s]\n",
      "Training:   0%|          | 0/302 [00:00<?, ?it/s]"
     ]
    },
    {
     "name": "stdout",
     "output_type": "stream",
     "text": [
      "epoch 9, train loss: 1.139, valid rmspe: 1.055\n",
      "new best:1.0551148653030396\n"
     ]
    },
    {
     "name": "stderr",
     "output_type": "stream",
     "text": [
      "Training: 100%|██████████| 302/302 [00:12<00:00, 24.38it/s]\n",
      "Evaluating: 100%|██████████| 34/34 [00:01<00:00, 20.01it/s]\n",
      "Training:   0%|          | 0/302 [00:00<?, ?it/s]"
     ]
    },
    {
     "name": "stdout",
     "output_type": "stream",
     "text": [
      "epoch 10, train loss: 1.787, valid rmspe: 1.770\n"
     ]
    },
    {
     "name": "stderr",
     "output_type": "stream",
     "text": [
      "Training: 100%|██████████| 302/302 [00:15<00:00, 19.51it/s]\n",
      "Evaluating: 100%|██████████| 34/34 [00:01<00:00, 24.04it/s]\n",
      "Training:   0%|          | 0/302 [00:00<?, ?it/s]"
     ]
    },
    {
     "name": "stdout",
     "output_type": "stream",
     "text": [
      "epoch 11, train loss: 1.460, valid rmspe: 0.909\n",
      "new best:0.9094849824905396\n"
     ]
    },
    {
     "name": "stderr",
     "output_type": "stream",
     "text": [
      "Training: 100%|██████████| 302/302 [00:13<00:00, 21.83it/s]\n",
      "Evaluating: 100%|██████████| 34/34 [00:01<00:00, 24.71it/s]\n",
      "Training:   0%|          | 0/302 [00:00<?, ?it/s]"
     ]
    },
    {
     "name": "stdout",
     "output_type": "stream",
     "text": [
      "epoch 12, train loss: 1.070, valid rmspe: 1.164\n"
     ]
    },
    {
     "name": "stderr",
     "output_type": "stream",
     "text": [
      "Training: 100%|██████████| 302/302 [00:12<00:00, 23.92it/s]\n",
      "Evaluating: 100%|██████████| 34/34 [00:01<00:00, 29.39it/s]\n",
      "Training:   0%|          | 0/302 [00:00<?, ?it/s]"
     ]
    },
    {
     "name": "stdout",
     "output_type": "stream",
     "text": [
      "epoch 13, train loss: 0.828, valid rmspe: 0.731\n",
      "new best:0.7307140231132507\n"
     ]
    },
    {
     "name": "stderr",
     "output_type": "stream",
     "text": [
      "Training: 100%|██████████| 302/302 [00:12<00:00, 24.37it/s]\n",
      "Evaluating: 100%|██████████| 34/34 [00:01<00:00, 27.74it/s]\n",
      "Training:   0%|          | 0/302 [00:00<?, ?it/s]"
     ]
    },
    {
     "name": "stdout",
     "output_type": "stream",
     "text": [
      "epoch 14, train loss: 0.766, valid rmspe: 0.334\n",
      "new best:0.33379241824150085\n"
     ]
    },
    {
     "name": "stderr",
     "output_type": "stream",
     "text": [
      "Training: 100%|██████████| 302/302 [00:12<00:00, 23.58it/s]\n",
      "Evaluating: 100%|██████████| 34/34 [00:01<00:00, 23.69it/s]\n",
      "Training:   0%|          | 0/302 [00:00<?, ?it/s]"
     ]
    },
    {
     "name": "stdout",
     "output_type": "stream",
     "text": [
      "epoch 15, train loss: 0.596, valid rmspe: 1.100\n"
     ]
    },
    {
     "name": "stderr",
     "output_type": "stream",
     "text": [
      "Training: 100%|██████████| 302/302 [00:12<00:00, 24.29it/s]\n",
      "Evaluating: 100%|██████████| 34/34 [00:01<00:00, 29.43it/s]\n",
      "Training:   0%|          | 0/302 [00:00<?, ?it/s]"
     ]
    },
    {
     "name": "stdout",
     "output_type": "stream",
     "text": [
      "epoch 16, train loss: 0.629, valid rmspe: 0.230\n",
      "new best:0.23013845086097717\n"
     ]
    },
    {
     "name": "stderr",
     "output_type": "stream",
     "text": [
      "Training: 100%|██████████| 302/302 [00:12<00:00, 23.71it/s]\n",
      "Evaluating: 100%|██████████| 34/34 [00:01<00:00, 28.88it/s]\n",
      "Training:   0%|          | 0/302 [00:00<?, ?it/s]"
     ]
    },
    {
     "name": "stdout",
     "output_type": "stream",
     "text": [
      "epoch 17, train loss: 0.562, valid rmspe: 0.307\n"
     ]
    },
    {
     "name": "stderr",
     "output_type": "stream",
     "text": [
      "Training: 100%|██████████| 302/302 [00:12<00:00, 23.93it/s]\n",
      "Evaluating: 100%|██████████| 34/34 [00:01<00:00, 27.73it/s]\n",
      "Training:   0%|          | 0/302 [00:00<?, ?it/s]"
     ]
    },
    {
     "name": "stdout",
     "output_type": "stream",
     "text": [
      "epoch 18, train loss: 0.601, valid rmspe: 0.432\n"
     ]
    },
    {
     "name": "stderr",
     "output_type": "stream",
     "text": [
      "Training: 100%|██████████| 302/302 [00:12<00:00, 24.55it/s]\n",
      "Evaluating: 100%|██████████| 34/34 [00:02<00:00, 16.75it/s]\n",
      "Training:   0%|          | 0/302 [00:00<?, ?it/s]"
     ]
    },
    {
     "name": "stdout",
     "output_type": "stream",
     "text": [
      "epoch 19, train loss: 0.519, valid rmspe: 0.363\n"
     ]
    },
    {
     "name": "stderr",
     "output_type": "stream",
     "text": [
      "Training: 100%|██████████| 302/302 [00:12<00:00, 23.84it/s]\n",
      "Evaluating: 100%|██████████| 34/34 [00:01<00:00, 22.34it/s]\n",
      "Training:   0%|          | 0/302 [00:00<?, ?it/s]"
     ]
    },
    {
     "name": "stdout",
     "output_type": "stream",
     "text": [
      "epoch 20, train loss: 0.390, valid rmspe: 0.242\n"
     ]
    },
    {
     "name": "stderr",
     "output_type": "stream",
     "text": [
      "Training: 100%|██████████| 302/302 [00:15<00:00, 18.93it/s]\n",
      "Evaluating: 100%|██████████| 34/34 [00:01<00:00, 18.07it/s]\n",
      "Training:   0%|          | 0/302 [00:00<?, ?it/s]"
     ]
    },
    {
     "name": "stdout",
     "output_type": "stream",
     "text": [
      "epoch 21, train loss: 0.368, valid rmspe: 0.388\n"
     ]
    },
    {
     "name": "stderr",
     "output_type": "stream",
     "text": [
      "Training: 100%|██████████| 302/302 [00:12<00:00, 23.37it/s]\n",
      "Evaluating: 100%|██████████| 34/34 [00:01<00:00, 29.22it/s]\n",
      "Training:   0%|          | 0/302 [00:00<?, ?it/s]"
     ]
    },
    {
     "name": "stdout",
     "output_type": "stream",
     "text": [
      "epoch 22, train loss: 0.469, valid rmspe: 0.220\n",
      "new best:0.22024667263031006\n"
     ]
    },
    {
     "name": "stderr",
     "output_type": "stream",
     "text": [
      "Training: 100%|██████████| 302/302 [00:12<00:00, 25.04it/s]\n",
      "Evaluating: 100%|██████████| 34/34 [00:01<00:00, 29.54it/s]\n",
      "Training:   0%|          | 0/302 [00:00<?, ?it/s]"
     ]
    },
    {
     "name": "stdout",
     "output_type": "stream",
     "text": [
      "epoch 23, train loss: 0.429, valid rmspe: 0.252\n"
     ]
    },
    {
     "name": "stderr",
     "output_type": "stream",
     "text": [
      "Training: 100%|██████████| 302/302 [00:12<00:00, 23.89it/s]\n",
      "Evaluating: 100%|██████████| 34/34 [00:01<00:00, 29.19it/s]\n",
      "Training:   0%|          | 0/302 [00:00<?, ?it/s]"
     ]
    },
    {
     "name": "stdout",
     "output_type": "stream",
     "text": [
      "epoch 24, train loss: 0.379, valid rmspe: 0.344\n"
     ]
    },
    {
     "name": "stderr",
     "output_type": "stream",
     "text": [
      "Training: 100%|██████████| 302/302 [00:12<00:00, 25.02it/s]\n",
      "Evaluating: 100%|██████████| 34/34 [00:01<00:00, 25.25it/s]\n",
      "Training:   0%|          | 0/302 [00:00<?, ?it/s]"
     ]
    },
    {
     "name": "stdout",
     "output_type": "stream",
     "text": [
      "epoch 25, train loss: 0.332, valid rmspe: 0.604\n"
     ]
    },
    {
     "name": "stderr",
     "output_type": "stream",
     "text": [
      "Training: 100%|██████████| 302/302 [00:12<00:00, 23.62it/s]\n",
      "Evaluating: 100%|██████████| 34/34 [00:01<00:00, 28.46it/s]\n",
      "Training:   0%|          | 0/302 [00:00<?, ?it/s]"
     ]
    },
    {
     "name": "stdout",
     "output_type": "stream",
     "text": [
      "epoch 26, train loss: 0.404, valid rmspe: 0.207\n",
      "new best:0.20687156915664673\n"
     ]
    },
    {
     "name": "stderr",
     "output_type": "stream",
     "text": [
      "Training: 100%|██████████| 302/302 [00:12<00:00, 24.68it/s]\n",
      "Evaluating: 100%|██████████| 34/34 [00:01<00:00, 27.37it/s]\n",
      "Training:   0%|          | 0/302 [00:00<?, ?it/s]"
     ]
    },
    {
     "name": "stdout",
     "output_type": "stream",
     "text": [
      "epoch 27, train loss: 0.297, valid rmspe: 0.193\n",
      "new best:0.19253328442573547\n"
     ]
    },
    {
     "name": "stderr",
     "output_type": "stream",
     "text": [
      "Training: 100%|██████████| 302/302 [00:12<00:00, 24.72it/s]\n",
      "Evaluating: 100%|██████████| 34/34 [00:01<00:00, 29.30it/s]\n",
      "Training:   0%|          | 0/302 [00:00<?, ?it/s]"
     ]
    },
    {
     "name": "stdout",
     "output_type": "stream",
     "text": [
      "epoch 28, train loss: 0.253, valid rmspe: 0.234\n"
     ]
    },
    {
     "name": "stderr",
     "output_type": "stream",
     "text": [
      "Training: 100%|██████████| 302/302 [00:12<00:00, 23.87it/s]\n",
      "Evaluating: 100%|██████████| 34/34 [00:01<00:00, 26.55it/s]\n",
      "Training:   0%|          | 0/302 [00:00<?, ?it/s]"
     ]
    },
    {
     "name": "stdout",
     "output_type": "stream",
     "text": [
      "epoch 29, train loss: 0.224, valid rmspe: 0.205\n"
     ]
    },
    {
     "name": "stderr",
     "output_type": "stream",
     "text": [
      "Training: 100%|██████████| 302/302 [00:12<00:00, 24.61it/s]\n",
      "Evaluating: 100%|██████████| 34/34 [00:01<00:00, 24.19it/s]\n",
      "Training:   0%|          | 0/302 [00:00<?, ?it/s]"
     ]
    },
    {
     "name": "stdout",
     "output_type": "stream",
     "text": [
      "epoch 30, train loss: 0.213, valid rmspe: 0.188\n",
      "new best:0.18815135955810547\n"
     ]
    },
    {
     "name": "stderr",
     "output_type": "stream",
     "text": [
      "Training: 100%|██████████| 302/302 [00:16<00:00, 18.23it/s]\n",
      "Evaluating: 100%|██████████| 34/34 [00:01<00:00, 22.94it/s]\n",
      "Training:   0%|          | 0/302 [00:00<?, ?it/s]"
     ]
    },
    {
     "name": "stdout",
     "output_type": "stream",
     "text": [
      "epoch 31, train loss: 0.215, valid rmspe: 0.190\n"
     ]
    },
    {
     "name": "stderr",
     "output_type": "stream",
     "text": [
      "Training: 100%|██████████| 302/302 [00:12<00:00, 23.55it/s]\n",
      "Evaluating: 100%|██████████| 34/34 [00:01<00:00, 28.19it/s]\n",
      "Training:   0%|          | 0/302 [00:00<?, ?it/s]"
     ]
    },
    {
     "name": "stdout",
     "output_type": "stream",
     "text": [
      "epoch 32, train loss: 0.217, valid rmspe: 0.189\n"
     ]
    },
    {
     "name": "stderr",
     "output_type": "stream",
     "text": [
      "Training: 100%|██████████| 302/302 [00:12<00:00, 23.70it/s]\n",
      "Evaluating: 100%|██████████| 34/34 [00:01<00:00, 29.11it/s]\n",
      "Training:   0%|          | 0/302 [00:00<?, ?it/s]"
     ]
    },
    {
     "name": "stdout",
     "output_type": "stream",
     "text": [
      "epoch 33, train loss: 0.205, valid rmspe: 0.189\n"
     ]
    },
    {
     "name": "stderr",
     "output_type": "stream",
     "text": [
      "Training: 100%|██████████| 302/302 [00:12<00:00, 24.94it/s]\n",
      "Evaluating: 100%|██████████| 34/34 [00:01<00:00, 29.34it/s]\n",
      "Training:   0%|          | 0/302 [00:00<?, ?it/s]"
     ]
    },
    {
     "name": "stdout",
     "output_type": "stream",
     "text": [
      "epoch 34, train loss: 0.205, valid rmspe: 0.184\n",
      "new best:0.18394017219543457\n"
     ]
    },
    {
     "name": "stderr",
     "output_type": "stream",
     "text": [
      "Training: 100%|██████████| 302/302 [00:12<00:00, 24.86it/s]\n",
      "Evaluating: 100%|██████████| 34/34 [00:01<00:00, 28.87it/s]\n",
      "Training:   0%|          | 0/302 [00:00<?, ?it/s]"
     ]
    },
    {
     "name": "stdout",
     "output_type": "stream",
     "text": [
      "epoch 35, train loss: 0.206, valid rmspe: 0.224\n"
     ]
    },
    {
     "name": "stderr",
     "output_type": "stream",
     "text": [
      "Training: 100%|██████████| 302/302 [00:12<00:00, 23.72it/s]\n",
      "Evaluating: 100%|██████████| 34/34 [00:01<00:00, 27.72it/s]\n",
      "Training:   0%|          | 0/302 [00:00<?, ?it/s]"
     ]
    },
    {
     "name": "stdout",
     "output_type": "stream",
     "text": [
      "epoch 36, train loss: 0.201, valid rmspe: 0.182\n",
      "new best:0.18236659467220306\n"
     ]
    },
    {
     "name": "stderr",
     "output_type": "stream",
     "text": [
      "Training: 100%|██████████| 302/302 [00:12<00:00, 24.77it/s]\n",
      "Evaluating: 100%|██████████| 34/34 [00:01<00:00, 28.63it/s]\n",
      "Training:   0%|          | 0/302 [00:00<?, ?it/s]"
     ]
    },
    {
     "name": "stdout",
     "output_type": "stream",
     "text": [
      "epoch 37, train loss: 0.206, valid rmspe: 0.183\n"
     ]
    },
    {
     "name": "stderr",
     "output_type": "stream",
     "text": [
      "Training: 100%|██████████| 302/302 [00:12<00:00, 23.80it/s]\n",
      "Evaluating: 100%|██████████| 34/34 [00:01<00:00, 29.03it/s]\n",
      "Training:   0%|          | 0/302 [00:00<?, ?it/s]"
     ]
    },
    {
     "name": "stdout",
     "output_type": "stream",
     "text": [
      "epoch 38, train loss: 0.203, valid rmspe: 0.185\n"
     ]
    },
    {
     "name": "stderr",
     "output_type": "stream",
     "text": [
      "Training: 100%|██████████| 302/302 [00:12<00:00, 24.78it/s]\n",
      "Evaluating: 100%|██████████| 34/34 [00:01<00:00, 29.28it/s]\n",
      "Training:   0%|          | 0/302 [00:00<?, ?it/s]"
     ]
    },
    {
     "name": "stdout",
     "output_type": "stream",
     "text": [
      "epoch 39, train loss: 0.203, valid rmspe: 0.187\n"
     ]
    },
    {
     "name": "stderr",
     "output_type": "stream",
     "text": [
      "Training: 100%|██████████| 302/302 [00:12<00:00, 24.78it/s]\n",
      "Evaluating: 100%|██████████| 34/34 [00:02<00:00, 16.54it/s]\n",
      "Training:   0%|          | 0/302 [00:00<?, ?it/s]"
     ]
    },
    {
     "name": "stdout",
     "output_type": "stream",
     "text": [
      "epoch 40, train loss: 0.204, valid rmspe: 0.195\n"
     ]
    },
    {
     "name": "stderr",
     "output_type": "stream",
     "text": [
      "Training: 100%|██████████| 302/302 [00:16<00:00, 18.79it/s]\n",
      "Evaluating: 100%|██████████| 34/34 [00:01<00:00, 22.68it/s]\n",
      "Training:   0%|          | 0/302 [00:00<?, ?it/s]"
     ]
    },
    {
     "name": "stdout",
     "output_type": "stream",
     "text": [
      "epoch 41, train loss: 0.202, valid rmspe: 0.185\n"
     ]
    },
    {
     "name": "stderr",
     "output_type": "stream",
     "text": [
      "Training: 100%|██████████| 302/302 [00:13<00:00, 22.44it/s]\n",
      "Evaluating: 100%|██████████| 34/34 [00:01<00:00, 17.49it/s]\n",
      "Training:   0%|          | 0/302 [00:00<?, ?it/s]"
     ]
    },
    {
     "name": "stdout",
     "output_type": "stream",
     "text": [
      "epoch 42, train loss: 0.205, valid rmspe: 0.182\n"
     ]
    },
    {
     "name": "stderr",
     "output_type": "stream",
     "text": [
      "Training: 100%|██████████| 302/302 [00:12<00:00, 25.01it/s]\n",
      "Evaluating: 100%|██████████| 34/34 [00:01<00:00, 29.09it/s]\n",
      "Training:   0%|          | 0/302 [00:00<?, ?it/s]"
     ]
    },
    {
     "name": "stdout",
     "output_type": "stream",
     "text": [
      "epoch 43, train loss: 0.204, valid rmspe: 0.205\n"
     ]
    },
    {
     "name": "stderr",
     "output_type": "stream",
     "text": [
      "Training: 100%|██████████| 302/302 [00:12<00:00, 24.74it/s]\n",
      "Evaluating: 100%|██████████| 34/34 [00:01<00:00, 29.13it/s]\n",
      "Training:   0%|          | 0/302 [00:00<?, ?it/s]"
     ]
    },
    {
     "name": "stdout",
     "output_type": "stream",
     "text": [
      "epoch 44, train loss: 0.211, valid rmspe: 0.201\n"
     ]
    },
    {
     "name": "stderr",
     "output_type": "stream",
     "text": [
      "Training: 100%|██████████| 302/302 [00:12<00:00, 23.93it/s]\n",
      "Evaluating: 100%|██████████| 34/34 [00:01<00:00, 29.34it/s]\n",
      "Training:   0%|          | 0/302 [00:00<?, ?it/s]"
     ]
    },
    {
     "name": "stdout",
     "output_type": "stream",
     "text": [
      "epoch 45, train loss: 0.218, valid rmspe: 0.204\n",
      "Epoch    46: reducing learning rate of group 0 to 1.1400e-04.\n"
     ]
    },
    {
     "name": "stderr",
     "output_type": "stream",
     "text": [
      "Training: 100%|██████████| 302/302 [00:12<00:00, 25.01it/s]\n",
      "Evaluating: 100%|██████████| 34/34 [00:01<00:00, 26.37it/s]\n",
      "Training:   0%|          | 0/302 [00:00<?, ?it/s]"
     ]
    },
    {
     "name": "stdout",
     "output_type": "stream",
     "text": [
      "epoch 46, train loss: 0.201, valid rmspe: 0.182\n",
      "new best:0.1816081404685974\n"
     ]
    },
    {
     "name": "stderr",
     "output_type": "stream",
     "text": [
      "Training: 100%|██████████| 302/302 [00:12<00:00, 23.81it/s]\n",
      "Evaluating: 100%|██████████| 34/34 [00:01<00:00, 29.39it/s]\n",
      "Training:   0%|          | 0/302 [00:00<?, ?it/s]"
     ]
    },
    {
     "name": "stdout",
     "output_type": "stream",
     "text": [
      "epoch 47, train loss: 0.199, valid rmspe: 0.182\n",
      "new best:0.18159614503383636\n"
     ]
    },
    {
     "name": "stderr",
     "output_type": "stream",
     "text": [
      "Training: 100%|██████████| 302/302 [00:12<00:00, 24.99it/s]\n",
      "Evaluating: 100%|██████████| 34/34 [00:01<00:00, 29.27it/s]\n",
      "Training:   0%|          | 0/302 [00:00<?, ?it/s]"
     ]
    },
    {
     "name": "stdout",
     "output_type": "stream",
     "text": [
      "epoch 48, train loss: 0.196, valid rmspe: 0.193\n"
     ]
    },
    {
     "name": "stderr",
     "output_type": "stream",
     "text": [
      "Training: 100%|██████████| 302/302 [00:12<00:00, 24.85it/s]\n",
      "Evaluating: 100%|██████████| 34/34 [00:01<00:00, 28.95it/s]\n"
     ]
    },
    {
     "name": "stdout",
     "output_type": "stream",
     "text": [
      "epoch 49, train loss: 0.196, valid rmspe: 0.182\n",
      "total 3 models will be used.\n"
     ]
    }
   ],
   "source": [
    "device = torch.device('cuda' if torch.cuda.is_available() else 'cpu')\n",
    "print(device)\n",
    "\n",
    "del df, df_train\n",
    "gc.collect()\n",
    "\n",
    "if PREDICT_MLP:\n",
    "    model_paths = []\n",
    "    \n",
    "    if SHORTCUT_NN_IN_1ST_STAGE and IS_1ST_STAGE:\n",
    "        epochs = 3\n",
    "        valid_th = 100\n",
    "    else:\n",
    "        epochs = 30\n",
    "        valid_th = NN_VALID_TH\n",
    "    \n",
    "    for i in range(NN_NUM_MODELS):\n",
    "        # MLP\n",
    "        nn_losses, nn_preds, scaler = train_nn(X, y, \n",
    "                                                 [folds[-1]], \n",
    "                                                 device=device, \n",
    "                                                 batch_size=512,\n",
    "                                                 mlp_bn=True,\n",
    "                                                 mlp_hidden=256,\n",
    "                                                 mlp_dropout=0.0,\n",
    "                                                 emb_dim=30,\n",
    "                                                 epochs=epochs,\n",
    "                                                 lr=0.002,\n",
    "                                                 max_lr=0.0055,\n",
    "                                                 weight_decay=1e-7,\n",
    "                                                model_path='mlp_fold_{}' + f\"_seed{i}.pth\",\n",
    "                                                seed=i)\n",
    "        print(nn_losses)\n",
    "        if nn_losses[0] < NN_VALID_TH:\n",
    "            print(f'model of seed {i} added.')\n",
    "            model_paths.append(f'artifacts/mlp_fold_0_seed{i}.pth')\n",
    "    mlp_model = [torch.load(path, device) for path in model_paths]\n",
    "    \n",
    "    print(f'total {len(mlp_model)} models will be used.')\n",
    "if PREDICT_CNN:\n",
    "    model_paths = []\n",
    "        \n",
    "    if SHORTCUT_NN_IN_1ST_STAGE and IS_1ST_STAGE:\n",
    "        epochs = 3\n",
    "        valid_th = 100\n",
    "    else:\n",
    "        epochs = 50\n",
    "        valid_th = NN_VALID_TH\n",
    "\n",
    "    for i in range(NN_NUM_MODELS):\n",
    "        nn_losses, nn_preds, scaler = train_nn(X, y, \n",
    "                                               [folds[-1]], \n",
    "                                               device=device, \n",
    "                                               cnn_hidden=8*128,\n",
    "                                                  batch_size=1280,\n",
    "                                                  model_type='cnn',\n",
    "                                                  emb_dim=30,\n",
    "                                                  epochs=epochs, #epochs,\n",
    "                                                  cnn_channel1=128,\n",
    "                                                  cnn_channel2=3*128,\n",
    "                                                  cnn_channel3=3*128,\n",
    "                                                  lr=0.00038, #0.0011,\n",
    "                                                  #scaler_type=scaler_type,\n",
    "                                                  max_lr=0.0013,\n",
    "                                                  weight_decay=6.5e-6,\n",
    "                                                optimizer_type='adam',\n",
    "                                               scheduler_type='reduce',\n",
    "                                                model_path='cnn_fold_{}' + f\"_seed{i}.pth\",\n",
    "                                                seed=i,\n",
    "                                              cnn_dropout=0.0,\n",
    "                                              cnn_weight_norm=True,\n",
    "                                              cnn_leaky_relu=False,\n",
    "                                              patience=8,\n",
    "                                              factor=0.3)\n",
    "        if nn_losses[0] < valid_th:\n",
    "            model_paths.append(f'artifacts/cnn_fold_0_seed{i}.pth')\n",
    "    cnn_model = [torch.load(path, device) for path in model_paths]\n",
    "        \n",
    "    print(f'total {len(cnn_model)} models will be used.')"
   ]
  },
  {
   "cell_type": "code",
   "execution_count": 18,
   "id": "6506436d",
   "metadata": {
    "execution": {
     "iopub.execute_input": "2021-09-23T02:24:07.779495Z",
     "iopub.status.busy": "2021-09-23T02:24:07.778672Z",
     "iopub.status.idle": "2021-09-23T02:24:07.782263Z",
     "shell.execute_reply": "2021-09-23T02:24:07.782682Z"
    },
    "papermill": {
     "duration": 7.434353,
     "end_time": "2021-09-23T02:24:07.782824",
     "exception": false,
     "start_time": "2021-09-23T02:24:00.348471",
     "status": "completed"
    },
    "tags": []
   },
   "outputs": [
    {
     "data": {
      "text/plain": [
       "20"
      ]
     },
     "execution_count": 18,
     "metadata": {},
     "output_type": "execute_result"
    }
   ],
   "source": [
    "del X, y\n",
    "gc.collect()"
   ]
  },
  {
   "cell_type": "markdown",
   "id": "5ecef2be",
   "metadata": {
    "papermill": {
     "duration": 7.34679,
     "end_time": "2021-09-23T02:24:22.137442",
     "exception": false,
     "start_time": "2021-09-23T02:24:14.790652",
     "status": "completed"
    },
    "tags": []
   },
   "source": [
    "## Inference"
   ]
  },
  {
   "cell_type": "code",
   "execution_count": 19,
   "id": "b3163271",
   "metadata": {
    "execution": {
     "iopub.execute_input": "2021-09-23T02:24:37.028469Z",
     "iopub.status.busy": "2021-09-23T02:24:37.026346Z",
     "iopub.status.idle": "2021-09-23T02:24:37.031315Z",
     "shell.execute_reply": "2021-09-23T02:24:37.031737Z"
    },
    "papermill": {
     "duration": 7.166918,
     "end_time": "2021-09-23T02:24:37.031892",
     "exception": false,
     "start_time": "2021-09-23T02:24:29.864974",
     "status": "completed"
    },
    "tags": []
   },
   "outputs": [
    {
     "name": "stdout",
     "output_type": "stream",
     "text": [
      "(3, 584)\n"
     ]
    }
   ],
   "source": [
    "X_test = get_X(df_test)\n",
    "print(X_test.shape)"
   ]
  },
  {
   "cell_type": "code",
   "execution_count": 20,
   "id": "9a0b5e13",
   "metadata": {
    "execution": {
     "iopub.execute_input": "2021-09-23T02:24:51.660250Z",
     "iopub.status.busy": "2021-09-23T02:24:51.654964Z",
     "iopub.status.idle": "2021-09-23T02:24:52.271970Z",
     "shell.execute_reply": "2021-09-23T02:24:52.271485Z"
    },
    "papermill": {
     "duration": 7.880155,
     "end_time": "2021-09-23T02:24:52.272112",
     "exception": false,
     "start_time": "2021-09-23T02:24:44.391957",
     "status": "completed"
    },
    "tags": []
   },
   "outputs": [
    {
     "name": "stderr",
     "output_type": "stream",
     "text": [
      "Evaluating: 100%|██████████| 1/1 [00:00<00:00,  3.56it/s]\n",
      "Evaluating: 100%|██████████| 1/1 [00:00<00:00,  3.56it/s]"
     ]
    },
    {
     "name": "stdout",
     "output_type": "stream",
     "text": [
      "use gbdt + mlp + cnn\n"
     ]
    },
    {
     "name": "stderr",
     "output_type": "stream",
     "text": [
      "\n"
     ]
    }
   ],
   "source": [
    "import traceback\n",
    "\n",
    "df_pred = pd.DataFrame()\n",
    "df_pred['row_id'] = df_test['stock_id'].astype(str) + '-' + df_test['time_id'].astype(str)\n",
    "\n",
    "if PREDICT_GBDT:\n",
    "    if TRAIN_FULL:\n",
    "        gbdt_preds = booster.predict(X_test)\n",
    "    else:\n",
    "        try:\n",
    "            n_models = len(ret['cvbooster'].boosters)\n",
    "            gbdt_preds = np.mean(np.array([b.predict(X_test) for b in ret['cvbooster'].boosters]), axis=0)\n",
    "        except:\n",
    "            gbdt_preds = None\n",
    "else:\n",
    "    gbdt_preds = None\n",
    "\n",
    "if PREDICT_MLP and mlp_model:\n",
    "    try:\n",
    "        mlp_preds = predict_nn(X_test, mlp_model, scaler, device, ensemble_method=ENSEMBLE_METHOD)\n",
    "    except:\n",
    "        print(f'failed to predict mlp: {traceback.format_exc()}')\n",
    "        mlp_preds = None\n",
    "else:\n",
    "    mlp_preds = None\n",
    "\n",
    "if PREDICT_CNN and cnn_model:\n",
    "    try:\n",
    "        cnn_preds = predict_nn(X_test, cnn_model, scaler, device, ensemble_method=ENSEMBLE_METHOD)\n",
    "    except:\n",
    "        print(f'failed to predict cnn: {traceback.format_exc()}')\n",
    "        cnn_preds = None\n",
    "else:\n",
    "    cnn_preds = None\n",
    "\n",
    "if gbdt_preds is not None and mlp_preds is not None and cnn_preds is not None:\n",
    "    print('use gbdt + mlp + cnn')\n",
    "    df_pred['target'] = (gbdt_preds + mlp_preds + cnn_preds) / 3\n",
    "elif gbdt_preds is not None and mlp_preds is not None:\n",
    "    print('use gbdt + mlp')\n",
    "    df_pred['target'] = (gbdt_preds + mlp_preds) / 2\n",
    "elif gbdt_preds is not None and cnn_preds is not None:\n",
    "    print('use mlp + cnn')\n",
    "    df_pred['target'] = (gbdt_preds + cnn_preds) / 2\n",
    "elif mlp_preds is not None:\n",
    "    print('mlp')\n",
    "    df_pred['target'] = mlp_preds\n",
    "elif cnn_preds is not None:\n",
    "    print('cnn')\n",
    "    df_pred['target'] = cnn_preds\n",
    "elif gbdt_preds is not None:\n",
    "    print('gbdt')\n",
    "    df_pred['target'] = gbdt_preds\n",
    "else:\n",
    "    raise NotImplementedError()"
   ]
  },
  {
   "cell_type": "code",
   "execution_count": 21,
   "id": "2e7c3a7b",
   "metadata": {
    "execution": {
     "iopub.execute_input": "2021-09-23T02:25:07.122170Z",
     "iopub.status.busy": "2021-09-23T02:25:07.121527Z",
     "iopub.status.idle": "2021-09-23T02:25:07.145179Z",
     "shell.execute_reply": "2021-09-23T02:25:07.144731Z"
    },
    "papermill": {
     "duration": 7.868176,
     "end_time": "2021-09-23T02:25:07.145301",
     "exception": false,
     "start_time": "2021-09-23T02:24:59.277125",
     "status": "completed"
    },
    "tags": []
   },
   "outputs": [],
   "source": [
    "sub = pd.read_csv(os.path.join(DATA_DIR, 'optiver-realized-volatility-prediction', 'sample_submission.csv'))\n",
    "submission = pd.merge(sub[['row_id']], df_pred[['row_id', 'target']], how='left')\n",
    "submission['target'] = submission['target'].fillna(0)\n",
    "submission.to_csv('submission.csv', index=False)"
   ]
  }
 ],
 "metadata": {
  "kernelspec": {
   "display_name": "Python 3",
   "language": "python",
   "name": "python3"
  },
  "language_info": {
   "codemirror_mode": {
    "name": "ipython",
    "version": 3
   },
   "file_extension": ".py",
   "mimetype": "text/x-python",
   "name": "python",
   "nbconvert_exporter": "python",
   "pygments_lexer": "ipython3",
   "version": "3.7.10"
  },
  "papermill": {
   "default_parameters": {},
   "duration": 6823.863003,
   "end_time": "2021-09-23T02:25:16.827804",
   "environment_variables": {},
   "exception": null,
   "input_path": "__notebook__.ipynb",
   "output_path": "__notebook__.ipynb",
   "parameters": {},
   "start_time": "2021-09-23T00:31:32.964801",
   "version": "2.3.3"
  }
 },
 "nbformat": 4,
 "nbformat_minor": 5
}
